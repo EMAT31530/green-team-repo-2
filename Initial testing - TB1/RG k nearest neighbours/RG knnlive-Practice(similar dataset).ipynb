{
 "cells": [
  {
   "cell_type": "markdown",
   "metadata": {},
   "source": [
    "This works with labeling new piece of data by looking at distance from other training-datas data points and finding k nearest relevant points. Then finding average label associated with them and then assigns that label to new point."
   ]
  },
  {
   "cell_type": "markdown",
   "metadata": {},
   "source": [
    "## Ballance Scale dataset"
   ]
  },
  {
   "cell_type": "code",
   "execution_count": 30,
   "metadata": {},
   "outputs": [],
   "source": [
    "import numpy as np # numbers\n",
    "import pandas as pd #data\n",
    "import matplotlib.pyplot as plt #graphs"
   ]
  },
  {
   "cell_type": "code",
   "execution_count": 31,
   "metadata": {},
   "outputs": [
    {
     "data": {
      "text/html": [
       "<div>\n",
       "<style scoped>\n",
       "    .dataframe tbody tr th:only-of-type {\n",
       "        vertical-align: middle;\n",
       "    }\n",
       "\n",
       "    .dataframe tbody tr th {\n",
       "        vertical-align: top;\n",
       "    }\n",
       "\n",
       "    .dataframe thead th {\n",
       "        text-align: right;\n",
       "    }\n",
       "</style>\n",
       "<table border=\"1\" class=\"dataframe\">\n",
       "  <thead>\n",
       "    <tr style=\"text-align: right;\">\n",
       "      <th></th>\n",
       "      <th>0</th>\n",
       "      <th>1</th>\n",
       "      <th>2</th>\n",
       "      <th>3</th>\n",
       "      <th>4</th>\n",
       "    </tr>\n",
       "  </thead>\n",
       "  <tbody>\n",
       "    <tr>\n",
       "      <td>0</td>\n",
       "      <td>B</td>\n",
       "      <td>1</td>\n",
       "      <td>1</td>\n",
       "      <td>1</td>\n",
       "      <td>1</td>\n",
       "    </tr>\n",
       "    <tr>\n",
       "      <td>1</td>\n",
       "      <td>R</td>\n",
       "      <td>1</td>\n",
       "      <td>1</td>\n",
       "      <td>1</td>\n",
       "      <td>2</td>\n",
       "    </tr>\n",
       "    <tr>\n",
       "      <td>2</td>\n",
       "      <td>R</td>\n",
       "      <td>1</td>\n",
       "      <td>1</td>\n",
       "      <td>1</td>\n",
       "      <td>3</td>\n",
       "    </tr>\n",
       "    <tr>\n",
       "      <td>3</td>\n",
       "      <td>R</td>\n",
       "      <td>1</td>\n",
       "      <td>1</td>\n",
       "      <td>1</td>\n",
       "      <td>4</td>\n",
       "    </tr>\n",
       "    <tr>\n",
       "      <td>4</td>\n",
       "      <td>R</td>\n",
       "      <td>1</td>\n",
       "      <td>1</td>\n",
       "      <td>1</td>\n",
       "      <td>5</td>\n",
       "    </tr>\n",
       "    <tr>\n",
       "      <td>...</td>\n",
       "      <td>...</td>\n",
       "      <td>...</td>\n",
       "      <td>...</td>\n",
       "      <td>...</td>\n",
       "      <td>...</td>\n",
       "    </tr>\n",
       "    <tr>\n",
       "      <td>620</td>\n",
       "      <td>L</td>\n",
       "      <td>5</td>\n",
       "      <td>5</td>\n",
       "      <td>5</td>\n",
       "      <td>1</td>\n",
       "    </tr>\n",
       "    <tr>\n",
       "      <td>621</td>\n",
       "      <td>L</td>\n",
       "      <td>5</td>\n",
       "      <td>5</td>\n",
       "      <td>5</td>\n",
       "      <td>2</td>\n",
       "    </tr>\n",
       "    <tr>\n",
       "      <td>622</td>\n",
       "      <td>L</td>\n",
       "      <td>5</td>\n",
       "      <td>5</td>\n",
       "      <td>5</td>\n",
       "      <td>3</td>\n",
       "    </tr>\n",
       "    <tr>\n",
       "      <td>623</td>\n",
       "      <td>L</td>\n",
       "      <td>5</td>\n",
       "      <td>5</td>\n",
       "      <td>5</td>\n",
       "      <td>4</td>\n",
       "    </tr>\n",
       "    <tr>\n",
       "      <td>624</td>\n",
       "      <td>B</td>\n",
       "      <td>5</td>\n",
       "      <td>5</td>\n",
       "      <td>5</td>\n",
       "      <td>5</td>\n",
       "    </tr>\n",
       "  </tbody>\n",
       "</table>\n",
       "<p>625 rows × 5 columns</p>\n",
       "</div>"
      ],
      "text/plain": [
       "     0  1  2  3  4\n",
       "0    B  1  1  1  1\n",
       "1    R  1  1  1  2\n",
       "2    R  1  1  1  3\n",
       "3    R  1  1  1  4\n",
       "4    R  1  1  1  5\n",
       "..  .. .. .. .. ..\n",
       "620  L  5  5  5  1\n",
       "621  L  5  5  5  2\n",
       "622  L  5  5  5  3\n",
       "623  L  5  5  5  4\n",
       "624  B  5  5  5  5\n",
       "\n",
       "[625 rows x 5 columns]"
      ]
     },
     "execution_count": 31,
     "metadata": {},
     "output_type": "execute_result"
    }
   ],
   "source": [
    "data = pd.read_csv('https://archive.ics.uci.edu/ml/machine-learning-databases/balance-scale/balance-scale.data', header = None)\n",
    "data"
   ]
  },
  {
   "cell_type": "code",
   "execution_count": 32,
   "metadata": {},
   "outputs": [],
   "source": [
    "X = data.iloc[:, 1:].values #all rows and all collumns up until last\n",
    "y = data.iloc[:, 0].values #just last collumn\n",
    "#X\n",
    "#y"
   ]
  },
  {
   "cell_type": "code",
   "execution_count": 33,
   "metadata": {},
   "outputs": [],
   "source": [
    "import operator\n",
    "from pprint import pprint #short for pretty print\n",
    "\n",
    "def knn(X, y, test_point, k):\n",
    "    distances = [] #empty list (keeping track of distances and class in a list)\n",
    "    for i in range(len(X)):\n",
    "        distance = np.linalg.norm(X[i] - test_point) #keeping track of the distances\n",
    "        distances.append((y[i], X[i], distance)) #this keeps track of \n",
    "        #(label, data point, distance of that data point to that test point)\n",
    "    \n",
    "    distances.sort(key=operator.itemgetter(2)) #sort our list of distances by 3rd element element \n",
    "    #list of tuples, sorting a list of something more complicated than numbers\n",
    "    #sorted distance with smallest distance at the top of the list.\n",
    "    \n",
    "    #now we want to find the most frequent label,(ie y[i]), in the k nearest neighbours\n",
    "   \n",
    "    nn_labels = [] #list to keep track of this\n",
    "    for nn in distances[:k]: #iterate over first k distances (ie k smallest distances from testpoint)\n",
    "        nn_labels.append(nn[0]) #append to list the label y[i] for element\n",
    "        #iteration means in end we get a list of labels of each element in these first k distances\n",
    "    \n",
    "    from statistics import mode\n",
    "    y_hat = mode(nn_labels) #most common element of this list \n",
    "    #ie most common label for the the k nearest neighbours\n",
    "    \n",
    "    \n",
    "    print(\"Test point: \"+str(test_point))\n",
    "    print(\"Closest K neighbours\")\n",
    "    pprint(distances[:k]) #using pprint to print clearer\n",
    "    print(\"Furtherest K neighbours\")\n",
    "    pprint(distances[-k:]) #furthest k distances away, from -k to end of array\n",
    "    \n",
    "    return y_hat\n",
    "    \n",
    "    "
   ]
  },
  {
   "cell_type": "code",
   "execution_count": 34,
   "metadata": {},
   "outputs": [],
   "source": [
    "#testing on data point to see if its catagorised right\n",
    "idx = 5\n",
    "\n",
    "test_point = X[idx]\n",
    "test_point_label = y[idx]\n",
    "\n",
    "X = np.delete(X, idx, axis=0) \n",
    "#cardinal sin to train on testing set so delete this x from testing set X\n",
    "#delete row from x so not training on dataset"
   ]
  },
  {
   "cell_type": "code",
   "execution_count": 35,
   "metadata": {},
   "outputs": [
    {
     "name": "stdout",
     "output_type": "stream",
     "text": [
      "Test point: [1 1 2 1]\n",
      "Closest K neighbours\n",
      "[('B', array([1, 1, 1, 1]), 1.0)]\n",
      "Furtherest K neighbours\n",
      "[('L', array([5, 5, 5, 5]), 7.54983443527075)]\n",
      "Prediction: B\n",
      "Actual: R\n"
     ]
    }
   ],
   "source": [
    "#test where now \n",
    "y_hat = knn(X, y, test_point, 1) #1 nearest neighbours\n",
    "print(\"Prediction: \"+str(y_hat))\n",
    "print(\"Actual: \"+str(y[idx]))"
   ]
  },
  {
   "cell_type": "code",
   "execution_count": 36,
   "metadata": {},
   "outputs": [
    {
     "name": "stdout",
     "output_type": "stream",
     "text": [
      "Test point: [1 1 2 1]\n",
      "Closest K neighbours\n",
      "[('B', array([1, 1, 1, 1]), 1.0),\n",
      " ('R', array([1, 1, 2, 2]), 1.0),\n",
      " ('R', array([1, 1, 3, 1]), 1.0)]\n",
      "Furtherest K neighbours\n",
      "[('L', array([5, 5, 5, 4]), 7.0710678118654755),\n",
      " ('L', array([5, 5, 4, 5]), 7.211102550927978),\n",
      " ('L', array([5, 5, 5, 5]), 7.54983443527075)]\n",
      "Prediction: R\n",
      "Actual: R\n"
     ]
    }
   ],
   "source": [
    "#test where now \n",
    "y_hat = knn(X, y, test_point, 3) #3 nearest neighbours\n",
    "print(\"Prediction: \"+str(y_hat))\n",
    "print(\"Actual: \"+str(y[idx]))"
   ]
  },
  {
   "cell_type": "code",
   "execution_count": 37,
   "metadata": {},
   "outputs": [
    {
     "name": "stdout",
     "output_type": "stream",
     "text": [
      "Test point: [1 1 2 1]\n",
      "Closest K neighbours\n",
      "[('B', array([1, 1, 1, 1]), 1.0),\n",
      " ('R', array([1, 1, 2, 2]), 1.0),\n",
      " ('R', array([1, 1, 3, 1]), 1.0),\n",
      " ('R', array([1, 2, 2, 1]), 1.0),\n",
      " ('R', array([2, 1, 2, 1]), 1.0),\n",
      " ('R', array([1, 1, 1, 2]), 1.4142135623730951),\n",
      " ('R', array([1, 1, 3, 2]), 1.4142135623730951),\n",
      " ('R', array([1, 2, 1, 1]), 1.4142135623730951),\n",
      " ('B', array([1, 2, 2, 2]), 1.4142135623730951),\n",
      " ('R', array([1, 2, 3, 1]), 1.4142135623730951)]\n",
      "Furtherest K neighbours\n",
      "[('L', array([5, 5, 4, 4]), 6.708203932499369),\n",
      " ('L', array([5, 5, 5, 3]), 6.708203932499369),\n",
      " ('L', array([5, 5, 2, 5]), 6.928203230275509),\n",
      " ('L', array([5, 5, 1, 5]), 7.0),\n",
      " ('L', array([5, 5, 3, 5]), 7.0),\n",
      " ('B', array([4, 5, 5, 5]), 7.0710678118654755),\n",
      " ('B', array([5, 4, 5, 5]), 7.0710678118654755),\n",
      " ('L', array([5, 5, 5, 4]), 7.0710678118654755),\n",
      " ('L', array([5, 5, 4, 5]), 7.211102550927978),\n",
      " ('L', array([5, 5, 5, 5]), 7.54983443527075)]\n",
      "Prediction: R\n",
      "Actual: R\n"
     ]
    }
   ],
   "source": [
    "#test where now \n",
    "y_hat = knn(X, y, test_point, 10) #10 nearest neighbours\n",
    "print(\"Prediction: \"+str(y_hat))\n",
    "print(\"Actual: \"+str(y[idx]))"
   ]
  }
 ],
 "metadata": {
  "kernelspec": {
   "display_name": "Python 3",
   "language": "python",
   "name": "python3"
  },
  "language_info": {
   "codemirror_mode": {
    "name": "ipython",
    "version": 3
   },
   "file_extension": ".py",
   "mimetype": "text/x-python",
   "name": "python",
   "nbconvert_exporter": "python",
   "pygments_lexer": "ipython3",
   "version": "3.7.4"
  }
 },
 "nbformat": 4,
 "nbformat_minor": 2
}
