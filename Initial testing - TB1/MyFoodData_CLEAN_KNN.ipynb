{
 "cells": [
  {
   "cell_type": "code",
   "execution_count": 1,
   "metadata": {},
   "outputs": [],
   "source": [
    "import numpy as np\n",
    "import pandas as pd\n",
    "import matplotlib.pyplot as plt\n",
    "import sklearn\n",
    "\n",
    "try:\n",
    "    import openpyxl\n",
    "except:\n",
    "    get_ipython().system('pip install openpyxl')\n",
    "    import openpyxl"
   ]
  },
  {
   "cell_type": "code",
   "execution_count": 2,
   "metadata": {},
   "outputs": [],
   "source": [
    "data = pd.read_excel('https://www.myfooddata.com/spreadsheets/MyFoodData-Nutrition-Facts-SpreadSheet-Release-1-4.xlsx', header=3, usecols=\"B:I\")"
   ]
  },
  {
   "cell_type": "code",
   "execution_count": 3,
   "metadata": {},
   "outputs": [
    {
     "data": {
      "text/html": [
       "<div>\n",
       "<style scoped>\n",
       "    .dataframe tbody tr th:only-of-type {\n",
       "        vertical-align: middle;\n",
       "    }\n",
       "\n",
       "    .dataframe tbody tr th {\n",
       "        vertical-align: top;\n",
       "    }\n",
       "\n",
       "    .dataframe thead th {\n",
       "        text-align: right;\n",
       "    }\n",
       "</style>\n",
       "<table border=\"1\" class=\"dataframe\">\n",
       "  <thead>\n",
       "    <tr style=\"text-align: right;\">\n",
       "      <th></th>\n",
       "      <th>name</th>\n",
       "      <th>Food Group</th>\n",
       "      <th>Calories</th>\n",
       "      <th>Fat (g)</th>\n",
       "      <th>Protein (g)</th>\n",
       "      <th>Carbohydrate (g)</th>\n",
       "      <th>Sugars (g)</th>\n",
       "      <th>Fiber (g)</th>\n",
       "    </tr>\n",
       "  </thead>\n",
       "  <tbody>\n",
       "    <tr>\n",
       "      <th>0</th>\n",
       "      <td>Pillsbury Golden Layer Buttermilk Biscuits Art...</td>\n",
       "      <td>Baked Foods</td>\n",
       "      <td>307.0</td>\n",
       "      <td>13.24</td>\n",
       "      <td>5.88</td>\n",
       "      <td>41.18</td>\n",
       "      <td>5.88</td>\n",
       "      <td>1.2</td>\n",
       "    </tr>\n",
       "    <tr>\n",
       "      <th>1</th>\n",
       "      <td>Pillsbury Cinnamon Rolls With Icing Refrigerat...</td>\n",
       "      <td>Baked Foods</td>\n",
       "      <td>330.0</td>\n",
       "      <td>11.27</td>\n",
       "      <td>4.34</td>\n",
       "      <td>53.42</td>\n",
       "      <td>21.34</td>\n",
       "      <td>1.4</td>\n",
       "    </tr>\n",
       "    <tr>\n",
       "      <th>4</th>\n",
       "      <td>Waffles Buttermilk Frozen Ready-To-Heat</td>\n",
       "      <td>Baked Foods</td>\n",
       "      <td>273.0</td>\n",
       "      <td>9.22</td>\n",
       "      <td>6.58</td>\n",
       "      <td>41.05</td>\n",
       "      <td>4.30</td>\n",
       "      <td>2.2</td>\n",
       "    </tr>\n",
       "    <tr>\n",
       "      <th>5</th>\n",
       "      <td>Waffle Buttermilk Frozen Ready-To-Heat Toasted</td>\n",
       "      <td>Baked Foods</td>\n",
       "      <td>309.0</td>\n",
       "      <td>9.49</td>\n",
       "      <td>7.42</td>\n",
       "      <td>48.39</td>\n",
       "      <td>4.41</td>\n",
       "      <td>2.6</td>\n",
       "    </tr>\n",
       "    <tr>\n",
       "      <th>6</th>\n",
       "      <td>Waffle Buttermilk Frozen Ready-To-Heat Microwaved</td>\n",
       "      <td>Baked Foods</td>\n",
       "      <td>289.0</td>\n",
       "      <td>9.40</td>\n",
       "      <td>6.92</td>\n",
       "      <td>44.16</td>\n",
       "      <td>4.50</td>\n",
       "      <td>2.4</td>\n",
       "    </tr>\n",
       "    <tr>\n",
       "      <th>...</th>\n",
       "      <td>...</td>\n",
       "      <td>...</td>\n",
       "      <td>...</td>\n",
       "      <td>...</td>\n",
       "      <td>...</td>\n",
       "      <td>...</td>\n",
       "      <td>...</td>\n",
       "      <td>...</td>\n",
       "    </tr>\n",
       "    <tr>\n",
       "      <th>14154</th>\n",
       "      <td>Nutritional Drink Or Shake Ready-To-Drink Ligh...</td>\n",
       "      <td>Beverages</td>\n",
       "      <td>38.0</td>\n",
       "      <td>1.15</td>\n",
       "      <td>4.78</td>\n",
       "      <td>2.10</td>\n",
       "      <td>0.38</td>\n",
       "      <td>0.2</td>\n",
       "    </tr>\n",
       "    <tr>\n",
       "      <th>14155</th>\n",
       "      <td>Nutritional Drink Or Shake High Protein Ready-...</td>\n",
       "      <td>Beverages</td>\n",
       "      <td>58.0</td>\n",
       "      <td>2.88</td>\n",
       "      <td>6.59</td>\n",
       "      <td>0.85</td>\n",
       "      <td>0.60</td>\n",
       "      <td>0.4</td>\n",
       "    </tr>\n",
       "    <tr>\n",
       "      <th>14156</th>\n",
       "      <td>Nutritional Drink Or Shake High Protein Ready-...</td>\n",
       "      <td>Beverages</td>\n",
       "      <td>58.0</td>\n",
       "      <td>2.88</td>\n",
       "      <td>6.59</td>\n",
       "      <td>0.85</td>\n",
       "      <td>0.60</td>\n",
       "      <td>0.4</td>\n",
       "    </tr>\n",
       "    <tr>\n",
       "      <th>14157</th>\n",
       "      <td>Nutritional Powder Mix (Kellogg's Special K20 ...</td>\n",
       "      <td>Baby Foods</td>\n",
       "      <td>380.0</td>\n",
       "      <td>0.60</td>\n",
       "      <td>35.20</td>\n",
       "      <td>58.40</td>\n",
       "      <td>2.00</td>\n",
       "      <td>37.5</td>\n",
       "    </tr>\n",
       "    <tr>\n",
       "      <th>14158</th>\n",
       "      <td>Fluid Replacement 5% Glucose In Water</td>\n",
       "      <td>Beverages</td>\n",
       "      <td>18.0</td>\n",
       "      <td>0.00</td>\n",
       "      <td>0.00</td>\n",
       "      <td>5.00</td>\n",
       "      <td>4.64</td>\n",
       "      <td>0.0</td>\n",
       "    </tr>\n",
       "  </tbody>\n",
       "</table>\n",
       "<p>12202 rows × 8 columns</p>\n",
       "</div>"
      ],
      "text/plain": [
       "                                                    name   Food Group  \\\n",
       "0      Pillsbury Golden Layer Buttermilk Biscuits Art...  Baked Foods   \n",
       "1      Pillsbury Cinnamon Rolls With Icing Refrigerat...  Baked Foods   \n",
       "4                Waffles Buttermilk Frozen Ready-To-Heat  Baked Foods   \n",
       "5         Waffle Buttermilk Frozen Ready-To-Heat Toasted  Baked Foods   \n",
       "6      Waffle Buttermilk Frozen Ready-To-Heat Microwaved  Baked Foods   \n",
       "...                                                  ...          ...   \n",
       "14154  Nutritional Drink Or Shake Ready-To-Drink Ligh...    Beverages   \n",
       "14155  Nutritional Drink Or Shake High Protein Ready-...    Beverages   \n",
       "14156  Nutritional Drink Or Shake High Protein Ready-...    Beverages   \n",
       "14157  Nutritional Powder Mix (Kellogg's Special K20 ...   Baby Foods   \n",
       "14158              Fluid Replacement 5% Glucose In Water    Beverages   \n",
       "\n",
       "       Calories  Fat (g)  Protein (g)  Carbohydrate (g)  Sugars (g)  Fiber (g)  \n",
       "0         307.0    13.24         5.88             41.18        5.88        1.2  \n",
       "1         330.0    11.27         4.34             53.42       21.34        1.4  \n",
       "4         273.0     9.22         6.58             41.05        4.30        2.2  \n",
       "5         309.0     9.49         7.42             48.39        4.41        2.6  \n",
       "6         289.0     9.40         6.92             44.16        4.50        2.4  \n",
       "...         ...      ...          ...               ...         ...        ...  \n",
       "14154      38.0     1.15         4.78              2.10        0.38        0.2  \n",
       "14155      58.0     2.88         6.59              0.85        0.60        0.4  \n",
       "14156      58.0     2.88         6.59              0.85        0.60        0.4  \n",
       "14157     380.0     0.60        35.20             58.40        2.00       37.5  \n",
       "14158      18.0     0.00         0.00              5.00        4.64        0.0  \n",
       "\n",
       "[12202 rows x 8 columns]"
      ]
     },
     "execution_count": 3,
     "metadata": {},
     "output_type": "execute_result"
    }
   ],
   "source": [
    "#removing the NANs from the dataset for food groups and other values\n",
    "#data = data[data['Food Group'].notna()]\n",
    "data_clean = data.dropna(subset=['Food Group', 'Protein (g)','Sugars (g)', 'Fiber (g)'])\n",
    "data_clean"
   ]
  },
  {
   "cell_type": "code",
   "execution_count": 20,
   "metadata": {},
   "outputs": [
    {
     "name": "stdout",
     "output_type": "stream",
     "text": [
      "[['Pillsbury Golden Layer Buttermilk Biscuits Artificial Flavor Refrigerated Dough'\n",
      "  307.0 13.24 ... 41.18 5.88 1.2]\n",
      " ['Pillsbury Cinnamon Rolls With Icing Refrigerated Dough' 330.0 11.27\n",
      "  ... 53.42 21.34 1.4]\n",
      " ['Waffles Buttermilk Frozen Ready-To-Heat' 273.0 9.22 ... 41.05 4.3 2.2]\n",
      " ...\n",
      " ['Nutritional Drink Or Shake High Protein Ready-To-Drink Nfs' 58.0 2.88\n",
      "  ... 0.85 0.6 0.4]\n",
      " [\"Nutritional Powder Mix (Kellogg's Special K20 Protein Water)\" 380.0\n",
      "  0.6 ... 58.4 2.0 37.5]\n",
      " ['Fluid Replacement 5% Glucose In Water' 18.0 0.0 ... 5.0 4.64 0.0]]\n",
      "['Baked Foods' 'Baked Foods' 'Baked Foods' ... 'Beverages' 'Baby Foods'\n",
      " 'Beverages']\n"
     ]
    }
   ],
   "source": [
    "# y is the list of food groups \n",
    "y = data_clean.iloc[:, 1].values\n",
    "\n",
    "# x is the labels and nutritional values \n",
    "X = data_clean.iloc[:, [0,2,3,4,5,6,7]].values\n",
    "\n",
    "print(X)\n",
    "print(y)"
   ]
  },
  {
   "cell_type": "code",
   "execution_count": 21,
   "metadata": {},
   "outputs": [],
   "source": [
    "#Food_Groups = np.reshape(y, (-1, 1))\n",
    "#Food_Groups"
   ]
  },
  {
   "cell_type": "code",
   "execution_count": 22,
   "metadata": {},
   "outputs": [],
   "source": [
    "#inputting to encode but not used \n",
    "#Food_Group = (['American Indian', 'Baby Foods', 'Baked Foods', 'Beans and Lentils', 'Beverages', 'Breakfast Cereals','Dairy and Egg Products', 'Fast Foods', 'Fats and Oils', 'Fish', 'Fruits', 'Grains and Pasta', 'Meats', 'Nuts and Seeds', 'Prepared Meals', 'Restaurant Foods', 'Snacks', 'Soups and Sauces', 'Spices and Herbs', 'Sweets', 'Vegetables'])\n",
    "#Food_Group"
   ]
  },
  {
   "cell_type": "code",
   "execution_count": 23,
   "metadata": {},
   "outputs": [
    {
     "data": {
      "text/plain": [
       "LabelEncoder()"
      ]
     },
     "execution_count": 23,
     "metadata": {},
     "output_type": "execute_result"
    }
   ],
   "source": [
    "from sklearn import preprocessing\n",
    "\n",
    "# like \"importing the LabelEncoder as le\"\n",
    "# fitting the label encoder to y\n",
    "le = preprocessing.LabelEncoder()\n",
    "le.fit(y)"
   ]
  },
  {
   "cell_type": "code",
   "execution_count": 24,
   "metadata": {},
   "outputs": [
    {
     "data": {
      "text/plain": [
       "['American Indian',\n",
       " 'Baby Foods',\n",
       " 'Baked Foods',\n",
       " 'Beans and Lentils',\n",
       " 'Beverages',\n",
       " 'Breakfast Cereals',\n",
       " 'Dairy and Egg Products',\n",
       " 'Dairy and Egg Products ',\n",
       " 'Fast Foods',\n",
       " 'Fats and Oils',\n",
       " 'Fish',\n",
       " 'Fruits',\n",
       " 'Grains and Pasta',\n",
       " 'Meats',\n",
       " 'Nuts and Seeds',\n",
       " 'Prepared Meals',\n",
       " 'Restaurant Foods',\n",
       " 'Snacks',\n",
       " 'Soups and Sauces',\n",
       " 'Spices and Herbs',\n",
       " 'Sweets',\n",
       " 'Vegetables']"
      ]
     },
     "execution_count": 24,
     "metadata": {},
     "output_type": "execute_result"
    }
   ],
   "source": [
    "# listing the different classes (i.e all the food groups) in y\n",
    "Food_Groups = list(le.classes_)\n",
    "Food_Groups"
   ]
  },
  {
   "cell_type": "code",
   "execution_count": 25,
   "metadata": {},
   "outputs": [
    {
     "data": {
      "text/plain": [
       "array([ 0,  1,  2,  3,  4,  5,  6,  7,  8,  9, 10, 11, 12, 13, 14, 15, 16,\n",
       "       17, 18, 19, 20, 21])"
      ]
     },
     "execution_count": 25,
     "metadata": {},
     "output_type": "execute_result"
    }
   ],
   "source": [
    "# labelling all the food groups with numerical values\n",
    "labels = le.transform(Food_Groups)\n",
    "labels"
   ]
  },
  {
   "cell_type": "code",
   "execution_count": 26,
   "metadata": {},
   "outputs": [
    {
     "data": {
      "text/plain": [
       "['American Indian',\n",
       " 'Baby Foods',\n",
       " 'Baked Foods',\n",
       " 'Beans and Lentils',\n",
       " 'Beverages',\n",
       " 'Breakfast Cereals',\n",
       " 'Dairy and Egg Products',\n",
       " 'Dairy and Egg Products ',\n",
       " 'Fast Foods',\n",
       " 'Fats and Oils',\n",
       " 'Fish',\n",
       " 'Fruits',\n",
       " 'Grains and Pasta',\n",
       " 'Meats',\n",
       " 'Nuts and Seeds',\n",
       " 'Prepared Meals',\n",
       " 'Restaurant Foods',\n",
       " 'Snacks',\n",
       " 'Soups and Sauces',\n",
       " 'Spices and Herbs',\n",
       " 'Sweets',\n",
       " 'Vegetables']"
      ]
     },
     "execution_count": 26,
     "metadata": {},
     "output_type": "execute_result"
    }
   ],
   "source": [
    "# demonstrating how the numerical labels can be converted back to the original labels\n",
    "list(le.inverse_transform(labels))"
   ]
  },
  {
   "cell_type": "code",
   "execution_count": 27,
   "metadata": {},
   "outputs": [
    {
     "data": {
      "text/plain": [
       "array([2, 2, 2, ..., 4, 1, 4])"
      ]
     },
     "execution_count": 27,
     "metadata": {},
     "output_type": "execute_result"
    }
   ],
   "source": [
    "# here is our y values, our original Food Group column has been converted to the numerical labels \n",
    "y = le.transform(y)\n",
    "y"
   ]
  },
  {
   "cell_type": "markdown",
   "metadata": {},
   "source": [
    "# Implementing Nearest Neighbours algorithm\n"
   ]
  },
  {
   "cell_type": "code",
   "execution_count": 53,
   "metadata": {},
   "outputs": [],
   "source": [
    "from sklearn.model_selection import train_test_split\n",
    "\n",
    "X_train, X_test, y_train, y_test = train_test_split(X, y, test_size=0.25, random_state=42)"
   ]
  },
  {
   "cell_type": "code",
   "execution_count": 57,
   "metadata": {},
   "outputs": [
    {
     "name": "stdout",
     "output_type": "stream",
     "text": [
      "[['Chicken Leg Drumstick And Thigh Ns As To Cooking Method Skin Eaten'\n",
      "  218.0 13.63 ... 0.12 0.12 0.0]\n",
      " ['Bread Reduced-Calorie White' 207.0 2.5 ... 44.3 4.76 9.7]\n",
      " ['Half And Half Cream' 131.0 11.5 ... 4.3 4.13 0.0]\n",
      " ...\n",
      " ['Swisswurst Pork And Beef With Swiss Cheese Smoked' 307.0 27.37 ... 1.6\n",
      "  0.0 0.0]\n",
      " ['Beef Variety Meats And By-Products Brain Raw' 143.0 10.3 ... 1.05 0.0\n",
      "  0.0]\n",
      " ['Ceviche' 62.0 0.75 ... 3.58 1.36 0.5]]\n",
      "[13  2  6 ... 13 13 10]\n"
     ]
    }
   ],
   "source": [
    "print(X_train)\n",
    "print(y_train)"
   ]
  },
  {
   "cell_type": "code",
   "execution_count": 175,
   "metadata": {},
   "outputs": [
    {
     "data": {
      "text/plain": [
       "KNeighborsClassifier(n_neighbors=6, weights='distance')"
      ]
     },
     "execution_count": 175,
     "metadata": {},
     "output_type": "execute_result"
    }
   ],
   "source": [
    "from sklearn import neighbors\n",
    "neigh = KNeighborsClassifier(weights='distance', n_neighbors=6)\n",
    "neigh.fit(X_train[:, [1,2,3,4,5,6]], y_train)"
   ]
  },
  {
   "cell_type": "code",
   "execution_count": 176,
   "metadata": {},
   "outputs": [
    {
     "data": {
      "text/plain": [
       "0.7273025237627008"
      ]
     },
     "execution_count": 176,
     "metadata": {},
     "output_type": "execute_result"
    }
   ],
   "source": [
    "neigh.score(X_test[:, [1,2,3,4,5,6]], y_test)"
   ]
  },
  {
   "cell_type": "code",
   "execution_count": 153,
   "metadata": {},
   "outputs": [
    {
     "data": {
      "text/plain": [
       "<12202x9151 sparse matrix of type '<class 'numpy.float64'>'\n",
       "\twith 73212 stored elements in Compressed Sparse Row format>"
      ]
     },
     "execution_count": 153,
     "metadata": {},
     "output_type": "execute_result"
    }
   ],
   "source": [
    "neigh.kneighbors_graph(X[:, [1,2,3,4,5,6]])"
   ]
  },
  {
   "cell_type": "code",
   "execution_count": 157,
   "metadata": {},
   "outputs": [],
   "source": [
    "from matplotlib.colors import ListedColormap\n",
    "import seaborn as sns\n",
    "\n",
    "# Create color maps\n",
    "cmap_light = ListedColormap(['#FFAAAA', '#AAFFAA','#00AAFF'])\n",
    "cmap_bold = ListedColormap(['#FF0000', '#00FF00','#00AAFF'])\n",
    "\n",
    "cmap_light = ListedColormap(['orange', 'cyan', 'cornflowerblue'])\n",
    "cmap_bold = ['darkorange', 'c', 'darkblue']"
   ]
  },
  {
   "cell_type": "code",
   "execution_count": 105,
   "metadata": {},
   "outputs": [],
   "source": [
    "# we only take the first two features. We could avoid this ugly\n",
    "# slicing by using a two-dim dataset\n",
    "X_graph = iris.data[:, :2]\n",
    "y_graph = iris.target\n",
    "\n",
    "h = .02  # step size in the mesh\n",
    "\n",
    "# Create color maps\n",
    "cmap_light = ListedColormap(['orange', 'cyan', 'cornflowerblue'])\n",
    "cmap_bold = ['darkorange', 'c', 'darkblue']\n",
    "\n",
    "for weights in ['uniform', 'distance']:\n",
    "    # we create an instance of Neighbours Classifier and fit the data.\n",
    "    clf = neighbors.KNeighborsClassifier(n_neighbors, weights=weights)\n",
    "    clf.fit(X, y)\n",
    "\n",
    "    # Plot the decision boundary. For that, we will assign a color to each\n",
    "    # point in the mesh [x_min, x_max]x[y_min, y_max].\n",
    "    x_min, x_max = X[:, 0].min() - 1, X[:, 0].max() + 1\n",
    "    y_min, y_max = X[:, 1].min() - 1, X[:, 1].max() + 1\n",
    "    xx, yy = np.meshgrid(np.arange(x_min, x_max, h),\n",
    "                         np.arange(y_min, y_max, h))\n",
    "    Z = clf.predict(np.c_[xx.ravel(), yy.ravel()])\n",
    "\n",
    "    # Put the result into a color plot\n",
    "    Z = Z.reshape(xx.shape)\n",
    "    plt.figure(figsize=(8, 6))\n",
    "    plt.contourf(xx, yy, Z, cmap=cmap_light)\n",
    "\n",
    "    # Plot also the training points\n",
    "    sns.scatterplot(x=X[:, 0], y=X[:, 1], hue=iris.target_names[y],\n",
    "                    palette=cmap_bold, alpha=1.0, edgecolor=\"black\")\n",
    "    plt.xlim(xx.min(), xx.max())\n",
    "    plt.ylim(yy.min(), yy.max())\n",
    "    plt.title(\"3-Class classification (k = %i, weights = '%s')\"\n",
    "              % (n_neighbors, weights))\n",
    "    plt.xlabel(iris.feature_names[0])\n",
    "    plt.ylabel(iris.feature_names[1])\n",
    "\n",
    "plt.show()"
   ]
  },
  {
   "cell_type": "code",
   "execution_count": 106,
   "metadata": {},
   "outputs": [
    {
     "data": {
      "text/plain": [
       "array([21, 13, 13, ...,  1, 21, 17])"
      ]
     },
     "execution_count": 106,
     "metadata": {},
     "output_type": "execute_result"
    }
   ],
   "source": [
    "neigh.predict(X_test[:, [1,2,3,4,5,6]])"
   ]
  },
  {
   "cell_type": "code",
   "execution_count": null,
   "metadata": {},
   "outputs": [],
   "source": []
  }
 ],
 "metadata": {
  "kernelspec": {
   "display_name": "Python 3",
   "language": "python",
   "name": "python3"
  },
  "language_info": {
   "codemirror_mode": {
    "name": "ipython",
    "version": 3
   },
   "file_extension": ".py",
   "mimetype": "text/x-python",
   "name": "python",
   "nbconvert_exporter": "python",
   "pygments_lexer": "ipython3",
   "version": "3.7.6"
  }
 },
 "nbformat": 4,
 "nbformat_minor": 4
}
