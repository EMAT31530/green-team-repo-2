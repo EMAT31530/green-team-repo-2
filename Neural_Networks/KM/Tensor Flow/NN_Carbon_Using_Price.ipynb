{
 "cells": [
  {
   "cell_type": "code",
   "execution_count": 1,
   "metadata": {},
   "outputs": [],
   "source": [
    "#! /usr/bin/env python"
   ]
  },
  {
   "cell_type": "code",
   "execution_count": 2,
   "metadata": {},
   "outputs": [],
   "source": [
    "# import modules\n",
    "import pandas as pd\n",
    "import numpy as np \n",
    "import matplotlib.pyplot as plt\n",
    "import sklearn\n",
    "from sklearn.neural_network import MLPRegressor\n",
    "from sklearn.model_selection import train_test_split\n",
    "from sklearn import preprocessing\n",
    "from sklearn import metrics\n",
    "import tensorflow as tf\n",
    "import keras\n",
    "from tensorflow import keras\n",
    "from tensorflow.keras import layers\n",
    "from kerastuner.tuners import RandomSearch\n",
    "from keras.losses import mean_squared_error\n",
    "from keras import metrics"
   ]
  },
  {
   "cell_type": "code",
   "execution_count": 3,
   "metadata": {},
   "outputs": [],
   "source": [
    "# pull dataset\n",
    "nutrition = pd.read_pickle(\"./Nutrition_Full_Features.pkl\")"
   ]
  },
  {
   "cell_type": "code",
   "execution_count": 4,
   "metadata": {},
   "outputs": [],
   "source": [
    "# shuffle dataset\n",
    "nutrition = nutrition.sample(frac=1)"
   ]
  },
  {
   "cell_type": "code",
   "execution_count": 5,
   "metadata": {},
   "outputs": [
    {
     "data": {
      "text/html": [
       "<div>\n",
       "<style scoped>\n",
       "    .dataframe tbody tr th:only-of-type {\n",
       "        vertical-align: middle;\n",
       "    }\n",
       "\n",
       "    .dataframe tbody tr th {\n",
       "        vertical-align: top;\n",
       "    }\n",
       "\n",
       "    .dataframe thead th {\n",
       "        text-align: right;\n",
       "    }\n",
       "</style>\n",
       "<table border=\"1\" class=\"dataframe\">\n",
       "  <thead>\n",
       "    <tr style=\"text-align: right;\">\n",
       "      <th></th>\n",
       "      <th>name</th>\n",
       "      <th>Food Group</th>\n",
       "      <th>Price (£)</th>\n",
       "      <th>Weight (GRAMS)</th>\n",
       "      <th>Price per Weight (£/100Gram)</th>\n",
       "      <th>Carbon Group</th>\n",
       "      <th>Land use (m2/100g)</th>\n",
       "      <th>GHG(kgco2eq/100g)</th>\n",
       "      <th>Water use (L/100g)</th>\n",
       "      <th>Acidifying emissions(kgSO2eq per 100g)</th>\n",
       "      <th>...</th>\n",
       "      <th>Carotene, alpha (mcg)</th>\n",
       "      <th>Lycopene (mcg)</th>\n",
       "      <th>Lutein + Zeaxanthin (mcg)</th>\n",
       "      <th>Fatty acids, total monounsaturated (mg)</th>\n",
       "      <th>Fatty acids, total polyunsaturated (mg)</th>\n",
       "      <th>20:5 n-3 (EPA) (mg)</th>\n",
       "      <th>22:5 n-3 (DPA) (mg)</th>\n",
       "      <th>22:6 n-3 (DHA) (mg)</th>\n",
       "      <th>Caffeine (mg)</th>\n",
       "      <th>Theobromine (mg)</th>\n",
       "    </tr>\n",
       "  </thead>\n",
       "  <tbody>\n",
       "    <tr>\n",
       "      <th>412</th>\n",
       "      <td>Cola Soft Drink</td>\n",
       "      <td>Beverages</td>\n",
       "      <td>1.59</td>\n",
       "      <td>1500.0</td>\n",
       "      <td>0.106000</td>\n",
       "      <td>Sweetners / Honey</td>\n",
       "      <td>1.0114</td>\n",
       "      <td>0.5752</td>\n",
       "      <td>44.9</td>\n",
       "      <td>0.002145</td>\n",
       "      <td>...</td>\n",
       "      <td>0.0</td>\n",
       "      <td>0.0</td>\n",
       "      <td>0.0</td>\n",
       "      <td>0.0</td>\n",
       "      <td>0.0</td>\n",
       "      <td>0.0</td>\n",
       "      <td>0.0</td>\n",
       "      <td>0.0</td>\n",
       "      <td>9.0</td>\n",
       "      <td>0.0</td>\n",
       "    </tr>\n",
       "    <tr>\n",
       "      <th>740</th>\n",
       "      <td>Cured Ham</td>\n",
       "      <td>Meats</td>\n",
       "      <td>3.00</td>\n",
       "      <td>125.0</td>\n",
       "      <td>2.400000</td>\n",
       "      <td>Pork</td>\n",
       "      <td>1.0156</td>\n",
       "      <td>0.7282</td>\n",
       "      <td>107.3</td>\n",
       "      <td>0.008265</td>\n",
       "      <td>...</td>\n",
       "      <td>0.0</td>\n",
       "      <td>0.0</td>\n",
       "      <td>0.0</td>\n",
       "      <td>2620.0</td>\n",
       "      <td>540.0</td>\n",
       "      <td>0.0</td>\n",
       "      <td>0.0</td>\n",
       "      <td>0.0</td>\n",
       "      <td>0.0</td>\n",
       "      <td>0.0</td>\n",
       "    </tr>\n",
       "    <tr>\n",
       "      <th>995</th>\n",
       "      <td>Seeds Sesame Seeds Whole Dried</td>\n",
       "      <td>Nuts and Seeds</td>\n",
       "      <td>1.00</td>\n",
       "      <td>100.0</td>\n",
       "      <td>1.000000</td>\n",
       "      <td>Nuts</td>\n",
       "      <td>0.5080</td>\n",
       "      <td>0.0278</td>\n",
       "      <td>191.4</td>\n",
       "      <td>0.001904</td>\n",
       "      <td>...</td>\n",
       "      <td>0.0</td>\n",
       "      <td>0.0</td>\n",
       "      <td>0.0</td>\n",
       "      <td>18759.0</td>\n",
       "      <td>21773.0</td>\n",
       "      <td>0.0</td>\n",
       "      <td>0.0</td>\n",
       "      <td>0.0</td>\n",
       "      <td>0.0</td>\n",
       "      <td>0.0</td>\n",
       "    </tr>\n",
       "    <tr>\n",
       "      <th>492</th>\n",
       "      <td>Cereal Corn Flakes</td>\n",
       "      <td>Breakfast Cereals</td>\n",
       "      <td>0.85</td>\n",
       "      <td>750.0</td>\n",
       "      <td>0.113333</td>\n",
       "      <td>Corn / Cereals</td>\n",
       "      <td>0.1628</td>\n",
       "      <td>0.0988</td>\n",
       "      <td>12.0</td>\n",
       "      <td>0.000673</td>\n",
       "      <td>...</td>\n",
       "      <td>54.0</td>\n",
       "      <td>0.0</td>\n",
       "      <td>339.0</td>\n",
       "      <td>67.0</td>\n",
       "      <td>196.0</td>\n",
       "      <td>0.0</td>\n",
       "      <td>0.0</td>\n",
       "      <td>0.0</td>\n",
       "      <td>0.0</td>\n",
       "      <td>0.0</td>\n",
       "    </tr>\n",
       "    <tr>\n",
       "      <th>563</th>\n",
       "      <td>Cream Cheese</td>\n",
       "      <td>Dairy and Egg Products</td>\n",
       "      <td>0.80</td>\n",
       "      <td>200.0</td>\n",
       "      <td>0.400000</td>\n",
       "      <td>Cheese</td>\n",
       "      <td>8.0642</td>\n",
       "      <td>2.1240</td>\n",
       "      <td>473.5</td>\n",
       "      <td>0.014894</td>\n",
       "      <td>...</td>\n",
       "      <td>1.0</td>\n",
       "      <td>0.0</td>\n",
       "      <td>7.0</td>\n",
       "      <td>8907.0</td>\n",
       "      <td>1483.0</td>\n",
       "      <td>10.0</td>\n",
       "      <td>20.0</td>\n",
       "      <td>0.0</td>\n",
       "      <td>0.0</td>\n",
       "      <td>0.0</td>\n",
       "    </tr>\n",
       "    <tr>\n",
       "      <th>...</th>\n",
       "      <td>...</td>\n",
       "      <td>...</td>\n",
       "      <td>...</td>\n",
       "      <td>...</td>\n",
       "      <td>...</td>\n",
       "      <td>...</td>\n",
       "      <td>...</td>\n",
       "      <td>...</td>\n",
       "      <td>...</td>\n",
       "      <td>...</td>\n",
       "      <td>...</td>\n",
       "      <td>...</td>\n",
       "      <td>...</td>\n",
       "      <td>...</td>\n",
       "      <td>...</td>\n",
       "      <td>...</td>\n",
       "      <td>...</td>\n",
       "      <td>...</td>\n",
       "      <td>...</td>\n",
       "      <td>...</td>\n",
       "      <td>...</td>\n",
       "    </tr>\n",
       "    <tr>\n",
       "      <th>315</th>\n",
       "      <td>Cocoa Mix No Sugar Added Powder</td>\n",
       "      <td>Beverages</td>\n",
       "      <td>3.00</td>\n",
       "      <td>500.0</td>\n",
       "      <td>0.600000</td>\n",
       "      <td>Chocolate</td>\n",
       "      <td>2.3693</td>\n",
       "      <td>1.8681</td>\n",
       "      <td>20.9</td>\n",
       "      <td>0.001659</td>\n",
       "      <td>...</td>\n",
       "      <td>0.0</td>\n",
       "      <td>0.0</td>\n",
       "      <td>9.0</td>\n",
       "      <td>979.0</td>\n",
       "      <td>88.0</td>\n",
       "      <td>0.0</td>\n",
       "      <td>0.0</td>\n",
       "      <td>0.0</td>\n",
       "      <td>19.0</td>\n",
       "      <td>658.0</td>\n",
       "    </tr>\n",
       "    <tr>\n",
       "      <th>859</th>\n",
       "      <td>Turkey Breast Sliced Prepackaged</td>\n",
       "      <td>Meats</td>\n",
       "      <td>2.90</td>\n",
       "      <td>380.0</td>\n",
       "      <td>0.763158</td>\n",
       "      <td>Poultry (Chicken / Turkey)</td>\n",
       "      <td>0.7490</td>\n",
       "      <td>0.6092</td>\n",
       "      <td>40.2</td>\n",
       "      <td>0.006439</td>\n",
       "      <td>...</td>\n",
       "      <td>0.0</td>\n",
       "      <td>0.0</td>\n",
       "      <td>0.0</td>\n",
       "      <td>1145.0</td>\n",
       "      <td>1024.0</td>\n",
       "      <td>2.0</td>\n",
       "      <td>6.0</td>\n",
       "      <td>5.0</td>\n",
       "      <td>0.0</td>\n",
       "      <td>0.0</td>\n",
       "    </tr>\n",
       "    <tr>\n",
       "      <th>187</th>\n",
       "      <td>Brioche</td>\n",
       "      <td>Baked Foods</td>\n",
       "      <td>2.00</td>\n",
       "      <td>200.0</td>\n",
       "      <td>1.000000</td>\n",
       "      <td>Bread products</td>\n",
       "      <td>0.3482</td>\n",
       "      <td>0.1441</td>\n",
       "      <td>56.7</td>\n",
       "      <td>0.001209</td>\n",
       "      <td>...</td>\n",
       "      <td>0.0</td>\n",
       "      <td>0.0</td>\n",
       "      <td>135.0</td>\n",
       "      <td>7904.0</td>\n",
       "      <td>1559.0</td>\n",
       "      <td>0.0</td>\n",
       "      <td>2.0</td>\n",
       "      <td>15.0</td>\n",
       "      <td>0.0</td>\n",
       "      <td>0.0</td>\n",
       "    </tr>\n",
       "    <tr>\n",
       "      <th>251</th>\n",
       "      <td>Raw Peanuts</td>\n",
       "      <td>Beans and Lentils</td>\n",
       "      <td>2.00</td>\n",
       "      <td>300.0</td>\n",
       "      <td>0.666667</td>\n",
       "      <td>Peanuts</td>\n",
       "      <td>0.6971</td>\n",
       "      <td>0.2497</td>\n",
       "      <td>143.1</td>\n",
       "      <td>0.001792</td>\n",
       "      <td>...</td>\n",
       "      <td>0.0</td>\n",
       "      <td>0.0</td>\n",
       "      <td>0.0</td>\n",
       "      <td>24426.0</td>\n",
       "      <td>15558.0</td>\n",
       "      <td>0.0</td>\n",
       "      <td>0.0</td>\n",
       "      <td>0.0</td>\n",
       "      <td>0.0</td>\n",
       "      <td>0.0</td>\n",
       "    </tr>\n",
       "    <tr>\n",
       "      <th>842</th>\n",
       "      <td>Chicken Broilers Or Fryers Leg Meat Only Cooke...</td>\n",
       "      <td>Meats</td>\n",
       "      <td>1.53</td>\n",
       "      <td>340.0</td>\n",
       "      <td>0.450000</td>\n",
       "      <td>Poultry (Chicken / Turkey)</td>\n",
       "      <td>0.7490</td>\n",
       "      <td>0.6092</td>\n",
       "      <td>40.2</td>\n",
       "      <td>0.006439</td>\n",
       "      <td>...</td>\n",
       "      <td>0.0</td>\n",
       "      <td>0.0</td>\n",
       "      <td>0.0</td>\n",
       "      <td>2930.0</td>\n",
       "      <td>1880.0</td>\n",
       "      <td>10.0</td>\n",
       "      <td>30.0</td>\n",
       "      <td>50.0</td>\n",
       "      <td>0.0</td>\n",
       "      <td>0.0</td>\n",
       "    </tr>\n",
       "  </tbody>\n",
       "</table>\n",
       "<p>1042 rows × 51 columns</p>\n",
       "</div>"
      ],
      "text/plain": [
       "                                                  name  \\\n",
       "412                                    Cola Soft Drink   \n",
       "740                                          Cured Ham   \n",
       "995                     Seeds Sesame Seeds Whole Dried   \n",
       "492                                 Cereal Corn Flakes   \n",
       "563                                       Cream Cheese   \n",
       "..                                                 ...   \n",
       "315                    Cocoa Mix No Sugar Added Powder   \n",
       "859                   Turkey Breast Sliced Prepackaged   \n",
       "187                                            Brioche   \n",
       "251                                        Raw Peanuts   \n",
       "842  Chicken Broilers Or Fryers Leg Meat Only Cooke...   \n",
       "\n",
       "                 Food Group  Price (£)  Weight (GRAMS)  \\\n",
       "412               Beverages       1.59          1500.0   \n",
       "740                   Meats       3.00           125.0   \n",
       "995          Nuts and Seeds       1.00           100.0   \n",
       "492       Breakfast Cereals       0.85           750.0   \n",
       "563  Dairy and Egg Products       0.80           200.0   \n",
       "..                      ...        ...             ...   \n",
       "315               Beverages       3.00           500.0   \n",
       "859                   Meats       2.90           380.0   \n",
       "187             Baked Foods       2.00           200.0   \n",
       "251       Beans and Lentils       2.00           300.0   \n",
       "842                   Meats       1.53           340.0   \n",
       "\n",
       "     Price per Weight (£/100Gram)                Carbon Group  \\\n",
       "412                      0.106000          Sweetners / Honey    \n",
       "740                      2.400000                       Pork    \n",
       "995                      1.000000                       Nuts    \n",
       "492                      0.113333             Corn / Cereals    \n",
       "563                      0.400000                     Cheese    \n",
       "..                            ...                         ...   \n",
       "315                      0.600000                   Chocolate   \n",
       "859                      0.763158  Poultry (Chicken / Turkey)   \n",
       "187                      1.000000             Bread products    \n",
       "251                      0.666667                    Peanuts    \n",
       "842                      0.450000  Poultry (Chicken / Turkey)   \n",
       "\n",
       "     Land use (m2/100g)  GHG(kgco2eq/100g)  Water use (L/100g)  \\\n",
       "412              1.0114             0.5752                44.9   \n",
       "740              1.0156             0.7282               107.3   \n",
       "995              0.5080             0.0278               191.4   \n",
       "492              0.1628             0.0988                12.0   \n",
       "563              8.0642             2.1240               473.5   \n",
       "..                  ...                ...                 ...   \n",
       "315              2.3693             1.8681                20.9   \n",
       "859              0.7490             0.6092                40.2   \n",
       "187              0.3482             0.1441                56.7   \n",
       "251              0.6971             0.2497               143.1   \n",
       "842              0.7490             0.6092                40.2   \n",
       "\n",
       "     Acidifying emissions(kgSO2eq per 100g)  ...  Carotene, alpha (mcg)  \\\n",
       "412                                0.002145  ...                    0.0   \n",
       "740                                0.008265  ...                    0.0   \n",
       "995                                0.001904  ...                    0.0   \n",
       "492                                0.000673  ...                   54.0   \n",
       "563                                0.014894  ...                    1.0   \n",
       "..                                      ...  ...                    ...   \n",
       "315                                0.001659  ...                    0.0   \n",
       "859                                0.006439  ...                    0.0   \n",
       "187                                0.001209  ...                    0.0   \n",
       "251                                0.001792  ...                    0.0   \n",
       "842                                0.006439  ...                    0.0   \n",
       "\n",
       "     Lycopene (mcg)  Lutein + Zeaxanthin (mcg)  \\\n",
       "412             0.0                        0.0   \n",
       "740             0.0                        0.0   \n",
       "995             0.0                        0.0   \n",
       "492             0.0                      339.0   \n",
       "563             0.0                        7.0   \n",
       "..              ...                        ...   \n",
       "315             0.0                        9.0   \n",
       "859             0.0                        0.0   \n",
       "187             0.0                      135.0   \n",
       "251             0.0                        0.0   \n",
       "842             0.0                        0.0   \n",
       "\n",
       "     Fatty acids, total monounsaturated (mg)  \\\n",
       "412                                      0.0   \n",
       "740                                   2620.0   \n",
       "995                                  18759.0   \n",
       "492                                     67.0   \n",
       "563                                   8907.0   \n",
       "..                                       ...   \n",
       "315                                    979.0   \n",
       "859                                   1145.0   \n",
       "187                                   7904.0   \n",
       "251                                  24426.0   \n",
       "842                                   2930.0   \n",
       "\n",
       "     Fatty acids, total polyunsaturated (mg)  20:5 n-3 (EPA) (mg)  \\\n",
       "412                                      0.0                  0.0   \n",
       "740                                    540.0                  0.0   \n",
       "995                                  21773.0                  0.0   \n",
       "492                                    196.0                  0.0   \n",
       "563                                   1483.0                 10.0   \n",
       "..                                       ...                  ...   \n",
       "315                                     88.0                  0.0   \n",
       "859                                   1024.0                  2.0   \n",
       "187                                   1559.0                  0.0   \n",
       "251                                  15558.0                  0.0   \n",
       "842                                   1880.0                 10.0   \n",
       "\n",
       "     22:5 n-3 (DPA) (mg)  22:6 n-3 (DHA) (mg)  Caffeine (mg)  Theobromine (mg)  \n",
       "412                  0.0                  0.0            9.0               0.0  \n",
       "740                  0.0                  0.0            0.0               0.0  \n",
       "995                  0.0                  0.0            0.0               0.0  \n",
       "492                  0.0                  0.0            0.0               0.0  \n",
       "563                 20.0                  0.0            0.0               0.0  \n",
       "..                   ...                  ...            ...               ...  \n",
       "315                  0.0                  0.0           19.0             658.0  \n",
       "859                  6.0                  5.0            0.0               0.0  \n",
       "187                  2.0                 15.0            0.0               0.0  \n",
       "251                  0.0                  0.0            0.0               0.0  \n",
       "842                 30.0                 50.0            0.0               0.0  \n",
       "\n",
       "[1042 rows x 51 columns]"
      ]
     },
     "execution_count": 5,
     "metadata": {},
     "output_type": "execute_result"
    }
   ],
   "source": [
    "#drop rows with NaN\n",
    "nutrition = nutrition.dropna()"
   ]
  },
  {
   "cell_type": "code",
   "execution_count": 6,
   "metadata": {},
   "outputs": [],
   "source": [
    "#Data for features\n",
    "X_original = nutrition.iloc[:, 11:]\n",
    "price = nutrition.iloc[:,2]\n",
    "X_original = pd.concat([price,X_original], axis=1) # add price to the features array\n",
    "\n",
    "y = nutrition.iloc[:, 7] # output array\n",
    "y = y.to_numpy()"
   ]
  },
  {
   "cell_type": "code",
   "execution_count": 7,
   "metadata": {},
   "outputs": [],
   "source": [
    "# normalise the data by feature column\n",
    "X = preprocessing.normalize(X_original, axis=0)\n",
    "X = pd.DataFrame(X_original, columns = X_original.columns) # processing loses columns headers so these must be reestablished\n",
    "X = X.to_numpy()"
   ]
  },
  {
   "cell_type": "code",
   "execution_count": 8,
   "metadata": {},
   "outputs": [],
   "source": [
    "# Splitting the dataset into the Training set and Test set\n",
    "X_train, X_test, y_train, y_test = train_test_split(X,y,test_size=0.2)"
   ]
  },
  {
   "cell_type": "code",
   "execution_count": 9,
   "metadata": {},
   "outputs": [],
   "source": [
    "#building keras Neural Network model\n",
    "\n",
    "from keras.layers import Dense, Activation\n",
    "from keras.models import Sequential\n",
    "from keras import losses\n",
    "\n",
    "# model type\n",
    "model = Sequential()\n",
    "\n",
    "# Adding the input layer and the first hidden layer\n",
    "model.add(Dense(8, activation = 'relu', input_dim = 41))\n",
    "\n",
    "# Adding the second hidden layer\n",
    "model.add(Dense(units = 16, activation = 'relu'))\n",
    "\n",
    "# Could create for loop to check number of layers\n",
    "\n",
    "#avoids overfitting\n",
    "#https://keras.io/api/layers/regularization_layers/dropout/\n",
    "model.add(keras.layers.Dropout(0.1))\n",
    "\n",
    "\n",
    "# Adding the output layer\n",
    "model.add(Dense(units = 1))\n",
    "\n",
    "\n",
    "# Compiling the ANN\n",
    "model.compile(optimizer = 'adam', loss = 'mse', metrics=['accuracy']) #currently loss is the only thing we care about\n",
    "\n",
    "# Training the Model\n",
    "history = model.fit(X_train, y_train, batch_size = 10, epochs = 50, validation_split=0.2, verbose = 0)"
   ]
  },
  {
   "cell_type": "code",
   "execution_count": 10,
   "metadata": {},
   "outputs": [
    {
     "data": {
      "image/png": "[encoded data removed]",
      "text/plain": [
       "<Figure size 432x288 with 1 Axes>"
      ]
     },
     "metadata": {
      "needs_background": "light"
     },
     "output_type": "display_data"
    },
    {
     "data": {
      "image/png": "[encoded data removed]",
      "text/plain": [
       "<Figure size 432x288 with 1 Axes>"
      ]
     },
     "metadata": {
      "needs_background": "light"
     },
     "output_type": "display_data"
    }
   ],
   "source": [
    "#plot learning curves\n",
    "\n",
    "#accuracy no idea what this is for\n",
    "plt.plot(history.history['accuracy'])\n",
    "plt.plot(history.history['val_accuracy'])\n",
    "plt.title('model accuracy')\n",
    "plt.ylabel('accuracy')\n",
    "plt.xlabel('epoch')\n",
    "plt.legend(['Accuracy', 'Validation Accuracy'], loc='upper left')\n",
    "plt.show()\n",
    "\n",
    "#loss\n",
    "plt.plot(history.history['loss'])\n",
    "plt.plot(history.history['val_loss'])\n",
    "plt.title('model loss')\n",
    "plt.ylabel('loss')\n",
    "plt.xlabel('epoch')\n",
    "plt.legend(['Loss', 'Validation Loss'], loc='upper left')\n",
    "plt.show()\n"
   ]
  },
  {
   "cell_type": "code",
   "execution_count": 11,
   "metadata": {},
   "outputs": [],
   "source": [
    "#model evaluation\n",
    "score = model.evaluate(X_test, y_test, verbose = 0)[1]"
   ]
  },
  {
   "cell_type": "code",
   "execution_count": 12,
   "metadata": {},
   "outputs": [
    {
     "name": "stdout",
     "output_type": "stream",
     "text": [
      "Model: \"sequential\"\n",
      "_________________________________________________________________\n",
      "Layer (type)                 Output Shape              Param #   \n",
      "=================================================================\n",
      "dense (Dense)                (None, 8)                 336       \n",
      "_________________________________________________________________\n",
      "dense_1 (Dense)              (None, 16)                144       \n",
      "_________________________________________________________________\n",
      "dropout (Dropout)            (None, 16)                0         \n",
      "_________________________________________________________________\n",
      "dense_2 (Dense)              (None, 1)                 17        \n",
      "=================================================================\n",
      "Total params: 497\n",
      "Trainable params: 497\n",
      "Non-trainable params: 0\n",
      "_________________________________________________________________\n"
     ]
    }
   ],
   "source": [
    "model.summary()"
   ]
  },
  {
   "cell_type": "code",
   "execution_count": 13,
   "metadata": {},
   "outputs": [
    {
     "name": "stdout",
     "output_type": "stream",
     "text": [
      "MSE without tuning: 0.0047846888191998005\n"
     ]
    }
   ],
   "source": [
    "print('MSE without tuning: {}'.format(score))"
   ]
  },
  {
   "cell_type": "code",
   "execution_count": 14,
   "metadata": {},
   "outputs": [],
   "source": [
    "# get predicted values\n",
    "y_pred = model.predict(X_test)"
   ]
  },
  {
   "cell_type": "code",
   "execution_count": 15,
   "metadata": {},
   "outputs": [
    {
     "data": {
      "image/png": "[encoded data removed]",
      "text/plain": [
       "<Figure size 432x288 with 1 Axes>"
      ]
     },
     "metadata": {
      "needs_background": "light"
     },
     "output_type": "display_data"
    }
   ],
   "source": [
    "# plot predicted values against test values\n",
    "plt.plot(y_test, color = 'red', label = 'Real data')\n",
    "plt.plot(y_pred, color = 'blue', label = 'Predicted data')\n",
    "plt.title('Prediction')\n",
    "plt.legend(loc='upper right')\n",
    "plt.show()"
   ]
  },
  {
   "cell_type": "code",
   "execution_count": 16,
   "metadata": {},
   "outputs": [
    {
     "name": "stdout",
     "output_type": "stream",
     "text": [
      "Mean Absolute Error: 7.78721144139647\n",
      "Mean Squared Error: 412.3938102728831\n",
      "Root Mean Squared Error: 20.307481632956932\n"
     ]
    }
   ],
   "source": [
    "# checking the output metrics\n",
    "from sklearn import metrics\n",
    "\n",
    "print('Mean Absolute Error:', metrics.mean_absolute_error(y_test, y_pred))\n",
    "print('Mean Squared Error:', metrics.mean_squared_error(y_test, y_pred))\n",
    "print('Root Mean Squared Error:', np.sqrt(metrics.mean_squared_error(y_test, y_pred)))"
   ]
  },
  {
   "cell_type": "code",
   "execution_count": 17,
   "metadata": {},
   "outputs": [
    {
     "name": "stdout",
     "output_type": "stream",
     "text": [
      "Output Standard Deviation: 1.6110865075846401\n",
      "Output Mean: 0.8464732245681382\n"
     ]
    }
   ],
   "source": [
    "y_mean = np.mean(y)\n",
    "y_std = np.std(y)\n",
    "print('Output Standard Deviation:', y_std)\n",
    "print('Output Mean:', y_mean)"
   ]
  },
  {
   "cell_type": "markdown",
   "metadata": {},
   "source": [
    "# Hyper Parameter Tuning Section"
   ]
  },
  {
   "cell_type": "code",
   "execution_count": 18,
   "metadata": {},
   "outputs": [],
   "source": [
    "import kerastuner\n",
    "from kerastuner import HyperModel\n",
    "\n",
    "def build_model(hp):\n",
    "    model = Sequential()\n",
    "    model.add(Dense(\n",
    "        units=hp.Int('units', min_value=8, max_value=64, step=4), \n",
    "        activation = hp.Choice('dense_activation', \n",
    "                values=['relu', 'tanh','sigmoid','softmax']),\n",
    "        input_dim = 41\n",
    "        )\n",
    "             \n",
    "    )\n",
    "\n",
    "    model.add(Dense(\n",
    "        units=hp.Int('units', min_value=8, max_value=64, step=4), \n",
    "        activation = hp.Choice('dense_activation', \n",
    "                values=['relu', 'tanh','sigmoid','softmax'])\n",
    "        )\n",
    "             \n",
    "    )\n",
    "    \n",
    "    model.add(\n",
    "        keras.layers.Dropout(\n",
    "            hp.Float(\n",
    "                    'dropout',\n",
    "                    min_value=0.0,\n",
    "                    max_value=0.1,\n",
    "                    step=0.01)\n",
    "        )\n",
    "    )\n",
    "\n",
    "    # Adding the output layer\n",
    "    model.add(Dense(units = 1))\n",
    "\n",
    "\n",
    "    model.compile(\n",
    "        optimizer = hp.Choice('dense_optimizer',\n",
    "                values=['adam','SGD','rmsprop','adadelta'] ),\n",
    "        loss = 'mean_squared_error',\n",
    "        metrics = ['accuracy'],\n",
    "    )\n",
    "    return model"
   ]
  },
  {
   "cell_type": "code",
   "execution_count": 19,
   "metadata": {},
   "outputs": [],
   "source": [
    "tuner = kerastuner.tuners.RandomSearch(\n",
    "            build_model,\n",
    "            objective='loss',\n",
    "            max_trials=20,\n",
    "            executions_per_trial=2,\n",
    "            project_name='hp_values',\n",
    "            overwrite=True)"
   ]
  },
  {
   "cell_type": "code",
   "execution_count": 20,
   "metadata": {},
   "outputs": [
    {
     "name": "stdout",
     "output_type": "stream",
     "text": [
      "Trial 20 Complete [00h 00m 14s]\n",
      "loss: 3.577166795730591\n",
      "\n",
      "Best loss So Far: 0.4806698113679886\n",
      "Total elapsed time: 00h 04m 27s\n",
      "INFO:tensorflow:Oracle triggered exit\n"
     ]
    }
   ],
   "source": [
    "tuner.search(X_train, y_train, epochs=50)"
   ]
  },
  {
   "cell_type": "code",
   "execution_count": 21,
   "metadata": {},
   "outputs": [],
   "source": [
    "#collect best hyperparameters to rebuild model\n",
    "best_hp = tuner.get_best_hyperparameters()[0]\n",
    "model = tuner.hypermodel.build(best_hp)\n",
    "# Training the Model\n",
    "history = model.fit(X_train, y_train, batch_size = 10, epochs = 80, validation_split=0.2, verbose = 0)"
   ]
  },
  {
   "cell_type": "code",
   "execution_count": 22,
   "metadata": {},
   "outputs": [
    {
     "data": {
      "image/png": "[encoded data removed]",
      "text/plain": [
       "<Figure size 432x288 with 1 Axes>"
      ]
     },
     "metadata": {
      "needs_background": "light"
     },
     "output_type": "display_data"
    }
   ],
   "source": [
    "#loss\n",
    "plt.plot(history.history['loss'])\n",
    "plt.plot(history.history['val_loss'])\n",
    "plt.title('model loss')\n",
    "plt.ylabel('loss')\n",
    "plt.xlabel('epoch')\n",
    "plt.legend(['Loss', 'Validation Loss'], loc='upper right')\n",
    "plt.show()"
   ]
  },
  {
   "cell_type": "code",
   "execution_count": 23,
   "metadata": {},
   "outputs": [],
   "source": [
    "# get new predicted values with Hyperparameters\n",
    "y_hp_pred = model.predict(X_test)"
   ]
  },
  {
   "cell_type": "code",
   "execution_count": 24,
   "metadata": {},
   "outputs": [
    {
     "data": {
      "image/png": "[encoded data removed]",
      "text/plain": [
       "<Figure size 432x288 with 1 Axes>"
      ]
     },
     "metadata": {
      "needs_background": "light"
     },
     "output_type": "display_data"
    }
   ],
   "source": [
    "# plot predicted values against test values\n",
    "plt.plot(y_test, color = 'red', label = 'Real data')\n",
    "plt.plot(y_hp_pred, color = 'blue', label = 'HP Predicted data')\n",
    "plt.title('HP Prediction')\n",
    "plt.legend(loc='upper right')\n",
    "plt.show()"
   ]
  },
  {
   "cell_type": "code",
   "execution_count": 25,
   "metadata": {},
   "outputs": [
    {
     "name": "stdout",
     "output_type": "stream",
     "text": [
      "Mean Absolute Error: 0.3926216939952955\n",
      "Mean Squared Error: 0.5454940138834627\n",
      "Root Mean Squared Error: 0.7385756656453438\n",
      "Output Standard Deviation: 1.3553983\n",
      "Output Mean: 0.83510256\n"
     ]
    }
   ],
   "source": [
    "# checking the output metrics\n",
    "from sklearn import metrics\n",
    "\n",
    "\n",
    "print('Mean Absolute Error:', metrics.mean_absolute_error(y_test, y_hp_pred))\n",
    "print('Mean Squared Error:', metrics.mean_squared_error(y_test, y_hp_pred))\n",
    "print('Root Mean Squared Error:', np.sqrt(metrics.mean_squared_error(y_test, y_hp_pred)))\n",
    "\n",
    "y_mean = np.mean(y_hp_pred)\n",
    "y_std = np.std(y_hp_pred)\n",
    "print('Output Standard Deviation:', y_std)\n",
    "print('Output Mean:', y_mean)"
   ]
  },
  {
   "cell_type": "code",
   "execution_count": 26,
   "metadata": {},
   "outputs": [],
   "source": [
    "#delete hp_values file for easy github committing\n",
    "import shutil\n",
    "shutil.rmtree('./hp_values')"
   ]
  },
  {
   "cell_type": "code",
   "execution_count": null,
   "metadata": {},
   "outputs": [],
   "source": []
  }
 ],
 "metadata": {
  "kernelspec": {
   "display_name": "Python 3",
   "language": "python",
   "name": "python3"
  },
  "language_info": {
   "codemirror_mode": {
    "name": "ipython",
    "version": 3
   },
   "file_extension": ".py",
   "mimetype": "text/x-python",
   "name": "python",
   "nbconvert_exporter": "python",
   "pygments_lexer": "ipython3",
   "version": "3.8.5"
  }
 },
 "nbformat": 4,
 "nbformat_minor": 4
}
