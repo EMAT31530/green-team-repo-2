{
 "cells": [
  {
   "cell_type": "code",
   "execution_count": 1,
   "metadata": {},
   "outputs": [],
   "source": [
    "#! /usr/bin/env python"
   ]
  },
  {
   "cell_type": "code",
   "execution_count": 2,
   "metadata": {},
   "outputs": [],
   "source": [
    "# import modules\n",
    "import pandas as pd\n",
    "import numpy as np \n",
    "import matplotlib.pyplot as plt\n",
    "import sklearn\n",
    "from sklearn.neural_network import MLPRegressor\n",
    "from sklearn.model_selection import train_test_split\n",
    "from sklearn import preprocessing\n",
    "from sklearn import metrics\n",
    "import tensorflow as tf\n",
    "import keras\n",
    "from tensorflow import keras\n",
    "from tensorflow.keras import layers\n",
    "from kerastuner.tuners import RandomSearch\n",
    "from keras.losses import mean_squared_error\n",
    "from keras import metrics"
   ]
  },
  {
   "cell_type": "code",
   "execution_count": 3,
   "metadata": {},
   "outputs": [],
   "source": [
    "# pull dataset\n",
    "nutrition = pd.read_pickle(\"./Nutrition_Full_Features.pkl\")"
   ]
  },
  {
   "cell_type": "code",
   "execution_count": 4,
   "metadata": {},
   "outputs": [],
   "source": [
    "#drop rows with NaN\n",
    "nutrition = nutrition.dropna()"
   ]
  },
  {
   "cell_type": "code",
   "execution_count": 5,
   "metadata": {},
   "outputs": [],
   "source": [
    "#Data for features\n",
    "X_original = nutrition.iloc[:, 11:]\n",
    "y = nutrition.iloc[:, 7]\n",
    "y = y.to_numpy()"
   ]
  },
  {
   "cell_type": "code",
   "execution_count": 6,
   "metadata": {},
   "outputs": [],
   "source": [
    "# normalise the data by feature column\n",
    "X = preprocessing.normalize(X_original, axis=0)\n",
    "X = pd.DataFrame(X_original, columns = X_original.columns) # processing loses columns headers so these must be reestablished\n",
    "X = X.to_numpy()"
   ]
  },
  {
   "cell_type": "code",
   "execution_count": 7,
   "metadata": {},
   "outputs": [],
   "source": [
    "# Splitting the dataset into the Training set and Test set\n",
    "X_train, X_test, y_train, y_test = train_test_split(X,y,test_size=0.2)"
   ]
  },
  {
   "cell_type": "code",
   "execution_count": null,
   "metadata": {},
   "outputs": [],
   "source": []
  },
  {
   "cell_type": "code",
   "execution_count": 8,
   "metadata": {},
   "outputs": [
    {
     "name": "stdout",
     "output_type": "stream",
     "text": [
      "Epoch 1/50\n",
      "59/59 [==============================] - 2s 29ms/step - loss: 1685182.7500 - accuracy: 0.0029 - val_loss: 247162.0781 - val_accuracy: 0.0000e+00\n",
      "Epoch 2/50\n",
      "59/59 [==============================] - 0s 3ms/step - loss: 625067.9836 - accuracy: 7.9829e-04 - val_loss: 75765.6406 - val_accuracy: 0.0000e+00\n",
      "Epoch 3/50\n",
      "59/59 [==============================] - 0s 2ms/step - loss: 151829.9427 - accuracy: 0.0015 - val_loss: 23485.5098 - val_accuracy: 0.0000e+00\n",
      "Epoch 4/50\n",
      "59/59 [==============================] - 0s 3ms/step - loss: 108195.2297 - accuracy: 0.0031 - val_loss: 18648.6855 - val_accuracy: 0.0000e+00\n",
      "Epoch 5/50\n",
      "59/59 [==============================] - 0s 2ms/step - loss: 153606.6621 - accuracy: 3.0226e-04 - val_loss: 17021.3242 - val_accuracy: 0.0000e+00\n",
      "Epoch 6/50\n",
      "59/59 [==============================] - 0s 3ms/step - loss: 62377.7021 - accuracy: 0.0019 - val_loss: 14599.8525 - val_accuracy: 0.0000e+00\n",
      "Epoch 7/50\n",
      "59/59 [==============================] - 0s 4ms/step - loss: 161723.5684 - accuracy: 0.0078 - val_loss: 24863.8438 - val_accuracy: 0.0000e+00\n",
      "Epoch 8/50\n",
      "59/59 [==============================] - 0s 3ms/step - loss: 49015.1693 - accuracy: 0.0033 - val_loss: 18125.8730 - val_accuracy: 0.0000e+00\n",
      "Epoch 9/50\n",
      "59/59 [==============================] - 0s 4ms/step - loss: 78642.2279 - accuracy: 0.0000e+00 - val_loss: 14855.4248 - val_accuracy: 0.0000e+00\n",
      "Epoch 10/50\n",
      "59/59 [==============================] - 0s 3ms/step - loss: 75697.4956 - accuracy: 0.0016 - val_loss: 10866.4727 - val_accuracy: 0.0000e+00\n",
      "Epoch 11/50\n",
      "59/59 [==============================] - 0s 3ms/step - loss: 40829.9138 - accuracy: 0.0020 - val_loss: 22181.4531 - val_accuracy: 0.0000e+00\n",
      "Epoch 12/50\n",
      "59/59 [==============================] - 0s 3ms/step - loss: 18246.9754 - accuracy: 0.0011 - val_loss: 14958.4111 - val_accuracy: 0.0000e+00\n",
      "Epoch 13/50\n",
      "59/59 [==============================] - 0s 4ms/step - loss: 30039.9160 - accuracy: 6.2938e-04 - val_loss: 7477.2437 - val_accuracy: 0.0000e+00\n",
      "Epoch 14/50\n",
      "59/59 [==============================] - 0s 3ms/step - loss: 18819.6604 - accuracy: 0.0040 - val_loss: 7645.1338 - val_accuracy: 0.0000e+00\n",
      "Epoch 15/50\n",
      "59/59 [==============================] - 0s 3ms/step - loss: 19090.3017 - accuracy: 0.0012 - val_loss: 8897.6523 - val_accuracy: 0.0000e+00\n",
      "Epoch 16/50\n",
      "59/59 [==============================] - 0s 3ms/step - loss: 20554.2820 - accuracy: 6.7003e-04 - val_loss: 7331.9844 - val_accuracy: 0.0000e+00\n",
      "Epoch 17/50\n",
      "59/59 [==============================] - 0s 3ms/step - loss: 31813.0701 - accuracy: 0.0053 - val_loss: 7942.2686 - val_accuracy: 0.0000e+00\n",
      "Epoch 18/50\n",
      "59/59 [==============================] - 0s 3ms/step - loss: 13311.1400 - accuracy: 0.0024 - val_loss: 5398.3975 - val_accuracy: 0.0000e+00\n",
      "Epoch 19/50\n",
      "59/59 [==============================] - 0s 3ms/step - loss: 57113.5375 - accuracy: 3.0226e-04 - val_loss: 5878.3848 - val_accuracy: 0.0000e+00\n",
      "Epoch 20/50\n",
      "59/59 [==============================] - 0s 3ms/step - loss: 14511.9969 - accuracy: 7.1169e-04 - val_loss: 6102.7510 - val_accuracy: 0.0000e+00\n",
      "Epoch 21/50\n",
      "59/59 [==============================] - 0s 3ms/step - loss: 15659.4151 - accuracy: 5.5094e-04 - val_loss: 5759.6157 - val_accuracy: 0.0000e+00\n",
      "Epoch 22/50\n",
      "59/59 [==============================] - 0s 3ms/step - loss: 11319.0076 - accuracy: 4.0433e-04 - val_loss: 5566.2300 - val_accuracy: 0.0000e+00\n",
      "Epoch 23/50\n",
      "59/59 [==============================] - 0s 3ms/step - loss: 19431.1576 - accuracy: 0.0022 - val_loss: 4638.4419 - val_accuracy: 0.0000e+00\n",
      "Epoch 24/50\n",
      "59/59 [==============================] - 0s 3ms/step - loss: 11912.7726 - accuracy: 0.0011 - val_loss: 4744.9312 - val_accuracy: 0.0000e+00\n",
      "Epoch 25/50\n",
      "59/59 [==============================] - 0s 3ms/step - loss: 8959.9546 - accuracy: 0.0012 - val_loss: 3118.5276 - val_accuracy: 0.0000e+00\n",
      "Epoch 26/50\n",
      "59/59 [==============================] - 0s 4ms/step - loss: 10691.3755 - accuracy: 0.0078 - val_loss: 2559.3997 - val_accuracy: 0.0000e+00\n",
      "Epoch 27/50\n",
      "59/59 [==============================] - 0s 5ms/step - loss: 13650.9101 - accuracy: 0.0037 - val_loss: 5171.0659 - val_accuracy: 0.0000e+00\n",
      "Epoch 28/50\n",
      "59/59 [==============================] - 0s 3ms/step - loss: 20578.8716 - accuracy: 0.0016 - val_loss: 3301.5464 - val_accuracy: 0.0000e+00\n",
      "Epoch 29/50\n",
      "59/59 [==============================] - 0s 3ms/step - loss: 5445.7136 - accuracy: 0.0024 - val_loss: 1730.7020 - val_accuracy: 0.0000e+00\n",
      "Epoch 30/50\n",
      "59/59 [==============================] - 0s 3ms/step - loss: 5546.2186 - accuracy: 0.0037 - val_loss: 2109.0098 - val_accuracy: 0.0000e+00\n",
      "Epoch 31/50\n",
      "59/59 [==============================] - 0s 5ms/step - loss: 8532.5932 - accuracy: 5.5094e-04 - val_loss: 2049.5869 - val_accuracy: 0.0000e+00\n",
      "Epoch 32/50\n",
      "59/59 [==============================] - 0s 3ms/step - loss: 3354.6159 - accuracy: 0.0000e+00 - val_loss: 2396.5391 - val_accuracy: 0.0000e+00\n",
      "Epoch 33/50\n",
      "59/59 [==============================] - 0s 3ms/step - loss: 3540.4252 - accuracy: 0.0029 - val_loss: 1115.6725 - val_accuracy: 0.0000e+00\n",
      "Epoch 34/50\n",
      "59/59 [==============================] - 0s 3ms/step - loss: 7329.7837 - accuracy: 6.2938e-04 - val_loss: 1303.0996 - val_accuracy: 0.0000e+00\n",
      "Epoch 35/50\n",
      "59/59 [==============================] - 0s 3ms/step - loss: 5007.5744 - accuracy: 0.0011 - val_loss: 1811.8116 - val_accuracy: 0.0000e+00\n",
      "Epoch 36/50\n",
      "59/59 [==============================] - 0s 3ms/step - loss: 2982.1146 - accuracy: 6.7003e-04 - val_loss: 707.8246 - val_accuracy: 0.0000e+00\n",
      "Epoch 37/50\n",
      "59/59 [==============================] - 0s 4ms/step - loss: 5383.8212 - accuracy: 4.0433e-04 - val_loss: 1148.7065 - val_accuracy: 0.0000e+00\n",
      "Epoch 38/50\n",
      "59/59 [==============================] - 0s 5ms/step - loss: 5661.9290 - accuracy: 5.1306e-04 - val_loss: 1632.5194 - val_accuracy: 0.0000e+00\n",
      "Epoch 39/50\n",
      "59/59 [==============================] - 0s 3ms/step - loss: 4576.3781 - accuracy: 0.0000e+00 - val_loss: 399.9238 - val_accuracy: 0.0000e+00\n",
      "Epoch 40/50\n",
      "59/59 [==============================] - 0s 3ms/step - loss: 3104.7992 - accuracy: 0.0014 - val_loss: 1011.8257 - val_accuracy: 0.0000e+00\n",
      "Epoch 41/50\n",
      "59/59 [==============================] - 0s 3ms/step - loss: 2190.1386 - accuracy: 1.1515e-04 - val_loss: 1355.7518 - val_accuracy: 0.0000e+00\n",
      "Epoch 42/50\n",
      "59/59 [==============================] - 0s 3ms/step - loss: 3451.8433 - accuracy: 0.0017 - val_loss: 852.8943 - val_accuracy: 0.0000e+00\n",
      "Epoch 43/50\n",
      "59/59 [==============================] - 0s 4ms/step - loss: 2320.1376 - accuracy: 0.0014 - val_loss: 640.9913 - val_accuracy: 0.0000e+00\n",
      "Epoch 44/50\n",
      "59/59 [==============================] - 0s 3ms/step - loss: 1705.2008 - accuracy: 8.5911e-05 - val_loss: 641.2862 - val_accuracy: 0.0000e+00\n",
      "Epoch 45/50\n",
      "59/59 [==============================] - 0s 3ms/step - loss: 1665.5545 - accuracy: 0.0000e+00 - val_loss: 692.5790 - val_accuracy: 0.0000e+00\n",
      "Epoch 46/50\n",
      "59/59 [==============================] - 0s 3ms/step - loss: 2850.4009 - accuracy: 5.8970e-04 - val_loss: 1156.9346 - val_accuracy: 0.0000e+00\n",
      "Epoch 47/50\n",
      "59/59 [==============================] - 0s 3ms/step - loss: 3392.8678 - accuracy: 0.0000e+00 - val_loss: 787.9021 - val_accuracy: 0.0000e+00\n",
      "Epoch 48/50\n",
      "59/59 [==============================] - 0s 3ms/step - loss: 2878.2172 - accuracy: 7.1169e-04 - val_loss: 446.0223 - val_accuracy: 0.0000e+00\n",
      "Epoch 49/50\n",
      "59/59 [==============================] - 0s 4ms/step - loss: 1845.5257 - accuracy: 4.3979e-04 - val_loss: 511.1066 - val_accuracy: 0.0000e+00\n",
      "Epoch 50/50\n",
      "59/59 [==============================] - 0s 4ms/step - loss: 1726.7355 - accuracy: 2.0608e-04 - val_loss: 359.8578 - val_accuracy: 0.0000e+00\n"
     ]
    }
   ],
   "source": [
    "#building keras Neural Network model\n",
    "\n",
    "from keras.layers import Dense, Activation\n",
    "from keras.models import Sequential\n",
    "from keras import losses\n",
    "\n",
    "# model type\n",
    "model = Sequential()\n",
    "\n",
    "# Adding the input layer and the first hidden layer\n",
    "model.add(Dense(8, activation = 'relu', input_dim = 40))\n",
    "\n",
    "# Adding the second hidden layer\n",
    "model.add(Dense(units = 16, activation = 'relu'))\n",
    "\n",
    "# Could create for loop to check number of layers\n",
    "\n",
    "#avoids overfitting\n",
    "#https://keras.io/api/layers/regularization_layers/dropout/\n",
    "model.add(keras.layers.Dropout(0.1))\n",
    "\n",
    "\n",
    "# Adding the output layer\n",
    "model.add(Dense(units = 1))\n",
    "\n",
    "\n",
    "# Compiling the ANN\n",
    "model.compile(optimizer = 'adam', loss = 'mse', metrics=['accuracy'])\n",
    "\n",
    "# Training the Model\n",
    "history = model.fit(X_train, y_train, batch_size = 10, epochs = 50, validation_split=0.3)"
   ]
  },
  {
   "cell_type": "code",
   "execution_count": 9,
   "metadata": {},
   "outputs": [
    {
     "data": {
      "image/png": "[encoded data removed]",
      "text/plain": [
       "<Figure size 432x288 with 1 Axes>"
      ]
     },
     "metadata": {
      "needs_background": "light"
     },
     "output_type": "display_data"
    },
    {
     "data": {
      "image/png": "[encoded data removed]",
      "text/plain": [
       "<Figure size 432x288 with 1 Axes>"
      ]
     },
     "metadata": {
      "needs_background": "light"
     },
     "output_type": "display_data"
    }
   ],
   "source": [
    "#plot learning curves\n",
    "\n",
    "#accuracy\n",
    "plt.plot(history.history['accuracy'])\n",
    "plt.plot(history.history['val_accuracy'])\n",
    "plt.title('model accuracy')\n",
    "plt.ylabel('accuracy')\n",
    "plt.xlabel('epoch')\n",
    "plt.legend(['Accuracy', 'Validation Accuracy'], loc='upper left')\n",
    "plt.show()\n",
    "\n",
    "#loss\n",
    "plt.plot(history.history['loss'])\n",
    "plt.plot(history.history['val_loss'])\n",
    "plt.title('model loss')\n",
    "plt.ylabel('loss')\n",
    "plt.xlabel('epoch')\n",
    "plt.legend(['Loss', 'Validation Loss'], loc='upper left')\n",
    "plt.show()\n"
   ]
  },
  {
   "cell_type": "code",
   "execution_count": 10,
   "metadata": {},
   "outputs": [],
   "source": [
    "#model evaluation\n",
    "score = model.evaluate(X_test, y_test, verbose = 0)[1]"
   ]
  },
  {
   "cell_type": "code",
   "execution_count": 11,
   "metadata": {},
   "outputs": [
    {
     "name": "stdout",
     "output_type": "stream",
     "text": [
      "Model: \"sequential\"\n",
      "_________________________________________________________________\n",
      "Layer (type)                 Output Shape              Param #   \n",
      "=================================================================\n",
      "dense (Dense)                (None, 8)                 328       \n",
      "_________________________________________________________________\n",
      "dense_1 (Dense)              (None, 16)                144       \n",
      "_________________________________________________________________\n",
      "dropout (Dropout)            (None, 16)                0         \n",
      "_________________________________________________________________\n",
      "dense_2 (Dense)              (None, 1)                 17        \n",
      "=================================================================\n",
      "Total params: 489\n",
      "Trainable params: 489\n",
      "Non-trainable params: 0\n",
      "_________________________________________________________________\n"
     ]
    }
   ],
   "source": [
    "model.summary()"
   ]
  },
  {
   "cell_type": "code",
   "execution_count": 12,
   "metadata": {},
   "outputs": [
    {
     "name": "stdout",
     "output_type": "stream",
     "text": [
      "Scores without tuning: 0.0\n"
     ]
    }
   ],
   "source": [
    "print('Scores without tuning: {}'.format(score))"
   ]
  },
  {
   "cell_type": "code",
   "execution_count": 13,
   "metadata": {},
   "outputs": [],
   "source": [
    "# get predicted values\n",
    "y_pred = model.predict(X_test)"
   ]
  },
  {
   "cell_type": "code",
   "execution_count": 14,
   "metadata": {},
   "outputs": [
    {
     "data": {
      "image/png": "[encoded data removed]",
      "text/plain": [
       "<Figure size 432x288 with 1 Axes>"
      ]
     },
     "metadata": {
      "needs_background": "light"
     },
     "output_type": "display_data"
    }
   ],
   "source": [
    "# plot predicted values against test values\n",
    "plt.plot(y_test, color = 'red', label = 'Real data')\n",
    "plt.plot(y_pred, color = 'blue', label = 'Predicted data')\n",
    "plt.title('Prediction')\n",
    "plt.legend(loc='upper right')\n",
    "plt.show()"
   ]
  },
  {
   "cell_type": "code",
   "execution_count": 15,
   "metadata": {},
   "outputs": [
    {
     "name": "stdout",
     "output_type": "stream",
     "text": [
      "Mean Absolute Error: 16.114538722524003\n",
      "Mean Squared Error: 3737.9671164486767\n",
      "Root Mean Squared Error: 61.13891654624472\n"
     ]
    }
   ],
   "source": [
    "# checking the output metrics\n",
    "from sklearn import metrics\n",
    "\n",
    "print('Mean Absolute Error:', metrics.mean_absolute_error(y_test, y_pred))\n",
    "print('Mean Squared Error:', metrics.mean_squared_error(y_test, y_pred))\n",
    "print('Root Mean Squared Error:', np.sqrt(metrics.mean_squared_error(y_test, y_pred)))"
   ]
  },
  {
   "cell_type": "code",
   "execution_count": 16,
   "metadata": {},
   "outputs": [
    {
     "name": "stdout",
     "output_type": "stream",
     "text": [
      "Output Standard Deviation: 1.6110865075846403\n",
      "Output Mean: 0.8464732245681383\n"
     ]
    }
   ],
   "source": [
    "y_mean = np.mean(y)\n",
    "y_std = np.std(y)\n",
    "print('Output Standard Deviation:', y_std)\n",
    "print('Output Mean:', y_mean)"
   ]
  },
  {
   "cell_type": "markdown",
   "metadata": {},
   "source": [
    "# Hyper Parameter Tuning Section"
   ]
  },
  {
   "cell_type": "code",
   "execution_count": 17,
   "metadata": {},
   "outputs": [],
   "source": [
    "import kerastuner\n",
    "from kerastuner import HyperModel\n",
    "\n",
    "def build_model(hp):\n",
    "    model = Sequential()\n",
    "    model.add(Dense(\n",
    "        units=hp.Int('units', min_value=8, max_value=64, step=4), \n",
    "        activation = hp.Choice('dense_activation', \n",
    "                values=['relu', 'tanh','sigmoid','softmax']),\n",
    "        input_dim = 40\n",
    "        )\n",
    "             \n",
    "    )\n",
    "\n",
    "    model.add(Dense(\n",
    "        units=hp.Int('units', min_value=8, max_value=64, step=4), \n",
    "        activation = hp.Choice('dense_activation', \n",
    "                values=['relu', 'tanh','sigmoid','softmax'])\n",
    "        )\n",
    "             \n",
    "    )\n",
    "    \n",
    "    model.add(\n",
    "        keras.layers.Dropout(\n",
    "            hp.Float(\n",
    "                    'dropout',\n",
    "                    min_value=0.0,\n",
    "                    max_value=0.1,\n",
    "                    step=0.01)\n",
    "        )\n",
    "    )\n",
    "\n",
    "    # Adding the output layer\n",
    "    model.add(Dense(units = 1))\n",
    "\n",
    "\n",
    "    model.compile(\n",
    "        optimizer = hp.Choice('dense_optimizer',\n",
    "                values=['adam','SGD','rmsprop','adadelta'] ),\n",
    "        loss = 'mean_squared_error',\n",
    "        metrics = ['accuracy'],\n",
    "    )\n",
    "    return model"
   ]
  },
  {
   "cell_type": "code",
   "execution_count": 20,
   "metadata": {},
   "outputs": [],
   "source": [
    "tuner = kerastuner.tuners.RandomSearch(\n",
    "            build_model,\n",
    "            objective='loss',\n",
    "            max_trials=50,\n",
    "            executions_per_trial=2,\n",
    "            project_name='hp_values',\n",
    "            overwrite=True)"
   ]
  },
  {
   "cell_type": "code",
   "execution_count": 21,
   "metadata": {},
   "outputs": [
    {
     "name": "stdout",
     "output_type": "stream",
     "text": [
      "Trial 50 Complete [00h 00m 04s]\n",
      "loss: 0.8484272062778473\n",
      "\n",
      "Best loss So Far: 0.8425749838352203\n",
      "Total elapsed time: 00h 03m 14s\n",
      "INFO:tensorflow:Oracle triggered exit\n"
     ]
    }
   ],
   "source": [
    "tuner.search(X_train, y_train, epochs=10)"
   ]
  },
  {
   "cell_type": "code",
   "execution_count": 27,
   "metadata": {},
   "outputs": [
    {
     "name": "stdout",
     "output_type": "stream",
     "text": [
      "Epoch 1/100\n",
      "59/59 [==============================] - 1s 6ms/step - loss: 3.5323 - accuracy: 0.0000e+00 - val_loss: 1.3286 - val_accuracy: 0.0000e+00\n",
      "Epoch 2/100\n",
      "59/59 [==============================] - 0s 3ms/step - loss: 1.2824 - accuracy: 0.0000e+00 - val_loss: 1.1524 - val_accuracy: 0.0000e+00\n",
      "Epoch 3/100\n",
      "59/59 [==============================] - 0s 3ms/step - loss: 1.1207 - accuracy: 0.0061 - val_loss: 1.0726 - val_accuracy: 0.0000e+00\n",
      "Epoch 4/100\n",
      "59/59 [==============================] - 0s 2ms/step - loss: 1.0494 - accuracy: 0.0000e+00 - val_loss: 1.0575 - val_accuracy: 0.0000e+00\n",
      "Epoch 5/100\n",
      "59/59 [==============================] - 0s 3ms/step - loss: 1.0994 - accuracy: 8.8963e-04 - val_loss: 1.1327 - val_accuracy: 0.0000e+00\n",
      "Epoch 6/100\n",
      "59/59 [==============================] - 0s 3ms/step - loss: 1.0917 - accuracy: 0.0019 - val_loss: 1.0977 - val_accuracy: 0.0000e+00\n",
      "Epoch 7/100\n",
      "59/59 [==============================] - 0s 3ms/step - loss: 0.9825 - accuracy: 4.7602e-04 - val_loss: 0.8879 - val_accuracy: 0.0000e+00\n",
      "Epoch 8/100\n",
      "59/59 [==============================] - 0s 3ms/step - loss: 1.0761 - accuracy: 9.8627e-04 - val_loss: 0.8784 - val_accuracy: 0.0000e+00\n",
      "Epoch 9/100\n",
      "59/59 [==============================] - 0s 2ms/step - loss: 0.9558 - accuracy: 0.0000e+00 - val_loss: 0.9413 - val_accuracy: 0.0000e+00\n",
      "Epoch 10/100\n",
      "59/59 [==============================] - 0s 3ms/step - loss: 0.9627 - accuracy: 8.8963e-04 - val_loss: 1.3145 - val_accuracy: 0.0000e+00\n",
      "Epoch 11/100\n",
      "59/59 [==============================] - 0s 3ms/step - loss: 1.3943 - accuracy: 3.0226e-04 - val_loss: 1.0399 - val_accuracy: 0.0000e+00\n",
      "Epoch 12/100\n",
      "59/59 [==============================] - 0s 3ms/step - loss: 1.0342 - accuracy: 0.0014 - val_loss: 1.0290 - val_accuracy: 0.0000e+00\n",
      "Epoch 13/100\n",
      "59/59 [==============================] - 0s 3ms/step - loss: 0.6041 - accuracy: 0.0047 - val_loss: 0.9134 - val_accuracy: 0.0000e+00\n",
      "Epoch 14/100\n",
      "59/59 [==============================] - 0s 3ms/step - loss: 0.8620 - accuracy: 0.0061 - val_loss: 0.8929 - val_accuracy: 0.0000e+00\n",
      "Epoch 15/100\n",
      "59/59 [==============================] - 0s 3ms/step - loss: 0.8559 - accuracy: 4.7602e-04 - val_loss: 0.8991 - val_accuracy: 0.0000e+00\n",
      "Epoch 16/100\n",
      "59/59 [==============================] - 0s 3ms/step - loss: 0.8154 - accuracy: 0.0000e+00 - val_loss: 0.8881 - val_accuracy: 0.0000e+00\n",
      "Epoch 17/100\n",
      "59/59 [==============================] - 0s 3ms/step - loss: 0.7691 - accuracy: 7.1169e-04 - val_loss: 0.8450 - val_accuracy: 0.0000e+00\n",
      "Epoch 18/100\n",
      "59/59 [==============================] - 0s 3ms/step - loss: 1.0508 - accuracy: 7.9829e-04 - val_loss: 0.9016 - val_accuracy: 0.0000e+00\n",
      "Epoch 19/100\n",
      "59/59 [==============================] - 0s 4ms/step - loss: 0.8440 - accuracy: 7.5443e-04 - val_loss: 0.8012 - val_accuracy: 0.0000e+00\n",
      "Epoch 20/100\n",
      "59/59 [==============================] - 0s 4ms/step - loss: 0.8756 - accuracy: 0.0014 - val_loss: 0.9136 - val_accuracy: 0.0000e+00\n",
      "Epoch 21/100\n",
      "59/59 [==============================] - 0s 4ms/step - loss: 0.9822 - accuracy: 4.7602e-04 - val_loss: 0.8447 - val_accuracy: 0.0000e+00\n",
      "Epoch 22/100\n",
      "59/59 [==============================] - 0s 4ms/step - loss: 0.8202 - accuracy: 0.0019 - val_loss: 0.8337 - val_accuracy: 0.0000e+00\n",
      "Epoch 23/100\n",
      "59/59 [==============================] - 0s 5ms/step - loss: 0.7419 - accuracy: 0.0021 - val_loss: 0.7583 - val_accuracy: 0.0000e+00\n",
      "Epoch 24/100\n",
      "59/59 [==============================] - 0s 5ms/step - loss: 0.8477 - accuracy: 8.8963e-04 - val_loss: 0.7500 - val_accuracy: 0.0000e+00\n",
      "Epoch 25/100\n",
      "59/59 [==============================] - 0s 5ms/step - loss: 0.9281 - accuracy: 0.0000e+00 - val_loss: 0.7743 - val_accuracy: 0.0000e+00\n",
      "Epoch 26/100\n",
      "59/59 [==============================] - 0s 5ms/step - loss: 0.7759 - accuracy: 8.8963e-04 - val_loss: 0.7679 - val_accuracy: 0.0000e+00\n",
      "Epoch 27/100\n",
      "59/59 [==============================] - 0s 4ms/step - loss: 0.7854 - accuracy: 0.0012 - val_loss: 0.7248 - val_accuracy: 0.0000e+00\n",
      "Epoch 28/100\n",
      "59/59 [==============================] - 0s 3ms/step - loss: 0.8672 - accuracy: 6.2938e-04 - val_loss: 0.8665 - val_accuracy: 0.0000e+00\n",
      "Epoch 29/100\n",
      "59/59 [==============================] - 0s 4ms/step - loss: 0.7209 - accuracy: 0.0010 - val_loss: 0.7341 - val_accuracy: 0.0000e+00\n",
      "Epoch 30/100\n",
      "59/59 [==============================] - 0s 4ms/step - loss: 0.7456 - accuracy: 0.0016 - val_loss: 0.7561 - val_accuracy: 0.0000e+00\n",
      "Epoch 31/100\n",
      "59/59 [==============================] - 0s 3ms/step - loss: 0.8244 - accuracy: 0.0014 - val_loss: 0.8455 - val_accuracy: 0.0000e+00\n",
      "Epoch 32/100\n",
      "59/59 [==============================] - 0s 4ms/step - loss: 0.8162 - accuracy: 8.4333e-04 - val_loss: 0.9189 - val_accuracy: 0.0000e+00\n",
      "Epoch 33/100\n",
      "59/59 [==============================] - 0s 3ms/step - loss: 1.0010 - accuracy: 0.0000e+00 - val_loss: 0.7427 - val_accuracy: 0.0000e+00\n",
      "Epoch 34/100\n",
      "59/59 [==============================] - 0s 3ms/step - loss: 0.7016 - accuracy: 0.0014 - val_loss: 0.6869 - val_accuracy: 0.0000e+00\n",
      "Epoch 35/100\n",
      "59/59 [==============================] - 0s 4ms/step - loss: 0.6741 - accuracy: 0.0012 - val_loss: 0.7451 - val_accuracy: 0.0000e+00\n",
      "Epoch 36/100\n",
      "59/59 [==============================] - 1s 9ms/step - loss: 0.6172 - accuracy: 0.0047 - val_loss: 0.6555 - val_accuracy: 0.0000e+00\n",
      "Epoch 37/100\n",
      "59/59 [==============================] - 0s 5ms/step - loss: 0.7150 - accuracy: 0.0029 - val_loss: 0.8698 - val_accuracy: 0.0000e+00\n",
      "Epoch 38/100\n",
      "59/59 [==============================] - 0s 3ms/step - loss: 0.9287 - accuracy: 8.4333e-04 - val_loss: 0.8735 - val_accuracy: 0.0000e+00\n",
      "Epoch 39/100\n",
      "59/59 [==============================] - 0s 3ms/step - loss: 0.7823 - accuracy: 1.7522e-04 - val_loss: 0.7145 - val_accuracy: 0.0000e+00\n",
      "Epoch 40/100\n",
      "59/59 [==============================] - 0s 3ms/step - loss: 0.9479 - accuracy: 3.0226e-04 - val_loss: 0.7341 - val_accuracy: 0.0000e+00\n",
      "Epoch 41/100\n",
      "59/59 [==============================] - 0s 3ms/step - loss: 0.7317 - accuracy: 9.3725e-04 - val_loss: 0.7614 - val_accuracy: 0.0000e+00\n",
      "Epoch 42/100\n",
      "59/59 [==============================] - 0s 3ms/step - loss: 0.7960 - accuracy: 0.0000e+00 - val_loss: 0.7441 - val_accuracy: 0.0000e+00\n",
      "Epoch 43/100\n",
      "59/59 [==============================] - 0s 3ms/step - loss: 0.9006 - accuracy: 0.0019 - val_loss: 0.7714 - val_accuracy: 0.0000e+00\n",
      "Epoch 44/100\n",
      "59/59 [==============================] - 0s 4ms/step - loss: 0.8720 - accuracy: 0.0040 - val_loss: 0.7634 - val_accuracy: 0.0000e+00\n",
      "Epoch 45/100\n",
      "59/59 [==============================] - 0s 3ms/step - loss: 0.8082 - accuracy: 8.5911e-05 - val_loss: 0.7263 - val_accuracy: 0.0000e+00\n",
      "Epoch 46/100\n",
      "59/59 [==============================] - 0s 3ms/step - loss: 0.5723 - accuracy: 0.0061 - val_loss: 0.7723 - val_accuracy: 0.0000e+00\n",
      "Epoch 47/100\n",
      "59/59 [==============================] - 0s 3ms/step - loss: 0.7012 - accuracy: 0.0000e+00 - val_loss: 0.7787 - val_accuracy: 0.0000e+00\n",
      "Epoch 48/100\n",
      "59/59 [==============================] - 0s 4ms/step - loss: 0.7876 - accuracy: 4.0433e-04 - val_loss: 0.7799 - val_accuracy: 0.0000e+00\n",
      "Epoch 49/100\n",
      "59/59 [==============================] - 0s 3ms/step - loss: 0.7876 - accuracy: 7.9829e-04 - val_loss: 0.7504 - val_accuracy: 0.0000e+00\n",
      "Epoch 50/100\n",
      "59/59 [==============================] - 0s 4ms/step - loss: 0.7229 - accuracy: 0.0033 - val_loss: 0.7684 - val_accuracy: 0.0000e+00\n",
      "Epoch 51/100\n",
      "59/59 [==============================] - 0s 3ms/step - loss: 0.9158 - accuracy: 0.0031 - val_loss: 0.7678 - val_accuracy: 0.0000e+00\n",
      "Epoch 52/100\n",
      "59/59 [==============================] - 0s 4ms/step - loss: 0.7336 - accuracy: 0.0033 - val_loss: 0.6912 - val_accuracy: 0.0000e+00\n",
      "Epoch 53/100\n",
      "59/59 [==============================] - 0s 3ms/step - loss: 0.7928 - accuracy: 0.0078 - val_loss: 0.6952 - val_accuracy: 0.0000e+00\n",
      "Epoch 54/100\n",
      "59/59 [==============================] - 0s 4ms/step - loss: 0.8479 - accuracy: 0.0040 - val_loss: 0.7874 - val_accuracy: 0.0000e+00\n",
      "Epoch 55/100\n",
      "59/59 [==============================] - 0s 4ms/step - loss: 0.7899 - accuracy: 0.0013 - val_loss: 0.6564 - val_accuracy: 0.0000e+00\n",
      "Epoch 56/100\n"
     ]
    },
    {
     "name": "stdout",
     "output_type": "stream",
     "text": [
      "59/59 [==============================] - 0s 4ms/step - loss: 0.5966 - accuracy: 0.0011 - val_loss: 0.6321 - val_accuracy: 0.0000e+00\n",
      "Epoch 57/100\n",
      "59/59 [==============================] - 0s 3ms/step - loss: 0.6023 - accuracy: 9.3725e-04 - val_loss: 0.6416 - val_accuracy: 0.0000e+00\n",
      "Epoch 58/100\n",
      "59/59 [==============================] - 0s 3ms/step - loss: 0.6918 - accuracy: 9.3725e-04 - val_loss: 0.6331 - val_accuracy: 0.0000e+00\n",
      "Epoch 59/100\n",
      "59/59 [==============================] - 0s 3ms/step - loss: 0.6471 - accuracy: 0.0029 - val_loss: 0.6492 - val_accuracy: 0.0000e+00\n",
      "Epoch 60/100\n",
      "59/59 [==============================] - 0s 3ms/step - loss: 0.7164 - accuracy: 5.8970e-04 - val_loss: 0.6592 - val_accuracy: 0.0000e+00\n",
      "Epoch 61/100\n",
      "59/59 [==============================] - 0s 3ms/step - loss: 0.5643 - accuracy: 0.0018 - val_loss: 0.6765 - val_accuracy: 0.0000e+00\n",
      "Epoch 62/100\n",
      "59/59 [==============================] - 0s 3ms/step - loss: 0.7148 - accuracy: 0.0061 - val_loss: 0.6488 - val_accuracy: 0.0000e+00\n",
      "Epoch 63/100\n",
      "59/59 [==============================] - 0s 3ms/step - loss: 0.5483 - accuracy: 0.0012 - val_loss: 0.6404 - val_accuracy: 0.0000e+00\n",
      "Epoch 64/100\n",
      "59/59 [==============================] - 0s 3ms/step - loss: 0.5201 - accuracy: 0.0033 - val_loss: 0.6199 - val_accuracy: 0.0000e+00\n",
      "Epoch 65/100\n",
      "59/59 [==============================] - 0s 3ms/step - loss: 0.5853 - accuracy: 0.0061 - val_loss: 0.6076 - val_accuracy: 0.0000e+00\n",
      "Epoch 66/100\n",
      "59/59 [==============================] - 0s 3ms/step - loss: 0.4325 - accuracy: 2.6958e-04 - val_loss: 0.6437 - val_accuracy: 0.0000e+00\n",
      "Epoch 67/100\n",
      "59/59 [==============================] - 0s 3ms/step - loss: 0.5031 - accuracy: 7.5443e-04 - val_loss: 0.6243 - val_accuracy: 0.0000e+00\n",
      "Epoch 68/100\n",
      "59/59 [==============================] - 0s 3ms/step - loss: 0.5452 - accuracy: 2.0608e-04 - val_loss: 0.5893 - val_accuracy: 0.0000e+00\n",
      "Epoch 69/100\n",
      "59/59 [==============================] - 0s 3ms/step - loss: 0.5988 - accuracy: 0.0029 - val_loss: 0.5992 - val_accuracy: 0.0000e+00\n",
      "Epoch 70/100\n",
      "59/59 [==============================] - 0s 3ms/step - loss: 0.5543 - accuracy: 8.5911e-05 - val_loss: 0.6637 - val_accuracy: 0.0000e+00\n",
      "Epoch 71/100\n",
      "59/59 [==============================] - 0s 3ms/step - loss: 0.4763 - accuracy: 0.0000e+00 - val_loss: 0.6010 - val_accuracy: 0.0000e+00\n",
      "Epoch 72/100\n",
      "59/59 [==============================] - 0s 3ms/step - loss: 0.6662 - accuracy: 9.3725e-04 - val_loss: 0.6079 - val_accuracy: 0.0000e+00\n",
      "Epoch 73/100\n",
      "59/59 [==============================] - 0s 3ms/step - loss: 0.7281 - accuracy: 0.0040 - val_loss: 0.6018 - val_accuracy: 0.0000e+00\n",
      "Epoch 74/100\n",
      "59/59 [==============================] - 0s 3ms/step - loss: 0.6397 - accuracy: 5.8970e-04 - val_loss: 0.6272 - val_accuracy: 0.0000e+00\n",
      "Epoch 75/100\n",
      "59/59 [==============================] - 0s 3ms/step - loss: 0.4658 - accuracy: 0.0026 - val_loss: 0.6404 - val_accuracy: 0.0000e+00\n",
      "Epoch 76/100\n",
      "59/59 [==============================] - 0s 3ms/step - loss: 0.7339 - accuracy: 9.8627e-04 - val_loss: 0.6359 - val_accuracy: 0.0000e+00\n",
      "Epoch 77/100\n",
      "59/59 [==============================] - 0s 3ms/step - loss: 0.6566 - accuracy: 9.3725e-04 - val_loss: 0.5730 - val_accuracy: 0.0000e+00\n",
      "Epoch 78/100\n",
      "59/59 [==============================] - 0s 3ms/step - loss: 0.6066 - accuracy: 0.0028 - val_loss: 0.5575 - val_accuracy: 0.0000e+00\n",
      "Epoch 79/100\n",
      "59/59 [==============================] - 0s 3ms/step - loss: 0.5361 - accuracy: 0.0026 - val_loss: 0.7081 - val_accuracy: 0.0000e+00\n",
      "Epoch 80/100\n",
      "59/59 [==============================] - 0s 3ms/step - loss: 0.6359 - accuracy: 9.8627e-04 - val_loss: 0.7013 - val_accuracy: 0.0000e+00\n",
      "Epoch 81/100\n",
      "59/59 [==============================] - 0s 3ms/step - loss: 0.6604 - accuracy: 9.8627e-04 - val_loss: 0.6965 - val_accuracy: 0.0000e+00\n",
      "Epoch 82/100\n",
      "59/59 [==============================] - 0s 3ms/step - loss: 0.6296 - accuracy: 3.0226e-04 - val_loss: 0.5901 - val_accuracy: 0.0000e+00\n",
      "Epoch 83/100\n",
      "59/59 [==============================] - 0s 3ms/step - loss: 0.5772 - accuracy: 0.0013 - val_loss: 0.6395 - val_accuracy: 0.0000e+00\n",
      "Epoch 84/100\n",
      "59/59 [==============================] - 0s 3ms/step - loss: 0.6647 - accuracy: 0.0014 - val_loss: 0.5266 - val_accuracy: 0.0000e+00\n",
      "Epoch 85/100\n",
      "59/59 [==============================] - 0s 3ms/step - loss: 0.5755 - accuracy: 0.0018 - val_loss: 0.5495 - val_accuracy: 0.0000e+00\n",
      "Epoch 86/100\n",
      "59/59 [==============================] - 0s 3ms/step - loss: 0.5243 - accuracy: 0.0047 - val_loss: 0.6836 - val_accuracy: 0.0000e+00\n",
      "Epoch 87/100\n",
      "59/59 [==============================] - 0s 3ms/step - loss: 0.7077 - accuracy: 8.4333e-04 - val_loss: 0.6334 - val_accuracy: 0.0000e+00\n",
      "Epoch 88/100\n",
      "59/59 [==============================] - 0s 3ms/step - loss: 0.5861 - accuracy: 6.7003e-04 - val_loss: 0.5615 - val_accuracy: 0.0000e+00\n",
      "Epoch 89/100\n",
      "59/59 [==============================] - 0s 4ms/step - loss: 0.6658 - accuracy: 3.6960e-04 - val_loss: 0.5205 - val_accuracy: 0.0000e+00\n",
      "Epoch 90/100\n",
      "59/59 [==============================] - 0s 3ms/step - loss: 0.6042 - accuracy: 1.1515e-04 - val_loss: 0.5238 - val_accuracy: 0.0000e+00\n",
      "Epoch 91/100\n",
      "59/59 [==============================] - 0s 4ms/step - loss: 0.5345 - accuracy: 0.0028 - val_loss: 0.7291 - val_accuracy: 0.0000e+00\n",
      "Epoch 92/100\n",
      "59/59 [==============================] - 0s 3ms/step - loss: 0.6568 - accuracy: 0.0037 - val_loss: 0.8733 - val_accuracy: 0.0000e+00\n",
      "Epoch 93/100\n",
      "59/59 [==============================] - 0s 3ms/step - loss: 0.6311 - accuracy: 0.0033 - val_loss: 0.8548 - val_accuracy: 0.0000e+00\n",
      "Epoch 94/100\n",
      "59/59 [==============================] - 0s 3ms/step - loss: 0.7930 - accuracy: 4.7602e-04 - val_loss: 0.7480 - val_accuracy: 0.0000e+00\n",
      "Epoch 95/100\n",
      "59/59 [==============================] - 0s 3ms/step - loss: 0.6323 - accuracy: 0.0020 - val_loss: 0.5788 - val_accuracy: 0.0000e+00\n",
      "Epoch 96/100\n",
      "59/59 [==============================] - 0s 3ms/step - loss: 0.6706 - accuracy: 5.5094e-04 - val_loss: 0.5113 - val_accuracy: 0.0000e+00\n",
      "Epoch 97/100\n",
      "59/59 [==============================] - 0s 3ms/step - loss: 0.5991 - accuracy: 0.0029 - val_loss: 0.6261 - val_accuracy: 0.0000e+00\n",
      "Epoch 98/100\n",
      "59/59 [==============================] - 0s 4ms/step - loss: 0.5297 - accuracy: 1.4491e-04 - val_loss: 0.5253 - val_accuracy: 0.0000e+00\n",
      "Epoch 99/100\n",
      "59/59 [==============================] - 0s 3ms/step - loss: 0.6401 - accuracy: 0.0017 - val_loss: 0.5461 - val_accuracy: 0.0000e+00\n",
      "Epoch 100/100\n",
      "59/59 [==============================] - 0s 3ms/step - loss: 0.5625 - accuracy: 7.9829e-04 - val_loss: 0.5252 - val_accuracy: 0.0000e+00\n"
     ]
    }
   ],
   "source": [
    "#collect best hyperparameters to rebuild model\n",
    "best_hp = tuner.get_best_hyperparameters()[0]\n",
    "model = tuner.hypermodel.build(best_hp)\n",
    "# Training the Model\n",
    "history = model.fit(X_train, y_train, batch_size = 10, epochs = 100, validation_split=0.3)"
   ]
  },
  {
   "cell_type": "code",
   "execution_count": 33,
   "metadata": {},
   "outputs": [
    {
     "data": {
      "image/png": "[encoded data removed]",
      "text/plain": [
       "<Figure size 432x288 with 1 Axes>"
      ]
     },
     "metadata": {
      "needs_background": "light"
     },
     "output_type": "display_data"
    }
   ],
   "source": [
    "#loss\n",
    "plt.plot(history.history['loss'])\n",
    "plt.plot(history.history['val_loss'])\n",
    "plt.title('model loss')\n",
    "plt.ylabel('loss')\n",
    "plt.xlabel('epoch')\n",
    "plt.legend(['Loss', 'Validation Loss'], loc='upper right')\n",
    "plt.show()"
   ]
  },
  {
   "cell_type": "code",
   "execution_count": 29,
   "metadata": {},
   "outputs": [],
   "source": [
    "# get new predicted values with Hyperparameters\n",
    "y_hp_pred = model.predict(X_test)"
   ]
  },
  {
   "cell_type": "code",
   "execution_count": 32,
   "metadata": {},
   "outputs": [
    {
     "data": {
      "image/png": "[encoded data removed]",
      "text/plain": [
       "<Figure size 432x288 with 1 Axes>"
      ]
     },
     "metadata": {
      "needs_background": "light"
     },
     "output_type": "display_data"
    }
   ],
   "source": [
    "# plot predicted values against test values\n",
    "plt.plot(y_test, color = 'red', label = 'Real data')\n",
    "plt.plot(y_hp_pred, color = 'blue', label = 'HP Predicted data')\n",
    "plt.title('HP Prediction')\n",
    "plt.legend(loc='upper right')\n",
    "plt.show()"
   ]
  },
  {
   "cell_type": "code",
   "execution_count": 31,
   "metadata": {},
   "outputs": [
    {
     "name": "stdout",
     "output_type": "stream",
     "text": [
      "Mean Absolute Error: 0.5013727176793454\n",
      "Mean Squared Error: 0.8304684533973672\n",
      "Root Mean Squared Error: 0.9113004188506484\n",
      "Output Standard Deviation: 1.4031942\n",
      "Output Mean: 0.8911539\n"
     ]
    }
   ],
   "source": [
    "# checking the output metrics\n",
    "from sklearn import metrics\n",
    "\n",
    "\n",
    "print('Mean Absolute Error:', metrics.mean_absolute_error(y_test, y_hp_pred))\n",
    "print('Mean Squared Error:', metrics.mean_squared_error(y_test, y_hp_pred))\n",
    "print('Root Mean Squared Error:', np.sqrt(metrics.mean_squared_error(y_test, y_hp_pred)))\n",
    "\n",
    "y_mean = np.mean(y_hp_pred)\n",
    "y_std = np.std(y_hp_pred)\n",
    "print('Output Standard Deviation:', y_std)\n",
    "print('Output Mean:', y_mean)"
   ]
  },
  {
   "cell_type": "code",
   "execution_count": null,
   "metadata": {},
   "outputs": [],
   "source": []
  }
 ],
 "metadata": {
  "kernelspec": {
   "display_name": "Python 3",
   "language": "python",
   "name": "python3"
  },
  "language_info": {
   "codemirror_mode": {
    "name": "ipython",
    "version": 3
   },
   "file_extension": ".py",
   "mimetype": "text/x-python",
   "name": "python",
   "nbconvert_exporter": "python",
   "pygments_lexer": "ipython3",
   "version": "3.8.5"
  }
 },
 "nbformat": 4,
 "nbformat_minor": 4
}
