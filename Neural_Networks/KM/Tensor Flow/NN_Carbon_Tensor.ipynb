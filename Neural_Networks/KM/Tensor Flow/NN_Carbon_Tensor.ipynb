{
 "cells": [
  {
   "cell_type": "code",
   "execution_count": 1,
   "metadata": {},
   "outputs": [],
   "source": [
    "#! /usr/bin/env python"
   ]
  },
  {
   "cell_type": "code",
   "execution_count": 2,
   "metadata": {},
   "outputs": [],
   "source": [
    "# import modules\n",
    "import pandas as pd\n",
    "import numpy as np \n",
    "import matplotlib.pyplot as plt\n",
    "import sklearn\n",
    "from sklearn.neural_network import MLPRegressor\n",
    "from sklearn.model_selection import train_test_split\n",
    "from sklearn import preprocessing\n",
    "from sklearn import metrics\n",
    "import tensorflow as tf\n",
    "import keras\n",
    "from tensorflow import keras\n",
    "from tensorflow.keras import layers\n",
    "from kerastuner.tuners import RandomSearch\n",
    "from keras.losses import mean_squared_error\n",
    "from keras import metrics"
   ]
  },
  {
   "cell_type": "code",
   "execution_count": 3,
   "metadata": {},
   "outputs": [],
   "source": [
    "# pull dataset\n",
    "nutrition = pd.read_pickle(\"./Nutrition_Full_Features.pkl\")"
   ]
  },
  {
   "cell_type": "code",
   "execution_count": 4,
   "metadata": {},
   "outputs": [],
   "source": [
    "#drop rows with NaN\n",
    "nutrition = nutrition.dropna()"
   ]
  },
  {
   "cell_type": "code",
   "execution_count": 5,
   "metadata": {},
   "outputs": [],
   "source": [
    "#Data for features\n",
    "X_original = nutrition.iloc[:, 11:]\n",
    "y = nutrition.iloc[:, 7]\n",
    "y = y.to_numpy()"
   ]
  },
  {
   "cell_type": "code",
   "execution_count": 6,
   "metadata": {},
   "outputs": [],
   "source": [
    "# normalise the data by feature column\n",
    "X = preprocessing.normalize(X_original, axis=0)\n",
    "X = pd.DataFrame(X_original, columns = X_original.columns) # processing loses columns headers so these must be reestablished\n",
    "X = X.to_numpy()"
   ]
  },
  {
   "cell_type": "code",
   "execution_count": 7,
   "metadata": {},
   "outputs": [],
   "source": [
    "# Splitting the dataset into the Training set and Test set\n",
    "X_train, X_test, y_train, y_test = train_test_split(X,y,test_size=0.2)"
   ]
  },
  {
   "cell_type": "code",
   "execution_count": null,
   "metadata": {},
   "outputs": [],
   "source": []
  },
  {
   "cell_type": "code",
   "execution_count": 8,
   "metadata": {},
   "outputs": [
    {
     "name": "stdout",
     "output_type": "stream",
     "text": [
      "Epoch 1/100\n",
      "84/84 [==============================] - 1s 2ms/step - loss: 461784.3911 - accuracy: 0.0041\n",
      "Epoch 2/100\n",
      "84/84 [==============================] - 0s 997us/step - loss: 140795.6934 - accuracy: 3.8802e-04\n",
      "Epoch 3/100\n",
      "84/84 [==============================] - 0s 1ms/step - loss: 60131.8918 - accuracy: 0.0000e+00\n",
      "Epoch 4/100\n",
      "84/84 [==============================] - 0s 2ms/step - loss: 32169.8006 - accuracy: 0.0000e+00\n",
      "Epoch 5/100\n",
      "84/84 [==============================] - 0s 1ms/step - loss: 39632.4109 - accuracy: 0.0000e+00\n",
      "Epoch 6/100\n",
      "84/84 [==============================] - 0s 997us/step - loss: 32562.2803 - accuracy: 0.0000e+00\n",
      "Epoch 7/100\n",
      "84/84 [==============================] - 0s 973us/step - loss: 26444.2024 - accuracy: 2.9606e-04: 0s - loss: 26640.9823 - accuracy: 0.0000e+0\n",
      "Epoch 8/100\n",
      "84/84 [==============================] - 0s 937us/step - loss: 28106.5534 - accuracy: 0.0000e+00\n",
      "Epoch 9/100\n",
      "84/84 [==============================] - 0s 896us/step - loss: 19740.8975 - accuracy: 0.0000e+00\n",
      "Epoch 10/100\n",
      "84/84 [==============================] - 0s 869us/step - loss: 12825.7282 - accuracy: 0.0000e+00\n",
      "Epoch 11/100\n",
      "84/84 [==============================] - 0s 889us/step - loss: 21564.7146 - accuracy: 0.0000e+00\n",
      "Epoch 12/100\n",
      "84/84 [==============================] - 0s 997us/step - loss: 39746.5177 - accuracy: 0.0000e+00\n",
      "Epoch 13/100\n",
      "84/84 [==============================] - 0s 901us/step - loss: 8203.4947 - accuracy: 0.0000e+00\n",
      "Epoch 14/100\n",
      "84/84 [==============================] - 0s 877us/step - loss: 8798.8129 - accuracy: 0.0000e+00\n",
      "Epoch 15/100\n",
      "84/84 [==============================] - 0s 949us/step - loss: 8399.5985 - accuracy: 0.0000e+00\n",
      "Epoch 16/100\n",
      "84/84 [==============================] - 0s 829us/step - loss: 5566.7667 - accuracy: 0.0000e+00\n",
      "Epoch 17/100\n",
      "84/84 [==============================] - 0s 889us/step - loss: 4187.0120 - accuracy: 0.0000e+00\n",
      "Epoch 18/100\n",
      "84/84 [==============================] - 0s 889us/step - loss: 4162.1305 - accuracy: 0.0000e+00\n",
      "Epoch 19/100\n",
      "84/84 [==============================] - 0s 1ms/step - loss: 5140.0934 - accuracy: 0.0000e+00\n",
      "Epoch 20/100\n",
      "84/84 [==============================] - 0s 913us/step - loss: 3932.0405 - accuracy: 0.0000e+00\n",
      "Epoch 21/100\n",
      "84/84 [==============================] - 0s 1ms/step - loss: 5611.6819 - accuracy: 0.0000e+00\n",
      "Epoch 22/100\n",
      "84/84 [==============================] - 0s 889us/step - loss: 3656.3186 - accuracy: 0.0000e+00\n",
      "Epoch 23/100\n",
      "84/84 [==============================] - 0s 913us/step - loss: 2986.3197 - accuracy: 0.0000e+00\n",
      "Epoch 24/100\n",
      "84/84 [==============================] - 0s 1ms/step - loss: 1969.0167 - accuracy: 0.0000e+00\n",
      "Epoch 25/100\n",
      "84/84 [==============================] - 0s 877us/step - loss: 1854.5074 - accuracy: 0.0000e+00\n",
      "Epoch 26/100\n",
      "84/84 [==============================] - 0s 887us/step - loss: 1650.3858 - accuracy: 0.0000e+00\n",
      "Epoch 27/100\n",
      "84/84 [==============================] - 0s 924us/step - loss: 3595.7720 - accuracy: 0.0000e+00\n",
      "Epoch 28/100\n",
      "84/84 [==============================] - 0s 889us/step - loss: 1914.6028 - accuracy: 0.0000e+00\n",
      "Epoch 29/100\n",
      "84/84 [==============================] - 0s 985us/step - loss: 1048.0153 - accuracy: 0.0000e+00\n",
      "Epoch 30/100\n",
      "84/84 [==============================] - 0s 901us/step - loss: 1581.2866 - accuracy: 0.0000e+00\n",
      "Epoch 31/100\n",
      "84/84 [==============================] - 0s 853us/step - loss: 2559.7287 - accuracy: 0.0019\n",
      "Epoch 32/100\n",
      "84/84 [==============================] - 0s 961us/step - loss: 1964.9745 - accuracy: 0.0000e+00\n",
      "Epoch 33/100\n",
      "84/84 [==============================] - 0s 974us/step - loss: 1336.2338 - accuracy: 0.0000e+00\n",
      "Epoch 34/100\n",
      "84/84 [==============================] - 0s 973us/step - loss: 1356.3709 - accuracy: 0.0000e+00\n",
      "Epoch 35/100\n",
      "84/84 [==============================] - 0s 961us/step - loss: 583.8033 - accuracy: 0.0000e+00\n",
      "Epoch 36/100\n",
      "84/84 [==============================] - 0s 967us/step - loss: 704.8090 - accuracy: 0.0000e+00\n",
      "Epoch 37/100\n",
      "84/84 [==============================] - 0s 973us/step - loss: 615.3851 - accuracy: 0.0000e+00\n",
      "Epoch 38/100\n",
      "84/84 [==============================] - 0s 925us/step - loss: 1375.3192 - accuracy: 0.0000e+00\n",
      "Epoch 39/100\n",
      "84/84 [==============================] - 0s 865us/step - loss: 1994.0038 - accuracy: 0.0000e+00\n",
      "Epoch 40/100\n",
      "84/84 [==============================] - 0s 841us/step - loss: 589.4893 - accuracy: 0.0000e+00\n",
      "Epoch 41/100\n",
      "84/84 [==============================] - 0s 925us/step - loss: 1251.5217 - accuracy: 0.0000e+00\n",
      "Epoch 42/100\n",
      "84/84 [==============================] - 0s 908us/step - loss: 1126.6302 - accuracy: 0.0000e+00\n",
      "Epoch 43/100\n",
      "84/84 [==============================] - 0s 961us/step - loss: 604.2801 - accuracy: 2.2734e-04\n",
      "Epoch 44/100\n",
      "84/84 [==============================] - 0s 889us/step - loss: 434.3361 - accuracy: 0.0000e+00\n",
      "Epoch 45/100\n",
      "84/84 [==============================] - 0s 853us/step - loss: 1282.5350 - accuracy: 1.4673e-04\n",
      "Epoch 46/100\n",
      "84/84 [==============================] - 0s 913us/step - loss: 475.8054 - accuracy: 0.0000e+00\n",
      "Epoch 47/100\n",
      "84/84 [==============================] - 0s 877us/step - loss: 730.6418 - accuracy: 0.0000e+00\n",
      "Epoch 48/100\n",
      "84/84 [==============================] - 0s 913us/step - loss: 494.5689 - accuracy: 0.0000e+00\n",
      "Epoch 49/100\n",
      "84/84 [==============================] - 0s 889us/step - loss: 253.7663 - accuracy: 0.0000e+00\n",
      "Epoch 50/100\n",
      "84/84 [==============================] - 0s 877us/step - loss: 282.7740 - accuracy: 0.0000e+00\n",
      "Epoch 51/100\n",
      "84/84 [==============================] - 0s 859us/step - loss: 559.2108 - accuracy: 0.0000e+00\n",
      "Epoch 52/100\n",
      "84/84 [==============================] - 0s 865us/step - loss: 208.3882 - accuracy: 0.0000e+00\n",
      "Epoch 53/100\n",
      "84/84 [==============================] - 0s 961us/step - loss: 529.1029 - accuracy: 1.0089e-04\n",
      "Epoch 54/100\n",
      "84/84 [==============================] - 0s 949us/step - loss: 243.6884 - accuracy: 8.5076e-04\n",
      "Epoch 55/100\n",
      "84/84 [==============================] - 0s 937us/step - loss: 484.5688 - accuracy: 0.0000e+00\n",
      "Epoch 56/100\n",
      "84/84 [==============================] - 0s 889us/step - loss: 279.7789 - accuracy: 0.0000e+00\n",
      "Epoch 57/100\n",
      "84/84 [==============================] - 0s 853us/step - loss: 3147.6457 - accuracy: 0.0000e+00\n",
      "Epoch 58/100\n",
      "84/84 [==============================] - 0s 877us/step - loss: 645.5308 - accuracy: 0.0000e+00\n",
      "Epoch 59/100\n",
      "84/84 [==============================] - 0s 913us/step - loss: 55.1282 - accuracy: 0.0000e+00\n",
      "Epoch 60/100\n",
      "84/84 [==============================] - 0s 937us/step - loss: 145.0151 - accuracy: 0.0000e+00\n",
      "Epoch 61/100\n",
      "84/84 [==============================] - 0s 896us/step - loss: 391.8659 - accuracy: 0.0000e+00\n",
      "Epoch 62/100\n",
      "84/84 [==============================] - 0s 877us/step - loss: 289.3523 - accuracy: 0.0000e+00\n",
      "Epoch 63/100\n",
      "84/84 [==============================] - 0s 901us/step - loss: 128.7833 - accuracy: 0.0000e+00\n",
      "Epoch 64/100\n",
      "84/84 [==============================] - 0s 973us/step - loss: 253.1452 - accuracy: 0.0000e+00\n",
      "Epoch 65/100\n",
      "84/84 [==============================] - 0s 969us/step - loss: 31.3478 - accuracy: 0.0000e+00\n",
      "Epoch 66/100\n",
      "84/84 [==============================] - 0s 955us/step - loss: 121.7350 - accuracy: 0.0000e+00\n",
      "Epoch 67/100\n",
      "84/84 [==============================] - 0s 901us/step - loss: 75.8158 - accuracy: 0.0000e+00\n",
      "Epoch 68/100\n",
      "84/84 [==============================] - 0s 889us/step - loss: 52.3338 - accuracy: 0.0000e+00\n",
      "Epoch 69/100\n",
      "84/84 [==============================] - 0s 877us/step - loss: 25.4855 - accuracy: 0.0017\n",
      "Epoch 70/100\n",
      "84/84 [==============================] - 0s 889us/step - loss: 35.0682 - accuracy: 0.0000e+00\n",
      "Epoch 71/100\n",
      "84/84 [==============================] - 0s 865us/step - loss: 31.2996 - accuracy: 2.7850e-04\n",
      "Epoch 72/100\n",
      "84/84 [==============================] - 0s 949us/step - loss: 67.3760 - accuracy: 0.0000e+00\n",
      "Epoch 73/100\n",
      "84/84 [==============================] - 0s 877us/step - loss: 122.9128 - accuracy: 0.0000e+00\n",
      "Epoch 74/100\n",
      "84/84 [==============================] - 0s 853us/step - loss: 131.8898 - accuracy: 0.0000e+00\n",
      "Epoch 75/100\n",
      "84/84 [==============================] - 0s 937us/step - loss: 83.4474 - accuracy: 7.6865e-04\n",
      "Epoch 76/100\n"
     ]
    },
    {
     "name": "stdout",
     "output_type": "stream",
     "text": [
      "84/84 [==============================] - 0s 1ms/step - loss: 92.4067 - accuracy: 0.0000e+00\n",
      "Epoch 77/100\n",
      "84/84 [==============================] - 0s 961us/step - loss: 30.2192 - accuracy: 0.0000e+00\n",
      "Epoch 78/100\n",
      "84/84 [==============================] - 0s 1ms/step - loss: 75.5685 - accuracy: 0.0000e+00\n",
      "Epoch 79/100\n",
      "84/84 [==============================] - 0s 1ms/step - loss: 52.9046 - accuracy: 0.0000e+00\n",
      "Epoch 80/100\n",
      "84/84 [==============================] - 0s 973us/step - loss: 17.7010 - accuracy: 0.0000e+00\n",
      "Epoch 81/100\n",
      "84/84 [==============================] - 0s 1ms/step - loss: 17.3360 - accuracy: 0.0000e+00\n",
      "Epoch 82/100\n",
      "84/84 [==============================] - 0s 963us/step - loss: 16.1598 - accuracy: 0.0000e+00\n",
      "Epoch 83/100\n",
      "84/84 [==============================] - 0s 1ms/step - loss: 46.9377 - accuracy: 0.0000e+00\n",
      "Epoch 84/100\n",
      "84/84 [==============================] - 0s 1ms/step - loss: 28.4350 - accuracy: 0.0000e+00\n",
      "Epoch 85/100\n",
      "84/84 [==============================] - 0s 987us/step - loss: 31.1739 - accuracy: 0.0000e+00\n",
      "Epoch 86/100\n",
      "84/84 [==============================] - 0s 997us/step - loss: 56.3063 - accuracy: 0.0015\n",
      "Epoch 87/100\n",
      "84/84 [==============================] - 0s 997us/step - loss: 25.5316 - accuracy: 0.0000e+00\n",
      "Epoch 88/100\n",
      "84/84 [==============================] - 0s 1ms/step - loss: 11.1084 - accuracy: 5.6768e-05\n",
      "Epoch 89/100\n",
      "84/84 [==============================] - 0s 925us/step - loss: 6.1571 - accuracy: 0.0000e+00\n",
      "Epoch 90/100\n",
      "84/84 [==============================] - 0s 1ms/step - loss: 55.1394 - accuracy: 4.2421e-05\n",
      "Epoch 91/100\n",
      "84/84 [==============================] - 0s 913us/step - loss: 5.9244 - accuracy: 1.1597e-04\n",
      "Epoch 92/100\n",
      "84/84 [==============================] - 0s 1ms/step - loss: 13.8025 - accuracy: 0.0000e+00\n",
      "Epoch 93/100\n",
      "84/84 [==============================] - 0s 985us/step - loss: 20.2498 - accuracy: 0.0000e+00\n",
      "Epoch 94/100\n",
      "84/84 [==============================] - 0s 961us/step - loss: 14.6656 - accuracy: 0.0000e+00\n",
      "Epoch 95/100\n",
      "84/84 [==============================] - 0s 1ms/step - loss: 6.8958 - accuracy: 0.0000e+00\n",
      "Epoch 96/100\n",
      "84/84 [==============================] - 0s 1ms/step - loss: 8.4994 - accuracy: 0.0000e+00\n",
      "Epoch 97/100\n",
      "84/84 [==============================] - 0s 853us/step - loss: 5.9540 - accuracy: 0.0000e+00\n",
      "Epoch 98/100\n",
      "84/84 [==============================] - 0s 937us/step - loss: 5.1449 - accuracy: 0.0000e+00\n",
      "Epoch 99/100\n",
      "84/84 [==============================] - 0s 877us/step - loss: 103.4150 - accuracy: 0.0000e+00\n",
      "Epoch 100/100\n",
      "84/84 [==============================] - 0s 853us/step - loss: 8.1939 - accuracy: 0.0000e+00\n"
     ]
    }
   ],
   "source": [
    "#building keras Neural Network model\n",
    "\n",
    "from keras.layers import Dense, Activation\n",
    "from keras.models import Sequential\n",
    "from keras import losses\n",
    "\n",
    "# model type\n",
    "model = Sequential()\n",
    "\n",
    "# Adding the input layer and the first hidden layer\n",
    "model.add(Dense(8, activation = 'relu', input_dim = 40))\n",
    "\n",
    "# Adding the second hidden layer\n",
    "model.add(Dense(units = 16, activation = 'relu'))\n",
    "\n",
    "# Could create for loop to check number of layers\n",
    "\n",
    "#avoids overfitting\n",
    "#https://keras.io/api/layers/regularization_layers/dropout/\n",
    "model.add(keras.layers.Dropout(0.1))\n",
    "\n",
    "\n",
    "# Adding the output layer\n",
    "model.add(Dense(units = 1))\n",
    "\n",
    "\n",
    "# Compiling the ANN\n",
    "model.compile(optimizer = 'adam', loss = 'mean_squared_error', metrics=['accuracy'])#=history\n",
    "\n",
    "# Fitting the ANN to the Training set\n",
    "history = model.fit(X_train, y_train, batch_size = 10, epochs = 100)"
   ]
  },
  {
   "cell_type": "code",
   "execution_count": null,
   "metadata": {},
   "outputs": [],
   "source": []
  },
  {
   "cell_type": "code",
   "execution_count": 9,
   "metadata": {},
   "outputs": [
    {
     "name": "stdout",
     "output_type": "stream",
     "text": [
      "Test loss: 9.15984058380127 / Test accuracy: 0.0\n"
     ]
    }
   ],
   "source": [
    "#model evaluation\n",
    "score = model.evaluate(X_test, y_test, verbose = 0)\n",
    "print(f'Test loss: {score[0]} / Test accuracy: {score[1]}')"
   ]
  },
  {
   "cell_type": "code",
   "execution_count": 10,
   "metadata": {},
   "outputs": [
    {
     "name": "stdout",
     "output_type": "stream",
     "text": [
      "Model: \"sequential\"\n",
      "_________________________________________________________________\n",
      "Layer (type)                 Output Shape              Param #   \n",
      "=================================================================\n",
      "dense (Dense)                (None, 8)                 328       \n",
      "_________________________________________________________________\n",
      "dense_1 (Dense)              (None, 16)                144       \n",
      "_________________________________________________________________\n",
      "dropout (Dropout)            (None, 16)                0         \n",
      "_________________________________________________________________\n",
      "dense_2 (Dense)              (None, 1)                 17        \n",
      "=================================================================\n",
      "Total params: 489\n",
      "Trainable params: 489\n",
      "Non-trainable params: 0\n",
      "_________________________________________________________________\n"
     ]
    }
   ],
   "source": [
    "model.summary()"
   ]
  },
  {
   "cell_type": "code",
   "execution_count": 11,
   "metadata": {},
   "outputs": [
    {
     "name": "stdout",
     "output_type": "stream",
     "text": [
      "Scores without tuning: [9.15984058380127, 0.0]\n"
     ]
    }
   ],
   "source": [
    "print('Scores without tuning: {}'.format(score))"
   ]
  },
  {
   "cell_type": "code",
   "execution_count": 12,
   "metadata": {},
   "outputs": [],
   "source": [
    "# get predicted values\n",
    "y_pred = model.predict(X_test)"
   ]
  },
  {
   "cell_type": "code",
   "execution_count": 13,
   "metadata": {},
   "outputs": [
    {
     "data": {
      "image/png": "[encoded data removed]",
      "text/plain": [
       "<Figure size 432x288 with 1 Axes>"
      ]
     },
     "metadata": {
      "needs_background": "light"
     },
     "output_type": "display_data"
    }
   ],
   "source": [
    "# plot predicted values against test values\n",
    "plt.plot(y_test, color = 'red', label = 'Real data')\n",
    "plt.plot(y_pred, color = 'blue', label = 'Predicted data')\n",
    "plt.title('Prediction')\n",
    "plt.legend()\n",
    "plt.show()"
   ]
  },
  {
   "cell_type": "code",
   "execution_count": 14,
   "metadata": {},
   "outputs": [
    {
     "name": "stdout",
     "output_type": "stream",
     "text": [
      "Mean Absolute Error: 1.4077091019936157\n",
      "Mean Squared Error: 9.159841545650027\n",
      "Root Mean Squared Error: 3.026523012575656\n"
     ]
    }
   ],
   "source": [
    "# checking the output metrics\n",
    "from sklearn import metrics\n",
    "\n",
    "print('Mean Absolute Error:', metrics.mean_absolute_error(y_test, y_pred))\n",
    "print('Mean Squared Error:', metrics.mean_squared_error(y_test, y_pred))\n",
    "print('Root Mean Squared Error:', np.sqrt(metrics.mean_squared_error(y_test, y_pred)))"
   ]
  },
  {
   "cell_type": "code",
   "execution_count": 15,
   "metadata": {},
   "outputs": [
    {
     "name": "stdout",
     "output_type": "stream",
     "text": [
      "Output Standard Deviation: 1.6110865075846403\n",
      "Output Mean: 0.8464732245681383\n"
     ]
    }
   ],
   "source": [
    "y_mean = np.mean(y)\n",
    "y_std = np.std(y)\n",
    "print('Output Standard Deviation:', y_std)\n",
    "print('Output Mean:', y_mean)"
   ]
  },
  {
   "cell_type": "markdown",
   "metadata": {},
   "source": [
    "# Hyper Parameter Tuning Section"
   ]
  },
  {
   "cell_type": "code",
   "execution_count": 16,
   "metadata": {},
   "outputs": [],
   "source": [
    "import kerastuner\n",
    "from kerastuner import HyperModel\n",
    "\n",
    "def build_model(hp):\n",
    "    model = Sequential()\n",
    "    model.add(Dense(\n",
    "        units=hp.Int('units', min_value=8, max_value=64, step=4), \n",
    "        activation = hp.Choice('dense_activation', \n",
    "                values=['relu', 'tanh','sigmoid','softmax']),\n",
    "        input_dim = 40\n",
    "        )\n",
    "             \n",
    "    )\n",
    "\n",
    "    model.add(Dense(\n",
    "        units=hp.Int('units', min_value=8, max_value=64, step=4), \n",
    "        activation = hp.Choice('dense_activation', \n",
    "                values=['relu', 'tanh','sigmoid','softmax'])\n",
    "        )\n",
    "             \n",
    "    )\n",
    "    \n",
    "    model.add(\n",
    "        keras.layers.Dropout(\n",
    "            hp.Float(\n",
    "                    'dropout',\n",
    "                    min_value=0.0,\n",
    "                    max_value=0.1,\n",
    "                    step=0.01)\n",
    "        )\n",
    "    )\n",
    "\n",
    "    # Adding the output layer\n",
    "    model.add(Dense(units = 1))\n",
    "\n",
    "\n",
    "    model.compile(\n",
    "        optimizer = hp.Choice('dense_optimizer',\n",
    "                values=['adam','SGD','rmsprop','adadelta'] ),\n",
    "        loss = 'mean_squared_error',\n",
    "        metrics = ['accuracy'],\n",
    "    )\n",
    "    return model"
   ]
  },
  {
   "cell_type": "code",
   "execution_count": 17,
   "metadata": {},
   "outputs": [],
   "source": [
    "tuner = kerastuner.tuners.RandomSearch(\n",
    "            build_model,\n",
    "            objective='accuracy',\n",
    "            max_trials=200,\n",
    "            executions_per_trial=2,\n",
    "            project_name='hp_values',\n",
    "            overwrite=True)"
   ]
  },
  {
   "cell_type": "code",
   "execution_count": 18,
   "metadata": {},
   "outputs": [
    {
     "name": "stdout",
     "output_type": "stream",
     "text": [
      "Trial 180 Complete [00h 00m 04s]\n",
      "accuracy: 0.0006002400768920779\n",
      "\n",
      "Best accuracy So Far: 0.0012004801537841558\n",
      "Total elapsed time: 00h 12m 18s\n",
      "\n",
      "Search: Running Trial #181\n",
      "\n",
      "Hyperparameter    |Value             |Best Value So Far \n",
      "units             |32                |24                \n",
      "dense_activation  |sigmoid           |softmax           \n",
      "dropout           |0.09              |0.02              \n",
      "dense_optimizer   |SGD               |SGD               \n",
      "\n",
      "Epoch 1/10\n",
      "27/27 [==============================] - 1s 3ms/step - loss: 2.2086 - accuracy: 0.0000e+00\n",
      "Epoch 2/10\n",
      "27/27 [==============================] - 0s 2ms/step - loss: 2.3581 - accuracy: 0.0010\n",
      "Epoch 3/10\n",
      "27/27 [==============================] - 0s 2ms/step - loss: 2.0544 - accuracy: 0.0000e+00\n",
      "Epoch 4/10\n",
      "27/27 [==============================] - 0s 3ms/step - loss: 2.2411 - accuracy: 0.0000e+00\n",
      "Epoch 5/10\n",
      "27/27 [==============================] - 0s 3ms/step - loss: 2.0103 - accuracy: 0.0000e+00\n",
      "Epoch 6/10\n",
      "27/27 [==============================] - 0s 2ms/step - loss: 2.2407 - accuracy: 5.4877e-04\n",
      "Epoch 7/10\n",
      "27/27 [==============================] - 0s 4ms/step - loss: 2.1558 - accuracy: 1.7332e-04\n",
      "Epoch 8/10\n",
      "27/27 [==============================] - 0s 3ms/step - loss: 1.9695 - accuracy: 0.0023\n",
      "Epoch 9/10\n",
      "27/27 [==============================] - 0s 3ms/step - loss: 2.0023 - accuracy: 0.0000e+00\n",
      "Epoch 10/10\n",
      "27/27 [==============================] - 0s 3ms/step - loss: 2.2418 - accuracy: 3.7222e-04\n",
      "Epoch 1/10\n",
      "27/27 [==============================] - 1s 3ms/step - loss: 2.7104 - accuracy: 0.0021\n",
      "Epoch 2/10\n",
      "27/27 [==============================] - 0s 3ms/step - loss: 2.5973 - accuracy: 0.0000e+00\n",
      "Epoch 3/10\n",
      "27/27 [==============================] - 0s 2ms/step - loss: 2.4165 - accuracy: 0.0000e+00\n",
      "Epoch 4/10\n",
      "23/27 [========================>.....] - ETA: 0s - loss: 2.5814 - accuracy: 0.0000e+00"
     ]
    },
    {
     "ename": "KeyboardInterrupt",
     "evalue": "",
     "output_type": "error",
     "traceback": [
      "\u001b[1;31m---------------------------------------------------------------------------\u001b[0m",
      "\u001b[1;31mKeyboardInterrupt\u001b[0m                         Traceback (most recent call last)",
      "\u001b[1;32m<ipython-input-18-c528bc831cea>\u001b[0m in \u001b[0;36m<module>\u001b[1;34m\u001b[0m\n\u001b[1;32m----> 1\u001b[1;33m \u001b[0mtuner\u001b[0m\u001b[1;33m.\u001b[0m\u001b[0msearch\u001b[0m\u001b[1;33m(\u001b[0m\u001b[0mX_train\u001b[0m\u001b[1;33m,\u001b[0m \u001b[0my_train\u001b[0m\u001b[1;33m,\u001b[0m \u001b[0mepochs\u001b[0m\u001b[1;33m=\u001b[0m\u001b[1;36m10\u001b[0m\u001b[1;33m)\u001b[0m\u001b[1;33m\u001b[0m\u001b[1;33m\u001b[0m\u001b[0m\n\u001b[0m",
      "\u001b[1;32m~\\anaconda3\\lib\\site-packages\\kerastuner\\engine\\base_tuner.py\u001b[0m in \u001b[0;36msearch\u001b[1;34m(self, *fit_args, **fit_kwargs)\u001b[0m\n\u001b[0;32m    129\u001b[0m \u001b[1;33m\u001b[0m\u001b[0m\n\u001b[0;32m    130\u001b[0m             \u001b[0mself\u001b[0m\u001b[1;33m.\u001b[0m\u001b[0mon_trial_begin\u001b[0m\u001b[1;33m(\u001b[0m\u001b[0mtrial\u001b[0m\u001b[1;33m)\u001b[0m\u001b[1;33m\u001b[0m\u001b[1;33m\u001b[0m\u001b[0m\n\u001b[1;32m--> 131\u001b[1;33m             \u001b[0mself\u001b[0m\u001b[1;33m.\u001b[0m\u001b[0mrun_trial\u001b[0m\u001b[1;33m(\u001b[0m\u001b[0mtrial\u001b[0m\u001b[1;33m,\u001b[0m \u001b[1;33m*\u001b[0m\u001b[0mfit_args\u001b[0m\u001b[1;33m,\u001b[0m \u001b[1;33m**\u001b[0m\u001b[0mfit_kwargs\u001b[0m\u001b[1;33m)\u001b[0m\u001b[1;33m\u001b[0m\u001b[1;33m\u001b[0m\u001b[0m\n\u001b[0m\u001b[0;32m    132\u001b[0m             \u001b[0mself\u001b[0m\u001b[1;33m.\u001b[0m\u001b[0mon_trial_end\u001b[0m\u001b[1;33m(\u001b[0m\u001b[0mtrial\u001b[0m\u001b[1;33m)\u001b[0m\u001b[1;33m\u001b[0m\u001b[1;33m\u001b[0m\u001b[0m\n\u001b[0;32m    133\u001b[0m         \u001b[0mself\u001b[0m\u001b[1;33m.\u001b[0m\u001b[0mon_search_end\u001b[0m\u001b[1;33m(\u001b[0m\u001b[1;33m)\u001b[0m\u001b[1;33m\u001b[0m\u001b[1;33m\u001b[0m\u001b[0m\n",
      "\u001b[1;32m~\\anaconda3\\lib\\site-packages\\kerastuner\\engine\\multi_execution_tuner.py\u001b[0m in \u001b[0;36mrun_trial\u001b[1;34m(self, trial, *fit_args, **fit_kwargs)\u001b[0m\n\u001b[0;32m     94\u001b[0m             \u001b[0mcopied_fit_kwargs\u001b[0m\u001b[1;33m[\u001b[0m\u001b[1;34m'callbacks'\u001b[0m\u001b[1;33m]\u001b[0m \u001b[1;33m=\u001b[0m \u001b[0mcallbacks\u001b[0m\u001b[1;33m\u001b[0m\u001b[1;33m\u001b[0m\u001b[0m\n\u001b[0;32m     95\u001b[0m \u001b[1;33m\u001b[0m\u001b[0m\n\u001b[1;32m---> 96\u001b[1;33m             \u001b[0mhistory\u001b[0m \u001b[1;33m=\u001b[0m \u001b[0mself\u001b[0m\u001b[1;33m.\u001b[0m\u001b[0m_build_and_fit_model\u001b[0m\u001b[1;33m(\u001b[0m\u001b[0mtrial\u001b[0m\u001b[1;33m,\u001b[0m \u001b[0mfit_args\u001b[0m\u001b[1;33m,\u001b[0m \u001b[0mcopied_fit_kwargs\u001b[0m\u001b[1;33m)\u001b[0m\u001b[1;33m\u001b[0m\u001b[1;33m\u001b[0m\u001b[0m\n\u001b[0m\u001b[0;32m     97\u001b[0m             \u001b[1;32mfor\u001b[0m \u001b[0mmetric\u001b[0m\u001b[1;33m,\u001b[0m \u001b[0mepoch_values\u001b[0m \u001b[1;32min\u001b[0m \u001b[0mhistory\u001b[0m\u001b[1;33m.\u001b[0m\u001b[0mhistory\u001b[0m\u001b[1;33m.\u001b[0m\u001b[0mitems\u001b[0m\u001b[1;33m(\u001b[0m\u001b[1;33m)\u001b[0m\u001b[1;33m:\u001b[0m\u001b[1;33m\u001b[0m\u001b[1;33m\u001b[0m\u001b[0m\n\u001b[0;32m     98\u001b[0m                 \u001b[1;32mif\u001b[0m \u001b[0mself\u001b[0m\u001b[1;33m.\u001b[0m\u001b[0moracle\u001b[0m\u001b[1;33m.\u001b[0m\u001b[0mobjective\u001b[0m\u001b[1;33m.\u001b[0m\u001b[0mdirection\u001b[0m \u001b[1;33m==\u001b[0m \u001b[1;34m'min'\u001b[0m\u001b[1;33m:\u001b[0m\u001b[1;33m\u001b[0m\u001b[1;33m\u001b[0m\u001b[0m\n",
      "\u001b[1;32m~\\anaconda3\\lib\\site-packages\\kerastuner\\engine\\tuner.py\u001b[0m in \u001b[0;36m_build_and_fit_model\u001b[1;34m(self, trial, fit_args, fit_kwargs)\u001b[0m\n\u001b[0;32m    139\u001b[0m         \"\"\"\n\u001b[0;32m    140\u001b[0m         \u001b[0mmodel\u001b[0m \u001b[1;33m=\u001b[0m \u001b[0mself\u001b[0m\u001b[1;33m.\u001b[0m\u001b[0mhypermodel\u001b[0m\u001b[1;33m.\u001b[0m\u001b[0mbuild\u001b[0m\u001b[1;33m(\u001b[0m\u001b[0mtrial\u001b[0m\u001b[1;33m.\u001b[0m\u001b[0mhyperparameters\u001b[0m\u001b[1;33m)\u001b[0m\u001b[1;33m\u001b[0m\u001b[1;33m\u001b[0m\u001b[0m\n\u001b[1;32m--> 141\u001b[1;33m         \u001b[1;32mreturn\u001b[0m \u001b[0mmodel\u001b[0m\u001b[1;33m.\u001b[0m\u001b[0mfit\u001b[0m\u001b[1;33m(\u001b[0m\u001b[1;33m*\u001b[0m\u001b[0mfit_args\u001b[0m\u001b[1;33m,\u001b[0m \u001b[1;33m**\u001b[0m\u001b[0mfit_kwargs\u001b[0m\u001b[1;33m)\u001b[0m\u001b[1;33m\u001b[0m\u001b[1;33m\u001b[0m\u001b[0m\n\u001b[0m\u001b[0;32m    142\u001b[0m \u001b[1;33m\u001b[0m\u001b[0m\n\u001b[0;32m    143\u001b[0m     \u001b[1;32mdef\u001b[0m \u001b[0mrun_trial\u001b[0m\u001b[1;33m(\u001b[0m\u001b[0mself\u001b[0m\u001b[1;33m,\u001b[0m \u001b[0mtrial\u001b[0m\u001b[1;33m,\u001b[0m \u001b[1;33m*\u001b[0m\u001b[0mfit_args\u001b[0m\u001b[1;33m,\u001b[0m \u001b[1;33m**\u001b[0m\u001b[0mfit_kwargs\u001b[0m\u001b[1;33m)\u001b[0m\u001b[1;33m:\u001b[0m\u001b[1;33m\u001b[0m\u001b[1;33m\u001b[0m\u001b[0m\n",
      "\u001b[1;32m~\\anaconda3\\lib\\site-packages\\tensorflow\\python\\keras\\engine\\training.py\u001b[0m in \u001b[0;36mfit\u001b[1;34m(self, x, y, batch_size, epochs, verbose, callbacks, validation_split, validation_data, shuffle, class_weight, sample_weight, initial_epoch, steps_per_epoch, validation_steps, validation_batch_size, validation_freq, max_queue_size, workers, use_multiprocessing)\u001b[0m\n\u001b[0;32m   1098\u001b[0m                 _r=1):\n\u001b[0;32m   1099\u001b[0m               \u001b[0mcallbacks\u001b[0m\u001b[1;33m.\u001b[0m\u001b[0mon_train_batch_begin\u001b[0m\u001b[1;33m(\u001b[0m\u001b[0mstep\u001b[0m\u001b[1;33m)\u001b[0m\u001b[1;33m\u001b[0m\u001b[1;33m\u001b[0m\u001b[0m\n\u001b[1;32m-> 1100\u001b[1;33m               \u001b[0mtmp_logs\u001b[0m \u001b[1;33m=\u001b[0m \u001b[0mself\u001b[0m\u001b[1;33m.\u001b[0m\u001b[0mtrain_function\u001b[0m\u001b[1;33m(\u001b[0m\u001b[0miterator\u001b[0m\u001b[1;33m)\u001b[0m\u001b[1;33m\u001b[0m\u001b[1;33m\u001b[0m\u001b[0m\n\u001b[0m\u001b[0;32m   1101\u001b[0m               \u001b[1;32mif\u001b[0m \u001b[0mdata_handler\u001b[0m\u001b[1;33m.\u001b[0m\u001b[0mshould_sync\u001b[0m\u001b[1;33m:\u001b[0m\u001b[1;33m\u001b[0m\u001b[1;33m\u001b[0m\u001b[0m\n\u001b[0;32m   1102\u001b[0m                 \u001b[0mcontext\u001b[0m\u001b[1;33m.\u001b[0m\u001b[0masync_wait\u001b[0m\u001b[1;33m(\u001b[0m\u001b[1;33m)\u001b[0m\u001b[1;33m\u001b[0m\u001b[1;33m\u001b[0m\u001b[0m\n",
      "\u001b[1;32m~\\anaconda3\\lib\\site-packages\\tensorflow\\python\\eager\\def_function.py\u001b[0m in \u001b[0;36m__call__\u001b[1;34m(self, *args, **kwds)\u001b[0m\n\u001b[0;32m    826\u001b[0m     \u001b[0mtracing_count\u001b[0m \u001b[1;33m=\u001b[0m \u001b[0mself\u001b[0m\u001b[1;33m.\u001b[0m\u001b[0mexperimental_get_tracing_count\u001b[0m\u001b[1;33m(\u001b[0m\u001b[1;33m)\u001b[0m\u001b[1;33m\u001b[0m\u001b[1;33m\u001b[0m\u001b[0m\n\u001b[0;32m    827\u001b[0m     \u001b[1;32mwith\u001b[0m \u001b[0mtrace\u001b[0m\u001b[1;33m.\u001b[0m\u001b[0mTrace\u001b[0m\u001b[1;33m(\u001b[0m\u001b[0mself\u001b[0m\u001b[1;33m.\u001b[0m\u001b[0m_name\u001b[0m\u001b[1;33m)\u001b[0m \u001b[1;32mas\u001b[0m \u001b[0mtm\u001b[0m\u001b[1;33m:\u001b[0m\u001b[1;33m\u001b[0m\u001b[1;33m\u001b[0m\u001b[0m\n\u001b[1;32m--> 828\u001b[1;33m       \u001b[0mresult\u001b[0m \u001b[1;33m=\u001b[0m \u001b[0mself\u001b[0m\u001b[1;33m.\u001b[0m\u001b[0m_call\u001b[0m\u001b[1;33m(\u001b[0m\u001b[1;33m*\u001b[0m\u001b[0margs\u001b[0m\u001b[1;33m,\u001b[0m \u001b[1;33m**\u001b[0m\u001b[0mkwds\u001b[0m\u001b[1;33m)\u001b[0m\u001b[1;33m\u001b[0m\u001b[1;33m\u001b[0m\u001b[0m\n\u001b[0m\u001b[0;32m    829\u001b[0m       \u001b[0mcompiler\u001b[0m \u001b[1;33m=\u001b[0m \u001b[1;34m\"xla\"\u001b[0m \u001b[1;32mif\u001b[0m \u001b[0mself\u001b[0m\u001b[1;33m.\u001b[0m\u001b[0m_experimental_compile\u001b[0m \u001b[1;32melse\u001b[0m \u001b[1;34m\"nonXla\"\u001b[0m\u001b[1;33m\u001b[0m\u001b[1;33m\u001b[0m\u001b[0m\n\u001b[0;32m    830\u001b[0m       \u001b[0mnew_tracing_count\u001b[0m \u001b[1;33m=\u001b[0m \u001b[0mself\u001b[0m\u001b[1;33m.\u001b[0m\u001b[0mexperimental_get_tracing_count\u001b[0m\u001b[1;33m(\u001b[0m\u001b[1;33m)\u001b[0m\u001b[1;33m\u001b[0m\u001b[1;33m\u001b[0m\u001b[0m\n",
      "\u001b[1;32m~\\anaconda3\\lib\\site-packages\\tensorflow\\python\\eager\\def_function.py\u001b[0m in \u001b[0;36m_call\u001b[1;34m(self, *args, **kwds)\u001b[0m\n\u001b[0;32m    853\u001b[0m       \u001b[1;31m# In this case we have created variables on the first call, so we run the\u001b[0m\u001b[1;33m\u001b[0m\u001b[1;33m\u001b[0m\u001b[1;33m\u001b[0m\u001b[0m\n\u001b[0;32m    854\u001b[0m       \u001b[1;31m# defunned version which is guaranteed to never create variables.\u001b[0m\u001b[1;33m\u001b[0m\u001b[1;33m\u001b[0m\u001b[1;33m\u001b[0m\u001b[0m\n\u001b[1;32m--> 855\u001b[1;33m       \u001b[1;32mreturn\u001b[0m \u001b[0mself\u001b[0m\u001b[1;33m.\u001b[0m\u001b[0m_stateless_fn\u001b[0m\u001b[1;33m(\u001b[0m\u001b[1;33m*\u001b[0m\u001b[0margs\u001b[0m\u001b[1;33m,\u001b[0m \u001b[1;33m**\u001b[0m\u001b[0mkwds\u001b[0m\u001b[1;33m)\u001b[0m  \u001b[1;31m# pylint: disable=not-callable\u001b[0m\u001b[1;33m\u001b[0m\u001b[1;33m\u001b[0m\u001b[0m\n\u001b[0m\u001b[0;32m    856\u001b[0m     \u001b[1;32melif\u001b[0m \u001b[0mself\u001b[0m\u001b[1;33m.\u001b[0m\u001b[0m_stateful_fn\u001b[0m \u001b[1;32mis\u001b[0m \u001b[1;32mnot\u001b[0m \u001b[1;32mNone\u001b[0m\u001b[1;33m:\u001b[0m\u001b[1;33m\u001b[0m\u001b[1;33m\u001b[0m\u001b[0m\n\u001b[0;32m    857\u001b[0m       \u001b[1;31m# Release the lock early so that multiple threads can perform the call\u001b[0m\u001b[1;33m\u001b[0m\u001b[1;33m\u001b[0m\u001b[1;33m\u001b[0m\u001b[0m\n",
      "\u001b[1;32m~\\anaconda3\\lib\\site-packages\\tensorflow\\python\\eager\\function.py\u001b[0m in \u001b[0;36m__call__\u001b[1;34m(self, *args, **kwargs)\u001b[0m\n\u001b[0;32m   2940\u001b[0m       (graph_function,\n\u001b[0;32m   2941\u001b[0m        filtered_flat_args) = self._maybe_define_function(args, kwargs)\n\u001b[1;32m-> 2942\u001b[1;33m     return graph_function._call_flat(\n\u001b[0m\u001b[0;32m   2943\u001b[0m         filtered_flat_args, captured_inputs=graph_function.captured_inputs)  # pylint: disable=protected-access\n\u001b[0;32m   2944\u001b[0m \u001b[1;33m\u001b[0m\u001b[0m\n",
      "\u001b[1;32m~\\anaconda3\\lib\\site-packages\\tensorflow\\python\\eager\\function.py\u001b[0m in \u001b[0;36m_call_flat\u001b[1;34m(self, args, captured_inputs, cancellation_manager)\u001b[0m\n\u001b[0;32m   1916\u001b[0m         and executing_eagerly):\n\u001b[0;32m   1917\u001b[0m       \u001b[1;31m# No tape is watching; skip to running the function.\u001b[0m\u001b[1;33m\u001b[0m\u001b[1;33m\u001b[0m\u001b[1;33m\u001b[0m\u001b[0m\n\u001b[1;32m-> 1918\u001b[1;33m       return self._build_call_outputs(self._inference_function.call(\n\u001b[0m\u001b[0;32m   1919\u001b[0m           ctx, args, cancellation_manager=cancellation_manager))\n\u001b[0;32m   1920\u001b[0m     forward_backward = self._select_forward_and_backward_functions(\n",
      "\u001b[1;32m~\\anaconda3\\lib\\site-packages\\tensorflow\\python\\eager\\function.py\u001b[0m in \u001b[0;36mcall\u001b[1;34m(self, ctx, args, cancellation_manager)\u001b[0m\n\u001b[0;32m    553\u001b[0m       \u001b[1;32mwith\u001b[0m \u001b[0m_InterpolateFunctionError\u001b[0m\u001b[1;33m(\u001b[0m\u001b[0mself\u001b[0m\u001b[1;33m)\u001b[0m\u001b[1;33m:\u001b[0m\u001b[1;33m\u001b[0m\u001b[1;33m\u001b[0m\u001b[0m\n\u001b[0;32m    554\u001b[0m         \u001b[1;32mif\u001b[0m \u001b[0mcancellation_manager\u001b[0m \u001b[1;32mis\u001b[0m \u001b[1;32mNone\u001b[0m\u001b[1;33m:\u001b[0m\u001b[1;33m\u001b[0m\u001b[1;33m\u001b[0m\u001b[0m\n\u001b[1;32m--> 555\u001b[1;33m           outputs = execute.execute(\n\u001b[0m\u001b[0;32m    556\u001b[0m               \u001b[0mstr\u001b[0m\u001b[1;33m(\u001b[0m\u001b[0mself\u001b[0m\u001b[1;33m.\u001b[0m\u001b[0msignature\u001b[0m\u001b[1;33m.\u001b[0m\u001b[0mname\u001b[0m\u001b[1;33m)\u001b[0m\u001b[1;33m,\u001b[0m\u001b[1;33m\u001b[0m\u001b[1;33m\u001b[0m\u001b[0m\n\u001b[0;32m    557\u001b[0m               \u001b[0mnum_outputs\u001b[0m\u001b[1;33m=\u001b[0m\u001b[0mself\u001b[0m\u001b[1;33m.\u001b[0m\u001b[0m_num_outputs\u001b[0m\u001b[1;33m,\u001b[0m\u001b[1;33m\u001b[0m\u001b[1;33m\u001b[0m\u001b[0m\n",
      "\u001b[1;32m~\\anaconda3\\lib\\site-packages\\tensorflow\\python\\eager\\execute.py\u001b[0m in \u001b[0;36mquick_execute\u001b[1;34m(op_name, num_outputs, inputs, attrs, ctx, name)\u001b[0m\n\u001b[0;32m     57\u001b[0m   \u001b[1;32mtry\u001b[0m\u001b[1;33m:\u001b[0m\u001b[1;33m\u001b[0m\u001b[1;33m\u001b[0m\u001b[0m\n\u001b[0;32m     58\u001b[0m     \u001b[0mctx\u001b[0m\u001b[1;33m.\u001b[0m\u001b[0mensure_initialized\u001b[0m\u001b[1;33m(\u001b[0m\u001b[1;33m)\u001b[0m\u001b[1;33m\u001b[0m\u001b[1;33m\u001b[0m\u001b[0m\n\u001b[1;32m---> 59\u001b[1;33m     tensors = pywrap_tfe.TFE_Py_Execute(ctx._handle, device_name, op_name,\n\u001b[0m\u001b[0;32m     60\u001b[0m                                         inputs, attrs, num_outputs)\n\u001b[0;32m     61\u001b[0m   \u001b[1;32mexcept\u001b[0m \u001b[0mcore\u001b[0m\u001b[1;33m.\u001b[0m\u001b[0m_NotOkStatusException\u001b[0m \u001b[1;32mas\u001b[0m \u001b[0me\u001b[0m\u001b[1;33m:\u001b[0m\u001b[1;33m\u001b[0m\u001b[1;33m\u001b[0m\u001b[0m\n",
      "\u001b[1;31mKeyboardInterrupt\u001b[0m: "
     ]
    }
   ],
   "source": [
    "tuner.search(X_train, y_train, epochs=10)"
   ]
  },
  {
   "cell_type": "code",
   "execution_count": null,
   "metadata": {},
   "outputs": [],
   "source": [
    "#collect best hyperparameters to rebuild model\n",
    "best_hp = tuner.get_best_hyperparameters()[0]\n",
    "model = tuner.hypermodel.build(best_hp)"
   ]
  },
  {
   "cell_type": "code",
   "execution_count": null,
   "metadata": {},
   "outputs": [],
   "source": [
    "# get new predicted values with Hyperparameters\n",
    "y_hp_pred = model.predict(X_test)"
   ]
  },
  {
   "cell_type": "code",
   "execution_count": null,
   "metadata": {},
   "outputs": [],
   "source": [
    "# plot predicted values against test values\n",
    "plt.plot(y_test, color = 'red', label = 'Real data')\n",
    "plt.plot(y_hp_pred, color = 'blue', label = 'HP Predicted data')\n",
    "plt.title('HP Prediction')\n",
    "plt.legend()\n",
    "plt.show()"
   ]
  },
  {
   "cell_type": "code",
   "execution_count": null,
   "metadata": {},
   "outputs": [],
   "source": [
    "# checking the output metrics\n",
    "from sklearn import metrics\n",
    "\n",
    "\n",
    "print('Mean Absolute Error:', metrics.mean_absolute_error(y_test, y_hp_pred))\n",
    "print('Mean Squared Error:', metrics.mean_squared_error(y_test, y_hp_pred))\n",
    "print('Root Mean Squared Error:', np.sqrt(metrics.mean_squared_error(y_test, y_hp_pred)))\n",
    "\n",
    "y_mean = np.mean(y_hp_pred)\n",
    "y_std = np.std(y_hp_pred)\n",
    "print('Output Standard Deviation:', y_std)\n",
    "print('Output Mean:', y_mean)"
   ]
  },
  {
   "cell_type": "code",
   "execution_count": null,
   "metadata": {},
   "outputs": [],
   "source": []
  }
 ],
 "metadata": {
  "kernelspec": {
   "display_name": "Python 3",
   "language": "python",
   "name": "python3"
  },
  "language_info": {
   "codemirror_mode": {
    "name": "ipython",
    "version": 3
   },
   "file_extension": ".py",
   "mimetype": "text/x-python",
   "name": "python",
   "nbconvert_exporter": "python",
   "pygments_lexer": "ipython3",
   "version": "3.8.5"
  }
 },
 "nbformat": 4,
 "nbformat_minor": 4
}
