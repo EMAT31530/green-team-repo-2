{
 "cells": [
  {
   "cell_type": "markdown",
   "metadata": {},
   "source": [
    "Dont forget to normalise the data (he guesses boosted trees will be the best)"
   ]
  },
  {
   "cell_type": "code",
   "execution_count": 1,
   "metadata": {},
   "outputs": [],
   "source": [
    "import pandas as pd\n",
    "import numpy as np \n",
    "import matplotlib.pyplot as plt\n",
    "import sklearn\n",
    "from sklearn.neural_network import MLPRegressor\n",
    "from sklearn.model_selection import train_test_split\n"
   ]
  },
  {
   "cell_type": "code",
   "execution_count": 2,
   "metadata": {},
   "outputs": [
    {
     "data": {
      "text/html": [
       "<div>\n",
       "<style scoped>\n",
       "    .dataframe tbody tr th:only-of-type {\n",
       "        vertical-align: middle;\n",
       "    }\n",
       "\n",
       "    .dataframe tbody tr th {\n",
       "        vertical-align: top;\n",
       "    }\n",
       "\n",
       "    .dataframe thead th {\n",
       "        text-align: right;\n",
       "    }\n",
       "</style>\n",
       "<table border=\"1\" class=\"dataframe\">\n",
       "  <thead>\n",
       "    <tr style=\"text-align: right;\">\n",
       "      <th></th>\n",
       "      <th>name</th>\n",
       "      <th>Food Group</th>\n",
       "      <th>Branded?</th>\n",
       "      <th>Price (£)</th>\n",
       "      <th>Weight (GRAMS)</th>\n",
       "      <th>Price per Weight (£/100Gram)</th>\n",
       "      <th>Carbon Group</th>\n",
       "      <th>Land use (m2/100g)</th>\n",
       "      <th>GHG(kgco2eq/100g)</th>\n",
       "      <th>Water use (L/100g)</th>\n",
       "      <th>Acidifying emissions(kgSO2eq/100g)</th>\n",
       "      <th>Eutr emissions  (kg PO43-eq per 100g)</th>\n",
       "      <th>Calories</th>\n",
       "      <th>Fat (g)</th>\n",
       "      <th>Protein (g)</th>\n",
       "      <th>Carbohydrate (g)</th>\n",
       "      <th>Sugars (g)</th>\n",
       "      <th>Fiber (g)</th>\n",
       "      <th>Cholesterol (mg)</th>\n",
       "      <th>Saturated Fats (g)</th>\n",
       "    </tr>\n",
       "  </thead>\n",
       "  <tbody>\n",
       "    <tr>\n",
       "      <td>0</td>\n",
       "      <td>Pillsbury Cinnamon Rolls With Icing Refrigerat...</td>\n",
       "      <td>Baked Foods</td>\n",
       "      <td>NaN</td>\n",
       "      <td>1.70</td>\n",
       "      <td>260.0</td>\n",
       "      <td>0.653846</td>\n",
       "      <td>Bread products</td>\n",
       "      <td>0.3482</td>\n",
       "      <td>0.1441</td>\n",
       "      <td>56.7</td>\n",
       "      <td>0.001209</td>\n",
       "      <td>0.000706</td>\n",
       "      <td>330</td>\n",
       "      <td>11.27</td>\n",
       "      <td>4.34</td>\n",
       "      <td>53.42</td>\n",
       "      <td>21.34</td>\n",
       "      <td>1.4</td>\n",
       "      <td>0.0</td>\n",
       "      <td>3.250</td>\n",
       "    </tr>\n",
       "    <tr>\n",
       "      <td>1</td>\n",
       "      <td>Waffles Buttermilk Frozen Ready-To-Heat</td>\n",
       "      <td>Baked Foods</td>\n",
       "      <td>X</td>\n",
       "      <td>1.50</td>\n",
       "      <td>567.0</td>\n",
       "      <td>0.264550</td>\n",
       "      <td>Bread products</td>\n",
       "      <td>0.3482</td>\n",
       "      <td>0.1441</td>\n",
       "      <td>56.7</td>\n",
       "      <td>0.001209</td>\n",
       "      <td>0.000706</td>\n",
       "      <td>273</td>\n",
       "      <td>9.22</td>\n",
       "      <td>6.58</td>\n",
       "      <td>41.05</td>\n",
       "      <td>4.30</td>\n",
       "      <td>2.2</td>\n",
       "      <td>15.0</td>\n",
       "      <td>1.898</td>\n",
       "    </tr>\n",
       "    <tr>\n",
       "      <td>2</td>\n",
       "      <td>Waffle Buttermilk Frozen Ready-To-Heat Toasted</td>\n",
       "      <td>Baked Foods</td>\n",
       "      <td>X</td>\n",
       "      <td>1.50</td>\n",
       "      <td>567.0</td>\n",
       "      <td>0.264550</td>\n",
       "      <td>Bread products</td>\n",
       "      <td>0.3482</td>\n",
       "      <td>0.1441</td>\n",
       "      <td>56.7</td>\n",
       "      <td>0.001209</td>\n",
       "      <td>0.000706</td>\n",
       "      <td>309</td>\n",
       "      <td>9.49</td>\n",
       "      <td>7.42</td>\n",
       "      <td>48.39</td>\n",
       "      <td>4.41</td>\n",
       "      <td>2.6</td>\n",
       "      <td>13.0</td>\n",
       "      <td>2.275</td>\n",
       "    </tr>\n",
       "    <tr>\n",
       "      <td>3</td>\n",
       "      <td>Waffle Buttermilk Frozen Ready-To-Heat Microwaved</td>\n",
       "      <td>Baked Foods</td>\n",
       "      <td>X</td>\n",
       "      <td>1.50</td>\n",
       "      <td>567.0</td>\n",
       "      <td>0.264550</td>\n",
       "      <td>Bread products</td>\n",
       "      <td>0.3482</td>\n",
       "      <td>0.1441</td>\n",
       "      <td>56.7</td>\n",
       "      <td>0.001209</td>\n",
       "      <td>0.000706</td>\n",
       "      <td>289</td>\n",
       "      <td>9.40</td>\n",
       "      <td>6.92</td>\n",
       "      <td>44.16</td>\n",
       "      <td>4.50</td>\n",
       "      <td>2.4</td>\n",
       "      <td>16.0</td>\n",
       "      <td>2.057</td>\n",
       "    </tr>\n",
       "    <tr>\n",
       "      <td>4</td>\n",
       "      <td>Waffle Plain Frozen Ready-To-Heat Microwave</td>\n",
       "      <td>Baked Foods</td>\n",
       "      <td>X</td>\n",
       "      <td>1.50</td>\n",
       "      <td>567.0</td>\n",
       "      <td>0.264550</td>\n",
       "      <td>Bread products</td>\n",
       "      <td>0.3482</td>\n",
       "      <td>0.1441</td>\n",
       "      <td>56.7</td>\n",
       "      <td>0.001209</td>\n",
       "      <td>0.000706</td>\n",
       "      <td>298</td>\n",
       "      <td>9.91</td>\n",
       "      <td>6.71</td>\n",
       "      <td>45.41</td>\n",
       "      <td>5.04</td>\n",
       "      <td>2.4</td>\n",
       "      <td>16.0</td>\n",
       "      <td>1.580</td>\n",
       "    </tr>\n",
       "    <tr>\n",
       "      <td>...</td>\n",
       "      <td>...</td>\n",
       "      <td>...</td>\n",
       "      <td>...</td>\n",
       "      <td>...</td>\n",
       "      <td>...</td>\n",
       "      <td>...</td>\n",
       "      <td>...</td>\n",
       "      <td>...</td>\n",
       "      <td>...</td>\n",
       "      <td>...</td>\n",
       "      <td>...</td>\n",
       "      <td>...</td>\n",
       "      <td>...</td>\n",
       "      <td>...</td>\n",
       "      <td>...</td>\n",
       "      <td>...</td>\n",
       "      <td>...</td>\n",
       "      <td>...</td>\n",
       "      <td>...</td>\n",
       "      <td>...</td>\n",
       "    </tr>\n",
       "    <tr>\n",
       "      <td>1218</td>\n",
       "      <td>Plantain Fried</td>\n",
       "      <td>Vegetables</td>\n",
       "      <td>NaN</td>\n",
       "      <td>0.90</td>\n",
       "      <td>85.0</td>\n",
       "      <td>1.058824</td>\n",
       "      <td>Other vegetables</td>\n",
       "      <td>0.0310</td>\n",
       "      <td>0.0455</td>\n",
       "      <td>8.3</td>\n",
       "      <td>0.000531</td>\n",
       "      <td>0.000186</td>\n",
       "      <td>241</td>\n",
       "      <td>10.16</td>\n",
       "      <td>1.66</td>\n",
       "      <td>40.60</td>\n",
       "      <td>19.10</td>\n",
       "      <td>2.9</td>\n",
       "      <td>0.0</td>\n",
       "      <td>1.507</td>\n",
       "    </tr>\n",
       "    <tr>\n",
       "      <td>1219</td>\n",
       "      <td>Romaine Lettuce Raw</td>\n",
       "      <td>Vegetables</td>\n",
       "      <td>NaN</td>\n",
       "      <td>1.00</td>\n",
       "      <td>400.0</td>\n",
       "      <td>0.250000</td>\n",
       "      <td>Other vegetables</td>\n",
       "      <td>0.0310</td>\n",
       "      <td>0.0455</td>\n",
       "      <td>8.3</td>\n",
       "      <td>0.000531</td>\n",
       "      <td>0.000186</td>\n",
       "      <td>19</td>\n",
       "      <td>0.27</td>\n",
       "      <td>1.39</td>\n",
       "      <td>3.78</td>\n",
       "      <td>0.71</td>\n",
       "      <td>3.1</td>\n",
       "      <td>0.0</td>\n",
       "      <td>0.053</td>\n",
       "    </tr>\n",
       "    <tr>\n",
       "      <td>1220</td>\n",
       "      <td>Palak Paneer</td>\n",
       "      <td>Vegetables</td>\n",
       "      <td>NaN</td>\n",
       "      <td>3.75</td>\n",
       "      <td>500.0</td>\n",
       "      <td>0.750000</td>\n",
       "      <td>Cheese</td>\n",
       "      <td>8.0642</td>\n",
       "      <td>2.1240</td>\n",
       "      <td>473.5</td>\n",
       "      <td>0.014894</td>\n",
       "      <td>0.008875</td>\n",
       "      <td>96</td>\n",
       "      <td>6.84</td>\n",
       "      <td>5.23</td>\n",
       "      <td>4.32</td>\n",
       "      <td>1.89</td>\n",
       "      <td>1.2</td>\n",
       "      <td>7.0</td>\n",
       "      <td>1.486</td>\n",
       "    </tr>\n",
       "    <tr>\n",
       "      <td>1221</td>\n",
       "      <td>Carrots Raw Salad</td>\n",
       "      <td>Vegetables</td>\n",
       "      <td>NaN</td>\n",
       "      <td>0.41</td>\n",
       "      <td>1000.0</td>\n",
       "      <td>0.041000</td>\n",
       "      <td>Other vegetables</td>\n",
       "      <td>0.0310</td>\n",
       "      <td>0.0455</td>\n",
       "      <td>8.3</td>\n",
       "      <td>0.000531</td>\n",
       "      <td>0.000186</td>\n",
       "      <td>208</td>\n",
       "      <td>15.70</td>\n",
       "      <td>1.22</td>\n",
       "      <td>17.17</td>\n",
       "      <td>11.23</td>\n",
       "      <td>2.3</td>\n",
       "      <td>9.0</td>\n",
       "      <td>2.452</td>\n",
       "    </tr>\n",
       "    <tr>\n",
       "      <td>1222</td>\n",
       "      <td>Corn on the cob</td>\n",
       "      <td>Vegetables</td>\n",
       "      <td>NaN</td>\n",
       "      <td>1.50</td>\n",
       "      <td>875.0</td>\n",
       "      <td>0.171429</td>\n",
       "      <td>Other vegetables</td>\n",
       "      <td>0.0310</td>\n",
       "      <td>0.0455</td>\n",
       "      <td>8.3</td>\n",
       "      <td>0.000531</td>\n",
       "      <td>0.000186</td>\n",
       "      <td>67</td>\n",
       "      <td>1.22</td>\n",
       "      <td>2.28</td>\n",
       "      <td>14.30</td>\n",
       "      <td>4.43</td>\n",
       "      <td>2.0</td>\n",
       "      <td>0.0</td>\n",
       "      <td>0.244</td>\n",
       "    </tr>\n",
       "  </tbody>\n",
       "</table>\n",
       "<p>1223 rows × 20 columns</p>\n",
       "</div>"
      ],
      "text/plain": [
       "                                                   name   Food Group Branded?  \\\n",
       "0     Pillsbury Cinnamon Rolls With Icing Refrigerat...  Baked Foods      NaN   \n",
       "1               Waffles Buttermilk Frozen Ready-To-Heat  Baked Foods        X   \n",
       "2        Waffle Buttermilk Frozen Ready-To-Heat Toasted  Baked Foods        X   \n",
       "3     Waffle Buttermilk Frozen Ready-To-Heat Microwaved  Baked Foods        X   \n",
       "4           Waffle Plain Frozen Ready-To-Heat Microwave  Baked Foods        X   \n",
       "...                                                 ...          ...      ...   \n",
       "1218                                    Plantain Fried    Vegetables      NaN   \n",
       "1219                                Romaine Lettuce Raw   Vegetables      NaN   \n",
       "1220                                       Palak Paneer   Vegetables      NaN   \n",
       "1221                                  Carrots Raw Salad   Vegetables      NaN   \n",
       "1222                                   Corn on the cob    Vegetables      NaN   \n",
       "\n",
       "      Price (£)  Weight (GRAMS)  Price per Weight (£/100Gram)  \\\n",
       "0          1.70           260.0                      0.653846   \n",
       "1          1.50           567.0                      0.264550   \n",
       "2          1.50           567.0                      0.264550   \n",
       "3          1.50           567.0                      0.264550   \n",
       "4          1.50           567.0                      0.264550   \n",
       "...         ...             ...                           ...   \n",
       "1218       0.90            85.0                      1.058824   \n",
       "1219       1.00           400.0                      0.250000   \n",
       "1220       3.75           500.0                      0.750000   \n",
       "1221       0.41          1000.0                      0.041000   \n",
       "1222       1.50           875.0                      0.171429   \n",
       "\n",
       "           Carbon Group  Land use (m2/100g)  GHG(kgco2eq/100g)  \\\n",
       "0       Bread products               0.3482             0.1441   \n",
       "1       Bread products               0.3482             0.1441   \n",
       "2       Bread products               0.3482             0.1441   \n",
       "3       Bread products               0.3482             0.1441   \n",
       "4       Bread products               0.3482             0.1441   \n",
       "...                 ...                 ...                ...   \n",
       "1218  Other vegetables               0.0310             0.0455   \n",
       "1219  Other vegetables               0.0310             0.0455   \n",
       "1220            Cheese               8.0642             2.1240   \n",
       "1221  Other vegetables               0.0310             0.0455   \n",
       "1222  Other vegetables               0.0310             0.0455   \n",
       "\n",
       "      Water use (L/100g)  Acidifying emissions(kgSO2eq/100g)  \\\n",
       "0                   56.7                            0.001209   \n",
       "1                   56.7                            0.001209   \n",
       "2                   56.7                            0.001209   \n",
       "3                   56.7                            0.001209   \n",
       "4                   56.7                            0.001209   \n",
       "...                  ...                                 ...   \n",
       "1218                 8.3                            0.000531   \n",
       "1219                 8.3                            0.000531   \n",
       "1220               473.5                            0.014894   \n",
       "1221                 8.3                            0.000531   \n",
       "1222                 8.3                            0.000531   \n",
       "\n",
       "      Eutr emissions  (kg PO43-eq per 100g)  Calories  Fat (g)  Protein (g)  \\\n",
       "0                                  0.000706       330    11.27         4.34   \n",
       "1                                  0.000706       273     9.22         6.58   \n",
       "2                                  0.000706       309     9.49         7.42   \n",
       "3                                  0.000706       289     9.40         6.92   \n",
       "4                                  0.000706       298     9.91         6.71   \n",
       "...                                     ...       ...      ...          ...   \n",
       "1218                               0.000186       241    10.16         1.66   \n",
       "1219                               0.000186        19     0.27         1.39   \n",
       "1220                               0.008875        96     6.84         5.23   \n",
       "1221                               0.000186       208    15.70         1.22   \n",
       "1222                               0.000186        67     1.22         2.28   \n",
       "\n",
       "      Carbohydrate (g)  Sugars (g)  Fiber (g)  Cholesterol (mg)  \\\n",
       "0                53.42       21.34        1.4               0.0   \n",
       "1                41.05        4.30        2.2              15.0   \n",
       "2                48.39        4.41        2.6              13.0   \n",
       "3                44.16        4.50        2.4              16.0   \n",
       "4                45.41        5.04        2.4              16.0   \n",
       "...                ...         ...        ...               ...   \n",
       "1218             40.60       19.10        2.9               0.0   \n",
       "1219              3.78        0.71        3.1               0.0   \n",
       "1220              4.32        1.89        1.2               7.0   \n",
       "1221             17.17       11.23        2.3               9.0   \n",
       "1222             14.30        4.43        2.0               0.0   \n",
       "\n",
       "      Saturated Fats (g)  \n",
       "0                  3.250  \n",
       "1                  1.898  \n",
       "2                  2.275  \n",
       "3                  2.057  \n",
       "4                  1.580  \n",
       "...                  ...  \n",
       "1218               1.507  \n",
       "1219               0.053  \n",
       "1220               1.486  \n",
       "1221               2.452  \n",
       "1222               0.244  \n",
       "\n",
       "[1223 rows x 20 columns]"
      ]
     },
     "execution_count": 2,
     "metadata": {},
     "output_type": "execute_result"
    }
   ],
   "source": [
    "nutrition = pd.read_pickle(\"./nutrition_data_clean.pkl\")\n",
    "nutrition"
   ]
  },
  {
   "cell_type": "markdown",
   "metadata": {},
   "source": [
    "Initially i want to ignore any collumns on carbon and just try to get a price predictor."
   ]
  },
  {
   "cell_type": "code",
   "execution_count": 3,
   "metadata": {},
   "outputs": [
    {
     "data": {
      "text/html": [
       "<div>\n",
       "<style scoped>\n",
       "    .dataframe tbody tr th:only-of-type {\n",
       "        vertical-align: middle;\n",
       "    }\n",
       "\n",
       "    .dataframe tbody tr th {\n",
       "        vertical-align: top;\n",
       "    }\n",
       "\n",
       "    .dataframe thead th {\n",
       "        text-align: right;\n",
       "    }\n",
       "</style>\n",
       "<table border=\"1\" class=\"dataframe\">\n",
       "  <thead>\n",
       "    <tr style=\"text-align: right;\">\n",
       "      <th></th>\n",
       "      <th>name</th>\n",
       "      <th>Food Group</th>\n",
       "      <th>Branded?</th>\n",
       "      <th>Price (£)</th>\n",
       "      <th>Weight (GRAMS)</th>\n",
       "      <th>Price per Weight (£/100Gram)</th>\n",
       "      <th>Calories</th>\n",
       "      <th>Fat (g)</th>\n",
       "      <th>Protein (g)</th>\n",
       "      <th>Carbohydrate (g)</th>\n",
       "      <th>Sugars (g)</th>\n",
       "      <th>Fiber (g)</th>\n",
       "      <th>Cholesterol (mg)</th>\n",
       "      <th>Saturated Fats (g)</th>\n",
       "    </tr>\n",
       "  </thead>\n",
       "  <tbody>\n",
       "    <tr>\n",
       "      <td>0</td>\n",
       "      <td>Pillsbury Cinnamon Rolls With Icing Refrigerat...</td>\n",
       "      <td>Baked Foods</td>\n",
       "      <td>NaN</td>\n",
       "      <td>1.70</td>\n",
       "      <td>260.0</td>\n",
       "      <td>0.653846</td>\n",
       "      <td>330</td>\n",
       "      <td>11.27</td>\n",
       "      <td>4.34</td>\n",
       "      <td>53.42</td>\n",
       "      <td>21.34</td>\n",
       "      <td>1.4</td>\n",
       "      <td>0.0</td>\n",
       "      <td>3.250</td>\n",
       "    </tr>\n",
       "    <tr>\n",
       "      <td>1</td>\n",
       "      <td>Waffles Buttermilk Frozen Ready-To-Heat</td>\n",
       "      <td>Baked Foods</td>\n",
       "      <td>X</td>\n",
       "      <td>1.50</td>\n",
       "      <td>567.0</td>\n",
       "      <td>0.264550</td>\n",
       "      <td>273</td>\n",
       "      <td>9.22</td>\n",
       "      <td>6.58</td>\n",
       "      <td>41.05</td>\n",
       "      <td>4.30</td>\n",
       "      <td>2.2</td>\n",
       "      <td>15.0</td>\n",
       "      <td>1.898</td>\n",
       "    </tr>\n",
       "    <tr>\n",
       "      <td>2</td>\n",
       "      <td>Waffle Buttermilk Frozen Ready-To-Heat Toasted</td>\n",
       "      <td>Baked Foods</td>\n",
       "      <td>X</td>\n",
       "      <td>1.50</td>\n",
       "      <td>567.0</td>\n",
       "      <td>0.264550</td>\n",
       "      <td>309</td>\n",
       "      <td>9.49</td>\n",
       "      <td>7.42</td>\n",
       "      <td>48.39</td>\n",
       "      <td>4.41</td>\n",
       "      <td>2.6</td>\n",
       "      <td>13.0</td>\n",
       "      <td>2.275</td>\n",
       "    </tr>\n",
       "    <tr>\n",
       "      <td>3</td>\n",
       "      <td>Waffle Buttermilk Frozen Ready-To-Heat Microwaved</td>\n",
       "      <td>Baked Foods</td>\n",
       "      <td>X</td>\n",
       "      <td>1.50</td>\n",
       "      <td>567.0</td>\n",
       "      <td>0.264550</td>\n",
       "      <td>289</td>\n",
       "      <td>9.40</td>\n",
       "      <td>6.92</td>\n",
       "      <td>44.16</td>\n",
       "      <td>4.50</td>\n",
       "      <td>2.4</td>\n",
       "      <td>16.0</td>\n",
       "      <td>2.057</td>\n",
       "    </tr>\n",
       "    <tr>\n",
       "      <td>4</td>\n",
       "      <td>Waffle Plain Frozen Ready-To-Heat Microwave</td>\n",
       "      <td>Baked Foods</td>\n",
       "      <td>X</td>\n",
       "      <td>1.50</td>\n",
       "      <td>567.0</td>\n",
       "      <td>0.264550</td>\n",
       "      <td>298</td>\n",
       "      <td>9.91</td>\n",
       "      <td>6.71</td>\n",
       "      <td>45.41</td>\n",
       "      <td>5.04</td>\n",
       "      <td>2.4</td>\n",
       "      <td>16.0</td>\n",
       "      <td>1.580</td>\n",
       "    </tr>\n",
       "    <tr>\n",
       "      <td>...</td>\n",
       "      <td>...</td>\n",
       "      <td>...</td>\n",
       "      <td>...</td>\n",
       "      <td>...</td>\n",
       "      <td>...</td>\n",
       "      <td>...</td>\n",
       "      <td>...</td>\n",
       "      <td>...</td>\n",
       "      <td>...</td>\n",
       "      <td>...</td>\n",
       "      <td>...</td>\n",
       "      <td>...</td>\n",
       "      <td>...</td>\n",
       "      <td>...</td>\n",
       "    </tr>\n",
       "    <tr>\n",
       "      <td>1218</td>\n",
       "      <td>Plantain Fried</td>\n",
       "      <td>Vegetables</td>\n",
       "      <td>NaN</td>\n",
       "      <td>0.90</td>\n",
       "      <td>85.0</td>\n",
       "      <td>1.058824</td>\n",
       "      <td>241</td>\n",
       "      <td>10.16</td>\n",
       "      <td>1.66</td>\n",
       "      <td>40.60</td>\n",
       "      <td>19.10</td>\n",
       "      <td>2.9</td>\n",
       "      <td>0.0</td>\n",
       "      <td>1.507</td>\n",
       "    </tr>\n",
       "    <tr>\n",
       "      <td>1219</td>\n",
       "      <td>Romaine Lettuce Raw</td>\n",
       "      <td>Vegetables</td>\n",
       "      <td>NaN</td>\n",
       "      <td>1.00</td>\n",
       "      <td>400.0</td>\n",
       "      <td>0.250000</td>\n",
       "      <td>19</td>\n",
       "      <td>0.27</td>\n",
       "      <td>1.39</td>\n",
       "      <td>3.78</td>\n",
       "      <td>0.71</td>\n",
       "      <td>3.1</td>\n",
       "      <td>0.0</td>\n",
       "      <td>0.053</td>\n",
       "    </tr>\n",
       "    <tr>\n",
       "      <td>1220</td>\n",
       "      <td>Palak Paneer</td>\n",
       "      <td>Vegetables</td>\n",
       "      <td>NaN</td>\n",
       "      <td>3.75</td>\n",
       "      <td>500.0</td>\n",
       "      <td>0.750000</td>\n",
       "      <td>96</td>\n",
       "      <td>6.84</td>\n",
       "      <td>5.23</td>\n",
       "      <td>4.32</td>\n",
       "      <td>1.89</td>\n",
       "      <td>1.2</td>\n",
       "      <td>7.0</td>\n",
       "      <td>1.486</td>\n",
       "    </tr>\n",
       "    <tr>\n",
       "      <td>1221</td>\n",
       "      <td>Carrots Raw Salad</td>\n",
       "      <td>Vegetables</td>\n",
       "      <td>NaN</td>\n",
       "      <td>0.41</td>\n",
       "      <td>1000.0</td>\n",
       "      <td>0.041000</td>\n",
       "      <td>208</td>\n",
       "      <td>15.70</td>\n",
       "      <td>1.22</td>\n",
       "      <td>17.17</td>\n",
       "      <td>11.23</td>\n",
       "      <td>2.3</td>\n",
       "      <td>9.0</td>\n",
       "      <td>2.452</td>\n",
       "    </tr>\n",
       "    <tr>\n",
       "      <td>1222</td>\n",
       "      <td>Corn on the cob</td>\n",
       "      <td>Vegetables</td>\n",
       "      <td>NaN</td>\n",
       "      <td>1.50</td>\n",
       "      <td>875.0</td>\n",
       "      <td>0.171429</td>\n",
       "      <td>67</td>\n",
       "      <td>1.22</td>\n",
       "      <td>2.28</td>\n",
       "      <td>14.30</td>\n",
       "      <td>4.43</td>\n",
       "      <td>2.0</td>\n",
       "      <td>0.0</td>\n",
       "      <td>0.244</td>\n",
       "    </tr>\n",
       "  </tbody>\n",
       "</table>\n",
       "<p>1223 rows × 14 columns</p>\n",
       "</div>"
      ],
      "text/plain": [
       "                                                   name   Food Group Branded?  \\\n",
       "0     Pillsbury Cinnamon Rolls With Icing Refrigerat...  Baked Foods      NaN   \n",
       "1               Waffles Buttermilk Frozen Ready-To-Heat  Baked Foods        X   \n",
       "2        Waffle Buttermilk Frozen Ready-To-Heat Toasted  Baked Foods        X   \n",
       "3     Waffle Buttermilk Frozen Ready-To-Heat Microwaved  Baked Foods        X   \n",
       "4           Waffle Plain Frozen Ready-To-Heat Microwave  Baked Foods        X   \n",
       "...                                                 ...          ...      ...   \n",
       "1218                                    Plantain Fried    Vegetables      NaN   \n",
       "1219                                Romaine Lettuce Raw   Vegetables      NaN   \n",
       "1220                                       Palak Paneer   Vegetables      NaN   \n",
       "1221                                  Carrots Raw Salad   Vegetables      NaN   \n",
       "1222                                   Corn on the cob    Vegetables      NaN   \n",
       "\n",
       "      Price (£)  Weight (GRAMS)  Price per Weight (£/100Gram)  Calories  \\\n",
       "0          1.70           260.0                      0.653846       330   \n",
       "1          1.50           567.0                      0.264550       273   \n",
       "2          1.50           567.0                      0.264550       309   \n",
       "3          1.50           567.0                      0.264550       289   \n",
       "4          1.50           567.0                      0.264550       298   \n",
       "...         ...             ...                           ...       ...   \n",
       "1218       0.90            85.0                      1.058824       241   \n",
       "1219       1.00           400.0                      0.250000        19   \n",
       "1220       3.75           500.0                      0.750000        96   \n",
       "1221       0.41          1000.0                      0.041000       208   \n",
       "1222       1.50           875.0                      0.171429        67   \n",
       "\n",
       "      Fat (g)  Protein (g)  Carbohydrate (g)  Sugars (g)  Fiber (g)  \\\n",
       "0       11.27         4.34             53.42       21.34        1.4   \n",
       "1        9.22         6.58             41.05        4.30        2.2   \n",
       "2        9.49         7.42             48.39        4.41        2.6   \n",
       "3        9.40         6.92             44.16        4.50        2.4   \n",
       "4        9.91         6.71             45.41        5.04        2.4   \n",
       "...       ...          ...               ...         ...        ...   \n",
       "1218    10.16         1.66             40.60       19.10        2.9   \n",
       "1219     0.27         1.39              3.78        0.71        3.1   \n",
       "1220     6.84         5.23              4.32        1.89        1.2   \n",
       "1221    15.70         1.22             17.17       11.23        2.3   \n",
       "1222     1.22         2.28             14.30        4.43        2.0   \n",
       "\n",
       "      Cholesterol (mg)  Saturated Fats (g)  \n",
       "0                  0.0               3.250  \n",
       "1                 15.0               1.898  \n",
       "2                 13.0               2.275  \n",
       "3                 16.0               2.057  \n",
       "4                 16.0               1.580  \n",
       "...                ...                 ...  \n",
       "1218               0.0               1.507  \n",
       "1219               0.0               0.053  \n",
       "1220               7.0               1.486  \n",
       "1221               9.0               2.452  \n",
       "1222               0.0               0.244  \n",
       "\n",
       "[1223 rows x 14 columns]"
      ]
     },
     "execution_count": 3,
     "metadata": {},
     "output_type": "execute_result"
    }
   ],
   "source": [
    "#cutting collumns 6 to 11\n",
    "nutrition.drop(nutrition.columns[6:12], axis=1, inplace=True)\n",
    "nutrition"
   ]
  },
  {
   "cell_type": "code",
   "execution_count": 4,
   "metadata": {},
   "outputs": [],
   "source": [
    "#Cutting branded collumn(probably better to keep this and turn into 1s and 0s maybe)\n",
    "nutrition.drop(nutrition.columns[2], axis=1, inplace=True)"
   ]
  },
  {
   "cell_type": "code",
   "execution_count": 5,
   "metadata": {},
   "outputs": [],
   "source": [
    "nutrition.dropna(inplace=True) #getting rid of na values."
   ]
  },
  {
   "cell_type": "code",
   "execution_count": 6,
   "metadata": {},
   "outputs": [],
   "source": [
    "nutrition.drop(nutrition.columns[0:2], axis=1, inplace=True)"
   ]
  },
  {
   "cell_type": "code",
   "execution_count": 7,
   "metadata": {},
   "outputs": [
    {
     "data": {
      "text/html": [
       "<div>\n",
       "<style scoped>\n",
       "    .dataframe tbody tr th:only-of-type {\n",
       "        vertical-align: middle;\n",
       "    }\n",
       "\n",
       "    .dataframe tbody tr th {\n",
       "        vertical-align: top;\n",
       "    }\n",
       "\n",
       "    .dataframe thead th {\n",
       "        text-align: right;\n",
       "    }\n",
       "</style>\n",
       "<table border=\"1\" class=\"dataframe\">\n",
       "  <thead>\n",
       "    <tr style=\"text-align: right;\">\n",
       "      <th></th>\n",
       "      <th>Price (£)</th>\n",
       "      <th>Weight (GRAMS)</th>\n",
       "      <th>Price per Weight (£/100Gram)</th>\n",
       "      <th>Calories</th>\n",
       "      <th>Fat (g)</th>\n",
       "      <th>Protein (g)</th>\n",
       "      <th>Carbohydrate (g)</th>\n",
       "      <th>Sugars (g)</th>\n",
       "      <th>Fiber (g)</th>\n",
       "      <th>Cholesterol (mg)</th>\n",
       "      <th>Saturated Fats (g)</th>\n",
       "    </tr>\n",
       "  </thead>\n",
       "  <tbody>\n",
       "    <tr>\n",
       "      <td>0</td>\n",
       "      <td>1.70</td>\n",
       "      <td>260.0</td>\n",
       "      <td>0.653846</td>\n",
       "      <td>330</td>\n",
       "      <td>11.27</td>\n",
       "      <td>4.34</td>\n",
       "      <td>53.42</td>\n",
       "      <td>21.34</td>\n",
       "      <td>1.4</td>\n",
       "      <td>0.0</td>\n",
       "      <td>3.250</td>\n",
       "    </tr>\n",
       "    <tr>\n",
       "      <td>1</td>\n",
       "      <td>1.50</td>\n",
       "      <td>567.0</td>\n",
       "      <td>0.264550</td>\n",
       "      <td>273</td>\n",
       "      <td>9.22</td>\n",
       "      <td>6.58</td>\n",
       "      <td>41.05</td>\n",
       "      <td>4.30</td>\n",
       "      <td>2.2</td>\n",
       "      <td>15.0</td>\n",
       "      <td>1.898</td>\n",
       "    </tr>\n",
       "    <tr>\n",
       "      <td>2</td>\n",
       "      <td>1.50</td>\n",
       "      <td>567.0</td>\n",
       "      <td>0.264550</td>\n",
       "      <td>309</td>\n",
       "      <td>9.49</td>\n",
       "      <td>7.42</td>\n",
       "      <td>48.39</td>\n",
       "      <td>4.41</td>\n",
       "      <td>2.6</td>\n",
       "      <td>13.0</td>\n",
       "      <td>2.275</td>\n",
       "    </tr>\n",
       "    <tr>\n",
       "      <td>3</td>\n",
       "      <td>1.50</td>\n",
       "      <td>567.0</td>\n",
       "      <td>0.264550</td>\n",
       "      <td>289</td>\n",
       "      <td>9.40</td>\n",
       "      <td>6.92</td>\n",
       "      <td>44.16</td>\n",
       "      <td>4.50</td>\n",
       "      <td>2.4</td>\n",
       "      <td>16.0</td>\n",
       "      <td>2.057</td>\n",
       "    </tr>\n",
       "    <tr>\n",
       "      <td>4</td>\n",
       "      <td>1.50</td>\n",
       "      <td>567.0</td>\n",
       "      <td>0.264550</td>\n",
       "      <td>298</td>\n",
       "      <td>9.91</td>\n",
       "      <td>6.71</td>\n",
       "      <td>45.41</td>\n",
       "      <td>5.04</td>\n",
       "      <td>2.4</td>\n",
       "      <td>16.0</td>\n",
       "      <td>1.580</td>\n",
       "    </tr>\n",
       "    <tr>\n",
       "      <td>...</td>\n",
       "      <td>...</td>\n",
       "      <td>...</td>\n",
       "      <td>...</td>\n",
       "      <td>...</td>\n",
       "      <td>...</td>\n",
       "      <td>...</td>\n",
       "      <td>...</td>\n",
       "      <td>...</td>\n",
       "      <td>...</td>\n",
       "      <td>...</td>\n",
       "      <td>...</td>\n",
       "    </tr>\n",
       "    <tr>\n",
       "      <td>1218</td>\n",
       "      <td>0.90</td>\n",
       "      <td>85.0</td>\n",
       "      <td>1.058824</td>\n",
       "      <td>241</td>\n",
       "      <td>10.16</td>\n",
       "      <td>1.66</td>\n",
       "      <td>40.60</td>\n",
       "      <td>19.10</td>\n",
       "      <td>2.9</td>\n",
       "      <td>0.0</td>\n",
       "      <td>1.507</td>\n",
       "    </tr>\n",
       "    <tr>\n",
       "      <td>1219</td>\n",
       "      <td>1.00</td>\n",
       "      <td>400.0</td>\n",
       "      <td>0.250000</td>\n",
       "      <td>19</td>\n",
       "      <td>0.27</td>\n",
       "      <td>1.39</td>\n",
       "      <td>3.78</td>\n",
       "      <td>0.71</td>\n",
       "      <td>3.1</td>\n",
       "      <td>0.0</td>\n",
       "      <td>0.053</td>\n",
       "    </tr>\n",
       "    <tr>\n",
       "      <td>1220</td>\n",
       "      <td>3.75</td>\n",
       "      <td>500.0</td>\n",
       "      <td>0.750000</td>\n",
       "      <td>96</td>\n",
       "      <td>6.84</td>\n",
       "      <td>5.23</td>\n",
       "      <td>4.32</td>\n",
       "      <td>1.89</td>\n",
       "      <td>1.2</td>\n",
       "      <td>7.0</td>\n",
       "      <td>1.486</td>\n",
       "    </tr>\n",
       "    <tr>\n",
       "      <td>1221</td>\n",
       "      <td>0.41</td>\n",
       "      <td>1000.0</td>\n",
       "      <td>0.041000</td>\n",
       "      <td>208</td>\n",
       "      <td>15.70</td>\n",
       "      <td>1.22</td>\n",
       "      <td>17.17</td>\n",
       "      <td>11.23</td>\n",
       "      <td>2.3</td>\n",
       "      <td>9.0</td>\n",
       "      <td>2.452</td>\n",
       "    </tr>\n",
       "    <tr>\n",
       "      <td>1222</td>\n",
       "      <td>1.50</td>\n",
       "      <td>875.0</td>\n",
       "      <td>0.171429</td>\n",
       "      <td>67</td>\n",
       "      <td>1.22</td>\n",
       "      <td>2.28</td>\n",
       "      <td>14.30</td>\n",
       "      <td>4.43</td>\n",
       "      <td>2.0</td>\n",
       "      <td>0.0</td>\n",
       "      <td>0.244</td>\n",
       "    </tr>\n",
       "  </tbody>\n",
       "</table>\n",
       "<p>1189 rows × 11 columns</p>\n",
       "</div>"
      ],
      "text/plain": [
       "      Price (£)  Weight (GRAMS)  Price per Weight (£/100Gram)  Calories  \\\n",
       "0          1.70           260.0                      0.653846       330   \n",
       "1          1.50           567.0                      0.264550       273   \n",
       "2          1.50           567.0                      0.264550       309   \n",
       "3          1.50           567.0                      0.264550       289   \n",
       "4          1.50           567.0                      0.264550       298   \n",
       "...         ...             ...                           ...       ...   \n",
       "1218       0.90            85.0                      1.058824       241   \n",
       "1219       1.00           400.0                      0.250000        19   \n",
       "1220       3.75           500.0                      0.750000        96   \n",
       "1221       0.41          1000.0                      0.041000       208   \n",
       "1222       1.50           875.0                      0.171429        67   \n",
       "\n",
       "      Fat (g)  Protein (g)  Carbohydrate (g)  Sugars (g)  Fiber (g)  \\\n",
       "0       11.27         4.34             53.42       21.34        1.4   \n",
       "1        9.22         6.58             41.05        4.30        2.2   \n",
       "2        9.49         7.42             48.39        4.41        2.6   \n",
       "3        9.40         6.92             44.16        4.50        2.4   \n",
       "4        9.91         6.71             45.41        5.04        2.4   \n",
       "...       ...          ...               ...         ...        ...   \n",
       "1218    10.16         1.66             40.60       19.10        2.9   \n",
       "1219     0.27         1.39              3.78        0.71        3.1   \n",
       "1220     6.84         5.23              4.32        1.89        1.2   \n",
       "1221    15.70         1.22             17.17       11.23        2.3   \n",
       "1222     1.22         2.28             14.30        4.43        2.0   \n",
       "\n",
       "      Cholesterol (mg)  Saturated Fats (g)  \n",
       "0                  0.0               3.250  \n",
       "1                 15.0               1.898  \n",
       "2                 13.0               2.275  \n",
       "3                 16.0               2.057  \n",
       "4                 16.0               1.580  \n",
       "...                ...                 ...  \n",
       "1218               0.0               1.507  \n",
       "1219               0.0               0.053  \n",
       "1220               7.0               1.486  \n",
       "1221               9.0               2.452  \n",
       "1222               0.0               0.244  \n",
       "\n",
       "[1189 rows x 11 columns]"
      ]
     },
     "execution_count": 7,
     "metadata": {},
     "output_type": "execute_result"
    }
   ],
   "source": [
    "nutrition"
   ]
  },
  {
   "cell_type": "code",
   "execution_count": 8,
   "metadata": {},
   "outputs": [
    {
     "data": {
      "text/html": [
       "<div>\n",
       "<style scoped>\n",
       "    .dataframe tbody tr th:only-of-type {\n",
       "        vertical-align: middle;\n",
       "    }\n",
       "\n",
       "    .dataframe tbody tr th {\n",
       "        vertical-align: top;\n",
       "    }\n",
       "\n",
       "    .dataframe thead th {\n",
       "        text-align: right;\n",
       "    }\n",
       "</style>\n",
       "<table border=\"1\" class=\"dataframe\">\n",
       "  <thead>\n",
       "    <tr style=\"text-align: right;\">\n",
       "      <th></th>\n",
       "      <th>Price (£)</th>\n",
       "      <th>Weight (GRAMS)</th>\n",
       "      <th>Price per Weight (£/100Gram)</th>\n",
       "      <th>Calories</th>\n",
       "      <th>Fat (g)</th>\n",
       "      <th>Protein (g)</th>\n",
       "      <th>Carbohydrate (g)</th>\n",
       "      <th>Sugars (g)</th>\n",
       "      <th>Fiber (g)</th>\n",
       "      <th>Cholesterol (mg)</th>\n",
       "      <th>Saturated Fats (g)</th>\n",
       "    </tr>\n",
       "  </thead>\n",
       "  <tbody>\n",
       "    <tr>\n",
       "      <td>0</td>\n",
       "      <td>0.011348</td>\n",
       "      <td>0.009053</td>\n",
       "      <td>0.002810</td>\n",
       "      <td>0.035649</td>\n",
       "      <td>0.019225</td>\n",
       "      <td>0.009091</td>\n",
       "      <td>0.042721</td>\n",
       "      <td>0.039173</td>\n",
       "      <td>0.006676</td>\n",
       "      <td>0.000000</td>\n",
       "      <td>0.015184</td>\n",
       "    </tr>\n",
       "    <tr>\n",
       "      <td>1</td>\n",
       "      <td>0.010013</td>\n",
       "      <td>0.019743</td>\n",
       "      <td>0.001137</td>\n",
       "      <td>0.029491</td>\n",
       "      <td>0.015728</td>\n",
       "      <td>0.013783</td>\n",
       "      <td>0.032828</td>\n",
       "      <td>0.007893</td>\n",
       "      <td>0.010491</td>\n",
       "      <td>0.006927</td>\n",
       "      <td>0.008867</td>\n",
       "    </tr>\n",
       "    <tr>\n",
       "      <td>2</td>\n",
       "      <td>0.010013</td>\n",
       "      <td>0.019743</td>\n",
       "      <td>0.001137</td>\n",
       "      <td>0.033380</td>\n",
       "      <td>0.016189</td>\n",
       "      <td>0.015543</td>\n",
       "      <td>0.038698</td>\n",
       "      <td>0.008095</td>\n",
       "      <td>0.012398</td>\n",
       "      <td>0.006003</td>\n",
       "      <td>0.010629</td>\n",
       "    </tr>\n",
       "    <tr>\n",
       "      <td>3</td>\n",
       "      <td>0.010013</td>\n",
       "      <td>0.019743</td>\n",
       "      <td>0.001137</td>\n",
       "      <td>0.031220</td>\n",
       "      <td>0.016035</td>\n",
       "      <td>0.014496</td>\n",
       "      <td>0.035316</td>\n",
       "      <td>0.008261</td>\n",
       "      <td>0.011445</td>\n",
       "      <td>0.007388</td>\n",
       "      <td>0.009610</td>\n",
       "    </tr>\n",
       "    <tr>\n",
       "      <td>4</td>\n",
       "      <td>0.010013</td>\n",
       "      <td>0.019743</td>\n",
       "      <td>0.001137</td>\n",
       "      <td>0.032192</td>\n",
       "      <td>0.016905</td>\n",
       "      <td>0.014056</td>\n",
       "      <td>0.036315</td>\n",
       "      <td>0.009252</td>\n",
       "      <td>0.011445</td>\n",
       "      <td>0.007388</td>\n",
       "      <td>0.007382</td>\n",
       "    </tr>\n",
       "    <tr>\n",
       "      <td>...</td>\n",
       "      <td>...</td>\n",
       "      <td>...</td>\n",
       "      <td>...</td>\n",
       "      <td>...</td>\n",
       "      <td>...</td>\n",
       "      <td>...</td>\n",
       "      <td>...</td>\n",
       "      <td>...</td>\n",
       "      <td>...</td>\n",
       "      <td>...</td>\n",
       "      <td>...</td>\n",
       "    </tr>\n",
       "    <tr>\n",
       "      <td>1184</td>\n",
       "      <td>0.006008</td>\n",
       "      <td>0.002960</td>\n",
       "      <td>0.004551</td>\n",
       "      <td>0.026035</td>\n",
       "      <td>0.017332</td>\n",
       "      <td>0.003477</td>\n",
       "      <td>0.032469</td>\n",
       "      <td>0.035061</td>\n",
       "      <td>0.013829</td>\n",
       "      <td>0.000000</td>\n",
       "      <td>0.007041</td>\n",
       "    </tr>\n",
       "    <tr>\n",
       "      <td>1185</td>\n",
       "      <td>0.006675</td>\n",
       "      <td>0.013928</td>\n",
       "      <td>0.001075</td>\n",
       "      <td>0.002053</td>\n",
       "      <td>0.000461</td>\n",
       "      <td>0.002912</td>\n",
       "      <td>0.003023</td>\n",
       "      <td>0.001303</td>\n",
       "      <td>0.014783</td>\n",
       "      <td>0.000000</td>\n",
       "      <td>0.000248</td>\n",
       "    </tr>\n",
       "    <tr>\n",
       "      <td>1186</td>\n",
       "      <td>0.025031</td>\n",
       "      <td>0.017410</td>\n",
       "      <td>0.003224</td>\n",
       "      <td>0.010371</td>\n",
       "      <td>0.011668</td>\n",
       "      <td>0.010955</td>\n",
       "      <td>0.003455</td>\n",
       "      <td>0.003469</td>\n",
       "      <td>0.005722</td>\n",
       "      <td>0.003232</td>\n",
       "      <td>0.006943</td>\n",
       "    </tr>\n",
       "    <tr>\n",
       "      <td>1187</td>\n",
       "      <td>0.002737</td>\n",
       "      <td>0.034821</td>\n",
       "      <td>0.000176</td>\n",
       "      <td>0.022470</td>\n",
       "      <td>0.026782</td>\n",
       "      <td>0.002556</td>\n",
       "      <td>0.013731</td>\n",
       "      <td>0.020615</td>\n",
       "      <td>0.010968</td>\n",
       "      <td>0.004156</td>\n",
       "      <td>0.011456</td>\n",
       "    </tr>\n",
       "    <tr>\n",
       "      <td>1188</td>\n",
       "      <td>0.010013</td>\n",
       "      <td>0.030468</td>\n",
       "      <td>0.000737</td>\n",
       "      <td>0.007238</td>\n",
       "      <td>0.002081</td>\n",
       "      <td>0.004776</td>\n",
       "      <td>0.011436</td>\n",
       "      <td>0.008132</td>\n",
       "      <td>0.009537</td>\n",
       "      <td>0.000000</td>\n",
       "      <td>0.001140</td>\n",
       "    </tr>\n",
       "  </tbody>\n",
       "</table>\n",
       "<p>1189 rows × 11 columns</p>\n",
       "</div>"
      ],
      "text/plain": [
       "      Price (£)  Weight (GRAMS)  Price per Weight (£/100Gram)  Calories  \\\n",
       "0      0.011348        0.009053                      0.002810  0.035649   \n",
       "1      0.010013        0.019743                      0.001137  0.029491   \n",
       "2      0.010013        0.019743                      0.001137  0.033380   \n",
       "3      0.010013        0.019743                      0.001137  0.031220   \n",
       "4      0.010013        0.019743                      0.001137  0.032192   \n",
       "...         ...             ...                           ...       ...   \n",
       "1184   0.006008        0.002960                      0.004551  0.026035   \n",
       "1185   0.006675        0.013928                      0.001075  0.002053   \n",
       "1186   0.025031        0.017410                      0.003224  0.010371   \n",
       "1187   0.002737        0.034821                      0.000176  0.022470   \n",
       "1188   0.010013        0.030468                      0.000737  0.007238   \n",
       "\n",
       "       Fat (g)  Protein (g)  Carbohydrate (g)  Sugars (g)  Fiber (g)  \\\n",
       "0     0.019225     0.009091          0.042721    0.039173   0.006676   \n",
       "1     0.015728     0.013783          0.032828    0.007893   0.010491   \n",
       "2     0.016189     0.015543          0.038698    0.008095   0.012398   \n",
       "3     0.016035     0.014496          0.035316    0.008261   0.011445   \n",
       "4     0.016905     0.014056          0.036315    0.009252   0.011445   \n",
       "...        ...          ...               ...         ...        ...   \n",
       "1184  0.017332     0.003477          0.032469    0.035061   0.013829   \n",
       "1185  0.000461     0.002912          0.003023    0.001303   0.014783   \n",
       "1186  0.011668     0.010955          0.003455    0.003469   0.005722   \n",
       "1187  0.026782     0.002556          0.013731    0.020615   0.010968   \n",
       "1188  0.002081     0.004776          0.011436    0.008132   0.009537   \n",
       "\n",
       "      Cholesterol (mg)  Saturated Fats (g)  \n",
       "0             0.000000            0.015184  \n",
       "1             0.006927            0.008867  \n",
       "2             0.006003            0.010629  \n",
       "3             0.007388            0.009610  \n",
       "4             0.007388            0.007382  \n",
       "...                ...                 ...  \n",
       "1184          0.000000            0.007041  \n",
       "1185          0.000000            0.000248  \n",
       "1186          0.003232            0.006943  \n",
       "1187          0.004156            0.011456  \n",
       "1188          0.000000            0.001140  \n",
       "\n",
       "[1189 rows x 11 columns]"
      ]
     },
     "execution_count": 8,
     "metadata": {},
     "output_type": "execute_result"
    }
   ],
   "source": [
    "# normalise the data by feature column\n",
    "from sklearn import preprocessing\n",
    "norm_data = preprocessing.normalize(nutrition, axis=0) #collum instead of row\n",
    "norm_data = pd.DataFrame(norm_data, columns = nutrition.columns) # processing loses columns headers so these must be reestablished\n",
    "norm_data"
   ]
  },
  {
   "cell_type": "code",
   "execution_count": 9,
   "metadata": {},
   "outputs": [],
   "source": [
    "nutrition = norm_data"
   ]
  },
  {
   "cell_type": "code",
   "execution_count": 10,
   "metadata": {
    "scrolled": true
   },
   "outputs": [
    {
     "data": {
      "text/plain": [
       "(array([[0.00909113, 0.04272089, 0.03917332, 0.00667608, 0.        ,\n",
       "         0.01518407],\n",
       "        [0.01378333, 0.03282839, 0.00789341, 0.01049098, 0.00692657,\n",
       "         0.00886749],\n",
       "        [0.01554291, 0.03869831, 0.00809533, 0.01239843, 0.00600303,\n",
       "         0.01062885],\n",
       "        ...,\n",
       "        [0.01095545, 0.00345478, 0.00346943, 0.00572235, 0.0032324 ,\n",
       "         0.00694262],\n",
       "        [0.00255557, 0.01373114, 0.02061464, 0.01096784, 0.00415594,\n",
       "         0.01145579],\n",
       "        [0.00477599, 0.01143596, 0.00813204, 0.00953725, 0.        ,\n",
       "         0.00113997]]),\n",
       " array([0.01922512, 0.0157281 , 0.01618868, ..., 0.01166813, 0.02678212,\n",
       "        0.00208116]))"
      ]
     },
     "execution_count": 10,
     "metadata": {},
     "output_type": "execute_result"
    }
   ],
   "source": [
    "# Importing the dataset\n",
    "X = nutrition.iloc[:, 5:].values\n",
    "y = nutrition.iloc[:, 4].values\n",
    "X, y"
   ]
  },
  {
   "cell_type": "code",
   "execution_count": 11,
   "metadata": {},
   "outputs": [],
   "source": [
    "# Splitting the dataset into the Training set and Test set\n",
    "X_train, X_test, y_train, y_test = train_test_split(X, y, test_size = 0.2, random_state = 1)"
   ]
  },
  {
   "cell_type": "code",
   "execution_count": 12,
   "metadata": {},
   "outputs": [],
   "source": [
    "nn = MLPRegressor(random_state = 1, max_iter=500).fit(X_train, y_train)"
   ]
  },
  {
   "cell_type": "code",
   "execution_count": 13,
   "metadata": {},
   "outputs": [
    {
     "data": {
      "image/png": "[encoded data removed]",
      "text/plain": [
       "<Figure size 432x288 with 1 Axes>"
      ]
     },
     "metadata": {
      "needs_background": "light"
     },
     "output_type": "display_data"
    }
   ],
   "source": [
    "#validation curve\n",
    "y_pred = nn.predict(X_test)\n",
    "\n",
    "plt.plot(y_test, color = 'red', label = 'Real data')\n",
    "plt.plot(y_pred, color = 'blue', label = 'Predicted data')\n",
    "plt.title('Prediction')\n",
    "plt.legend()\n",
    "plt.show()"
   ]
  },
  {
   "cell_type": "code",
   "execution_count": 14,
   "metadata": {},
   "outputs": [],
   "source": [
    "#loss curve\n",
    "#learning curve"
   ]
  },
  {
   "cell_type": "markdown",
   "metadata": {},
   "source": [
    "Regression https://scikit-learn.org/stable/modules/model_evaluation.html\n",
    "\n",
    "https://scikit-learn.org/stable/modules/generated/sklearn.neural_network.MLPRegressor.html"
   ]
  },
  {
   "cell_type": "code",
   "execution_count": 15,
   "metadata": {},
   "outputs": [],
   "source": [
    "from sklearn import metrics "
   ]
  },
  {
   "cell_type": "code",
   "execution_count": 16,
   "metadata": {},
   "outputs": [
    {
     "data": {
      "text/plain": [
       "0.25179288304939296"
      ]
     },
     "execution_count": 16,
     "metadata": {},
     "output_type": "execute_result"
    }
   ],
   "source": [
    "#‘explained_variance’, best possible score is one lower values are worse\n",
    "metrics.explained_variance_score(y_test, y_pred)"
   ]
  },
  {
   "cell_type": "code",
   "execution_count": 17,
   "metadata": {},
   "outputs": [
    {
     "data": {
      "text/plain": [
       "0.12838605353627364"
      ]
     },
     "execution_count": 17,
     "metadata": {},
     "output_type": "execute_result"
    }
   ],
   "source": [
    "#‘max_error’ best case is zero but unlikely in the real world\n",
    "metrics.max_error(y_test, y_pred)"
   ]
  },
  {
   "cell_type": "code",
   "execution_count": 18,
   "metadata": {},
   "outputs": [
    {
     "data": {
      "text/plain": [
       "0.015120427909007876"
      ]
     },
     "execution_count": 18,
     "metadata": {},
     "output_type": "execute_result"
    }
   ],
   "source": [
    "#Mean absolute error regression loss.\n",
    "metrics.mean_absolute_error(y_test, y_pred)"
   ]
  },
  {
   "cell_type": "code",
   "execution_count": 19,
   "metadata": {},
   "outputs": [
    {
     "data": {
      "text/plain": [
       "0.0005530507426010309"
      ]
     },
     "execution_count": 19,
     "metadata": {},
     "output_type": "execute_result"
    }
   ],
   "source": [
    "#Mean squared error regression loss.\n",
    "metrics.mean_squared_error(y_test, y_pred)"
   ]
  },
  {
   "cell_type": "code",
   "execution_count": 20,
   "metadata": {},
   "outputs": [
    {
     "data": {
      "text/plain": [
       "0.0116423472503412"
      ]
     },
     "execution_count": 20,
     "metadata": {},
     "output_type": "execute_result"
    }
   ],
   "source": [
    "#Median absolute error regression loss.\n",
    "#The best value is 0.0\n",
    "metrics.median_absolute_error(y_test, y_pred)"
   ]
  },
  {
   "cell_type": "code",
   "execution_count": 21,
   "metadata": {},
   "outputs": [
    {
     "data": {
      "text/plain": [
       "0.24361780301884695"
      ]
     },
     "execution_count": 21,
     "metadata": {},
     "output_type": "execute_result"
    }
   ],
   "source": [
    "#r2 \n",
    "#Best possible score is 1.0 and it can be negative (because the model can be arbitrarily worse). \n",
    "#A constant model that always predicts the expected value of y, disregarding the input features, \n",
    "#would get a R^2 score of 0.0.\n",
    "metrics.r2_score(y_test, y_pred)"
   ]
  },
  {
   "cell_type": "markdown",
   "metadata": {},
   "source": [
    "Metrics and scoring SKLearn\n",
    "\n",
    "https://scikit-learn.org/stable/modules/model_evaluation.html#scoring-parameter"
   ]
  },
  {
   "cell_type": "markdown",
   "metadata": {},
   "source": [
    "For continuity throughout the project we have chosen to use the following errors:\n",
    "Mean Absolute Error, Mean Squared Error, Root Mean Squared Error.\n",
    "We chose this as they are the most common measurement of errors used online, and we believe this is enough variety."
   ]
  },
  {
   "cell_type": "markdown",
   "metadata": {},
   "source": [
    "## Learning curve/Validation Curve"
   ]
  },
  {
   "cell_type": "code",
   "execution_count": 22,
   "metadata": {},
   "outputs": [],
   "source": [
    "from sklearn import model_selection"
   ]
  },
  {
   "cell_type": "code",
   "execution_count": 23,
   "metadata": {},
   "outputs": [],
   "source": [
    "#model_selection.validation_curve(Ridge(), y_test, y_predict, \"alpha\")"
   ]
  },
  {
   "cell_type": "markdown",
   "metadata": {},
   "source": [
    "# Hyperparameter tuning\n",
    "In order to improve our model we will use hyperparameter tuning, and then do it on a random sample.\\\n",
    "Some of the parameters we can iterate over are:\n",
    "- hidden_layer_sizes\n",
    "- Activation function for the hidden layer.\n",
    "- The solver for weight optimization."
   ]
  },
  {
   "cell_type": "markdown",
   "metadata": {},
   "source": [
    "Note: The default solver ‘adam’ works pretty well on relatively large datasets (with thousands of training samples or more) in terms of both training time and validation score. For small datasets, however, ‘lbfgs’ can converge faster and perform better."
   ]
  },
  {
   "cell_type": "markdown",
   "metadata": {},
   "source": [
    "## Exhaustive grid search \n",
    "https://scikit-learn.org/stable/modules/generated/sklearn.model_selection.GridSearchCV.html#sklearn.model_selection.GridSearchCV"
   ]
  },
  {
   "cell_type": "code",
   "execution_count": 24,
   "metadata": {},
   "outputs": [
    {
     "name": "stderr",
     "output_type": "stream",
     "text": [
      "/opt/anaconda3/lib/python3.7/site-packages/sklearn/model_selection/_split.py:1978: FutureWarning: The default value of cv will change from 3 to 5 in version 0.22. Specify it explicitly to silence this warning.\n",
      "  warnings.warn(CV_WARNING, FutureWarning)\n"
     ]
    },
    {
     "name": "stdout",
     "output_type": "stream",
     "text": [
      "Best: 0.427709 using {'activation': 'identity'}\n"
     ]
    }
   ],
   "source": [
    "#They can do either an exhaustive grid search \n",
    "\n",
    "from sklearn.model_selection import GridSearchCV\n",
    "estimator = nn\n",
    "param_grid = {'activation':('identity', 'logistic', 'tanh', 'relu')}\n",
    "#param_grid = {'solver':('lbfgs', 'sgd', 'adam')}\n",
    "grid = model_selection.GridSearchCV(estimator, param_grid)\n",
    "\n",
    "grid_result = grid.fit(X_train, y_train)\n",
    "print(\"Best: %f using %s\" % (grid_result.best_score_, grid_result.best_params_))\n",
    "#print(\"Execution time: \" + str((time.time() - start_time)) + ' ms')"
   ]
  },
  {
   "cell_type": "code",
   "execution_count": 25,
   "metadata": {},
   "outputs": [
    {
     "name": "stderr",
     "output_type": "stream",
     "text": [
      "/opt/anaconda3/lib/python3.7/site-packages/sklearn/model_selection/_split.py:1978: FutureWarning: The default value of cv will change from 3 to 5 in version 0.22. Specify it explicitly to silence this warning.\n",
      "  warnings.warn(CV_WARNING, FutureWarning)\n"
     ]
    },
    {
     "name": "stdout",
     "output_type": "stream",
     "text": [
      "Best: 0.609806 using {'solver': 'lbfgs'}\n"
     ]
    }
   ],
   "source": [
    "estimator = nn\n",
    "param_grid = [ {'solver':('lbfgs', 'sgd', 'adam')}]\n",
    "grid = model_selection.GridSearchCV(estimator, param_grid)\n",
    "\n",
    "grid_result = grid.fit(X_train, y_train)\n",
    "print(\"Best: %f using %s\" % (grid_result.best_score_, grid_result.best_params_))"
   ]
  },
  {
   "cell_type": "code",
   "execution_count": 35,
   "metadata": {},
   "outputs": [
    {
     "data": {
      "image/png": "[encoded data removed]",
      "text/plain": [
       "<Figure size 432x288 with 1 Axes>"
      ]
     },
     "metadata": {
      "needs_background": "light"
     },
     "output_type": "display_data"
    },
    {
     "data": {
      "image/png": "[encoded data removed]",
      "text/plain": [
       "<Figure size 432x288 with 1 Axes>"
      ]
     },
     "metadata": {
      "needs_background": "light"
     },
     "output_type": "display_data"
    }
   ],
   "source": [
    "nn = MLPRegressor(random_state = 1, max_iter=500).fit(X_train, y_train)\n",
    "y_pred = nn.predict(X_test)\n",
    "\n",
    "plt.plot(y_test, color = 'red', label = 'Real data')\n",
    "plt.plot(y_pred, color = 'blue', label = 'Predicted data')\n",
    "plt.title('Prediction')\n",
    "plt.legend()\n",
    "plt.show()\n",
    "\n",
    "nn = MLPRegressor(random_state = 1, max_iter=500, solver = 'lbfgs', activation = 'identity').fit(X_train, y_train)\n",
    "y_pred = nn.predict(X_test)\n",
    "\n",
    "plt.plot(y_test, color = 'red', label = 'Real data')\n",
    "plt.plot(y_pred, color = 'blue', label = 'Predicted data using hyperparameters instruction')\n",
    "plt.title('Prediction')\n",
    "plt.legend()\n",
    "plt.show()"
   ]
  },
  {
   "cell_type": "markdown",
   "metadata": {},
   "source": [
    "clearly does indeed track prediction slightly better."
   ]
  },
  {
   "cell_type": "markdown",
   "metadata": {},
   "source": [
    "Trying to do both parameters at once ie parameter grid with more parameters:"
   ]
  },
  {
   "cell_type": "code",
   "execution_count": 36,
   "metadata": {},
   "outputs": [
    {
     "name": "stderr",
     "output_type": "stream",
     "text": [
      "/opt/anaconda3/lib/python3.7/site-packages/sklearn/model_selection/_split.py:1978: FutureWarning: The default value of cv will change from 3 to 5 in version 0.22. Specify it explicitly to silence this warning.\n",
      "  warnings.warn(CV_WARNING, FutureWarning)\n"
     ]
    },
    {
     "name": "stdout",
     "output_type": "stream",
     "text": [
      "Best: 0.609806 using {'activation': 'relu', 'solver': 'lbfgs'}\n"
     ]
    }
   ],
   "source": [
    "estimator = nn\n",
    "param_grid = [{'activation':('identity', 'logistic', 'tanh', 'relu'), 'solver':('lbfgs', 'sgd', 'adam')}]\n",
    "grid = model_selection.GridSearchCV(estimator, param_grid)\n",
    "\n",
    "grid_result = grid.fit(X_train, y_train)\n",
    "print(\"Best: %f using %s\" % (grid_result.best_score_, grid_result.best_params_))"
   ]
  },
  {
   "cell_type": "code",
   "execution_count": 37,
   "metadata": {},
   "outputs": [
    {
     "data": {
      "image/png": "[encoded data removed]",
      "text/plain": [
       "<Figure size 432x288 with 1 Axes>"
      ]
     },
     "metadata": {
      "needs_background": "light"
     },
     "output_type": "display_data"
    }
   ],
   "source": [
    "#now it picks relu v strange\n",
    "nn = MLPRegressor(random_state = 1, max_iter=500, solver = 'lbfgs', activation = 'relu').fit(X_train, y_train)\n",
    "y_pred = nn.predict(X_test)\n",
    "\n",
    "plt.plot(y_test, color = 'red', label = 'Real data')\n",
    "plt.plot(y_pred, color = 'blue', label = 'Predicted data using hyperparameters instruction')\n",
    "plt.title('Prediction')\n",
    "plt.legend()\n",
    "plt.show()"
   ]
  },
  {
   "cell_type": "markdown",
   "metadata": {},
   "source": [
    "## Checking on another random state:"
   ]
  },
  {
   "cell_type": "code",
   "execution_count": 29,
   "metadata": {},
   "outputs": [],
   "source": [
    "nn = MLPRegressor(random_state = 4, max_iter=500, solver = 'lbfgs', activation = 'relu').fit(X_train, y_train)\n",
    "y_pred = nn.predict(X_test)"
   ]
  },
  {
   "cell_type": "code",
   "execution_count": 30,
   "metadata": {},
   "outputs": [
    {
     "name": "stderr",
     "output_type": "stream",
     "text": [
      "/opt/anaconda3/lib/python3.7/site-packages/sklearn/model_selection/_split.py:1978: FutureWarning: The default value of cv will change from 3 to 5 in version 0.22. Specify it explicitly to silence this warning.\n",
      "  warnings.warn(CV_WARNING, FutureWarning)\n"
     ]
    },
    {
     "name": "stdout",
     "output_type": "stream",
     "text": [
      "Best: 0.566285 using {'solver': 'lbfgs'}\n",
      "Best: 0.566285 using {'activation': 'relu'}\n"
     ]
    },
    {
     "name": "stderr",
     "output_type": "stream",
     "text": [
      "/opt/anaconda3/lib/python3.7/site-packages/sklearn/model_selection/_split.py:1978: FutureWarning: The default value of cv will change from 3 to 5 in version 0.22. Specify it explicitly to silence this warning.\n",
      "  warnings.warn(CV_WARNING, FutureWarning)\n"
     ]
    }
   ],
   "source": [
    "estimator = nn\n",
    "\n",
    "param_grid = [ {'solver':('lbfgs', 'sgd', 'adam')}]\n",
    "grid = model_selection.GridSearchCV(estimator, param_grid)\n",
    "grid_result = grid.fit(X_train, y_train)\n",
    "print(\"Best: %f using %s\" % (grid_result.best_score_, grid_result.best_params_))\n",
    "\n",
    "param_grid = {'activation':('identity', 'logistic', 'tanh', 'relu')}\n",
    "grid = model_selection.GridSearchCV(estimator, param_grid)\n",
    "grid_result = grid.fit(X_train, y_train)\n",
    "print(\"Best: %f using %s\" % (grid_result.best_score_, grid_result.best_params_))"
   ]
  },
  {
   "cell_type": "code",
   "execution_count": 31,
   "metadata": {},
   "outputs": [
    {
     "name": "stderr",
     "output_type": "stream",
     "text": [
      "/opt/anaconda3/lib/python3.7/site-packages/sklearn/model_selection/_split.py:1978: FutureWarning: The default value of cv will change from 3 to 5 in version 0.22. Specify it explicitly to silence this warning.\n",
      "  warnings.warn(CV_WARNING, FutureWarning)\n"
     ]
    },
    {
     "name": "stdout",
     "output_type": "stream",
     "text": [
      "Best: 0.566285 using {'activation': 'relu', 'solver': 'lbfgs'}\n"
     ]
    }
   ],
   "source": [
    "estimator = nn\n",
    "param_grid = [{'activation':('identity', 'logistic', 'tanh', 'relu'), 'solver':('lbfgs', 'sgd', 'adam')}]\n",
    "grid = model_selection.GridSearchCV(estimator, param_grid)\n",
    "\n",
    "grid_result = grid.fit(X_train, y_train)\n",
    "print(\"Best: %f using %s\" % (grid_result.best_score_, grid_result.best_params_))"
   ]
  },
  {
   "cell_type": "markdown",
   "metadata": {},
   "source": [
    "## And Another"
   ]
  },
  {
   "cell_type": "code",
   "execution_count": 32,
   "metadata": {},
   "outputs": [],
   "source": [
    "nn = MLPRegressor(random_state = 24, max_iter=500, solver = 'lbfgs', activation = 'relu').fit(X_train, y_train)\n",
    "y_pred = nn.predict(X_test)"
   ]
  },
  {
   "cell_type": "code",
   "execution_count": 33,
   "metadata": {},
   "outputs": [
    {
     "name": "stderr",
     "output_type": "stream",
     "text": [
      "/opt/anaconda3/lib/python3.7/site-packages/sklearn/model_selection/_split.py:1978: FutureWarning: The default value of cv will change from 3 to 5 in version 0.22. Specify it explicitly to silence this warning.\n",
      "  warnings.warn(CV_WARNING, FutureWarning)\n"
     ]
    },
    {
     "name": "stdout",
     "output_type": "stream",
     "text": [
      "Best: 0.609306 using {'solver': 'lbfgs'}\n",
      "Best: 0.614163 using {'activation': 'identity'}\n"
     ]
    },
    {
     "name": "stderr",
     "output_type": "stream",
     "text": [
      "/opt/anaconda3/lib/python3.7/site-packages/sklearn/model_selection/_split.py:1978: FutureWarning: The default value of cv will change from 3 to 5 in version 0.22. Specify it explicitly to silence this warning.\n",
      "  warnings.warn(CV_WARNING, FutureWarning)\n"
     ]
    }
   ],
   "source": [
    "\n",
    "estimator = nn\n",
    "\n",
    "param_grid = [ {'solver':('lbfgs', 'sgd', 'adam')}]\n",
    "grid = model_selection.GridSearchCV(estimator, param_grid)\n",
    "grid_result = grid.fit(X_train, y_train)\n",
    "print(\"Best: %f using %s\" % (grid_result.best_score_, grid_result.best_params_))\n",
    "\n",
    "param_grid = {'activation':('identity', 'logistic', 'tanh', 'relu')}\n",
    "grid = model_selection.GridSearchCV(estimator, param_grid)\n",
    "grid_result = grid.fit(X_train, y_train)\n",
    "print(\"Best: %f using %s\" % (grid_result.best_score_, grid_result.best_params_))"
   ]
  },
  {
   "cell_type": "code",
   "execution_count": 38,
   "metadata": {},
   "outputs": [
    {
     "name": "stderr",
     "output_type": "stream",
     "text": [
      "/opt/anaconda3/lib/python3.7/site-packages/sklearn/model_selection/_split.py:1978: FutureWarning: The default value of cv will change from 3 to 5 in version 0.22. Specify it explicitly to silence this warning.\n",
      "  warnings.warn(CV_WARNING, FutureWarning)\n"
     ]
    },
    {
     "name": "stdout",
     "output_type": "stream",
     "text": [
      "Best: 0.609806 using {'activation': 'relu', 'solver': 'lbfgs'}\n"
     ]
    }
   ],
   "source": [
    "estimator = nn\n",
    "param_grid = [{'activation':('identity', 'logistic', 'tanh', 'relu'), 'solver':('lbfgs', 'sgd', 'adam')}]\n",
    "grid = model_selection.GridSearchCV(estimator, param_grid)\n",
    "\n",
    "grid_result = grid.fit(X_train, y_train)\n",
    "print(\"Best: %f using %s\" % (grid_result.best_score_, grid_result.best_params_))"
   ]
  },
  {
   "cell_type": "markdown",
   "metadata": {},
   "source": [
    "Issue arises as different random states inputted lead to different recommendation for activation."
   ]
  },
  {
   "cell_type": "markdown",
   "metadata": {},
   "source": [
    "## Adding in the complexity of hidden layer sizes"
   ]
  },
  {
   "cell_type": "code",
   "execution_count": null,
   "metadata": {},
   "outputs": [],
   "source": [
    "estimator = nn\n",
    "param_grid = [{'activation':('identity', 'logistic', 'tanh', 'relu'), \n",
    "               'solver':('lbfgs', 'sgd', 'adam'), \n",
    "               'hidden_layer_sizes':((100,),)} #not really sure how to proceed with letting it choose hidden_layer_sizes\n",
    "             ]\n",
    "grid = model_selection.GridSearchCV(estimator, param_grid)\n",
    "\n",
    "grid_result = grid.fit(X_train, y_train)\n",
    "print(\"Best: %f using %s\" % (grid_result.best_score_, grid_result.best_params_))"
   ]
  },
  {
   "cell_type": "markdown",
   "metadata": {},
   "source": [
    "## Using Randomized Parameter Optimization\n",
    "https://scikit-learn.org/stable/modules/generated/sklearn.model_selection.RandomizedSearchCV.html#sklearn.model_selection.RandomizedSearchCV"
   ]
  },
  {
   "cell_type": "code",
   "execution_count": 44,
   "metadata": {},
   "outputs": [
    {
     "name": "stderr",
     "output_type": "stream",
     "text": [
      "/opt/anaconda3/lib/python3.7/site-packages/sklearn/model_selection/_split.py:1978: FutureWarning: The default value of cv will change from 3 to 5 in version 0.22. Specify it explicitly to silence this warning.\n",
      "  warnings.warn(CV_WARNING, FutureWarning)\n"
     ]
    },
    {
     "ename": "AttributeError",
     "evalue": "'list' object has no attribute 'values'",
     "output_type": "error",
     "traceback": [
      "\u001b[0;31m---------------------------------------------------------------------------\u001b[0m",
      "\u001b[0;31mAttributeError\u001b[0m                            Traceback (most recent call last)",
      "\u001b[0;32m<ipython-input-44-697743533d7f>\u001b[0m in \u001b[0;36m<module>\u001b[0;34m\u001b[0m\n\u001b[1;32m      7\u001b[0m \u001b[0mrdm\u001b[0m \u001b[0;34m=\u001b[0m \u001b[0mmodel_selection\u001b[0m\u001b[0;34m.\u001b[0m\u001b[0mRandomizedSearchCV\u001b[0m\u001b[0;34m(\u001b[0m\u001b[0mestimator\u001b[0m\u001b[0;34m,\u001b[0m \u001b[0mparam_grid\u001b[0m\u001b[0;34m)\u001b[0m\u001b[0;34m\u001b[0m\u001b[0;34m\u001b[0m\u001b[0m\n\u001b[1;32m      8\u001b[0m \u001b[0;34m\u001b[0m\u001b[0m\n\u001b[0;32m----> 9\u001b[0;31m \u001b[0mrdm_result\u001b[0m \u001b[0;34m=\u001b[0m \u001b[0mrdm\u001b[0m\u001b[0;34m.\u001b[0m\u001b[0mfit\u001b[0m\u001b[0;34m(\u001b[0m\u001b[0mX_train\u001b[0m\u001b[0;34m,\u001b[0m \u001b[0my_train\u001b[0m\u001b[0;34m)\u001b[0m\u001b[0;34m\u001b[0m\u001b[0;34m\u001b[0m\u001b[0m\n\u001b[0m\u001b[1;32m     10\u001b[0m \u001b[0;34m\u001b[0m\u001b[0m\n\u001b[1;32m     11\u001b[0m \u001b[0;31m#print(\"Best: %f using %s\" % (rdm_result.best_score_, rdm_result.best_params_))\u001b[0m\u001b[0;34m\u001b[0m\u001b[0;34m\u001b[0m\u001b[0;34m\u001b[0m\u001b[0m\n",
      "\u001b[0;32m/opt/anaconda3/lib/python3.7/site-packages/sklearn/model_selection/_search.py\u001b[0m in \u001b[0;36mfit\u001b[0;34m(self, X, y, groups, **fit_params)\u001b[0m\n\u001b[1;32m    686\u001b[0m                 \u001b[0;32mreturn\u001b[0m \u001b[0mresults\u001b[0m\u001b[0;34m\u001b[0m\u001b[0;34m\u001b[0m\u001b[0m\n\u001b[1;32m    687\u001b[0m \u001b[0;34m\u001b[0m\u001b[0m\n\u001b[0;32m--> 688\u001b[0;31m             \u001b[0mself\u001b[0m\u001b[0;34m.\u001b[0m\u001b[0m_run_search\u001b[0m\u001b[0;34m(\u001b[0m\u001b[0mevaluate_candidates\u001b[0m\u001b[0;34m)\u001b[0m\u001b[0;34m\u001b[0m\u001b[0;34m\u001b[0m\u001b[0m\n\u001b[0m\u001b[1;32m    689\u001b[0m \u001b[0;34m\u001b[0m\u001b[0m\n\u001b[1;32m    690\u001b[0m         \u001b[0;31m# For multi-metric evaluation, store the best_index_, best_params_ and\u001b[0m\u001b[0;34m\u001b[0m\u001b[0;34m\u001b[0m\u001b[0;34m\u001b[0m\u001b[0m\n",
      "\u001b[0;32m/opt/anaconda3/lib/python3.7/site-packages/sklearn/model_selection/_search.py\u001b[0m in \u001b[0;36m_run_search\u001b[0;34m(self, evaluate_candidates)\u001b[0m\n\u001b[1;32m   1467\u001b[0m         evaluate_candidates(ParameterSampler(\n\u001b[1;32m   1468\u001b[0m             \u001b[0mself\u001b[0m\u001b[0;34m.\u001b[0m\u001b[0mparam_distributions\u001b[0m\u001b[0;34m,\u001b[0m \u001b[0mself\u001b[0m\u001b[0;34m.\u001b[0m\u001b[0mn_iter\u001b[0m\u001b[0;34m,\u001b[0m\u001b[0;34m\u001b[0m\u001b[0;34m\u001b[0m\u001b[0m\n\u001b[0;32m-> 1469\u001b[0;31m             random_state=self.random_state))\n\u001b[0m",
      "\u001b[0;32m/opt/anaconda3/lib/python3.7/site-packages/sklearn/model_selection/_search.py\u001b[0m in \u001b[0;36mevaluate_candidates\u001b[0;34m(candidate_params)\u001b[0m\n\u001b[1;32m    650\u001b[0m \u001b[0;34m\u001b[0m\u001b[0m\n\u001b[1;32m    651\u001b[0m             \u001b[0;32mdef\u001b[0m \u001b[0mevaluate_candidates\u001b[0m\u001b[0;34m(\u001b[0m\u001b[0mcandidate_params\u001b[0m\u001b[0;34m)\u001b[0m\u001b[0;34m:\u001b[0m\u001b[0;34m\u001b[0m\u001b[0;34m\u001b[0m\u001b[0m\n\u001b[0;32m--> 652\u001b[0;31m                 \u001b[0mcandidate_params\u001b[0m \u001b[0;34m=\u001b[0m \u001b[0mlist\u001b[0m\u001b[0;34m(\u001b[0m\u001b[0mcandidate_params\u001b[0m\u001b[0;34m)\u001b[0m\u001b[0;34m\u001b[0m\u001b[0;34m\u001b[0m\u001b[0m\n\u001b[0m\u001b[1;32m    653\u001b[0m                 \u001b[0mn_candidates\u001b[0m \u001b[0;34m=\u001b[0m \u001b[0mlen\u001b[0m\u001b[0;34m(\u001b[0m\u001b[0mcandidate_params\u001b[0m\u001b[0;34m)\u001b[0m\u001b[0;34m\u001b[0m\u001b[0;34m\u001b[0m\u001b[0m\n\u001b[1;32m    654\u001b[0m \u001b[0;34m\u001b[0m\u001b[0m\n",
      "\u001b[0;32m/opt/anaconda3/lib/python3.7/site-packages/sklearn/model_selection/_search.py\u001b[0m in \u001b[0;36m__iter__\u001b[0;34m(self)\u001b[0m\n\u001b[1;32m    250\u001b[0m         \u001b[0;31m# in this case we want to sample without replacement\u001b[0m\u001b[0;34m\u001b[0m\u001b[0;34m\u001b[0m\u001b[0;34m\u001b[0m\u001b[0m\n\u001b[1;32m    251\u001b[0m         all_lists = np.all([not hasattr(v, \"rvs\")\n\u001b[0;32m--> 252\u001b[0;31m                             for v in self.param_distributions.values()])\n\u001b[0m\u001b[1;32m    253\u001b[0m         \u001b[0mrnd\u001b[0m \u001b[0;34m=\u001b[0m \u001b[0mcheck_random_state\u001b[0m\u001b[0;34m(\u001b[0m\u001b[0mself\u001b[0m\u001b[0;34m.\u001b[0m\u001b[0mrandom_state\u001b[0m\u001b[0;34m)\u001b[0m\u001b[0;34m\u001b[0m\u001b[0;34m\u001b[0m\u001b[0m\n\u001b[1;32m    254\u001b[0m \u001b[0;34m\u001b[0m\u001b[0m\n",
      "\u001b[0;31mAttributeError\u001b[0m: 'list' object has no attribute 'values'"
     ]
    }
   ],
   "source": [
    "nn = MLPRegressor(random_state = 1, max_iter=500, solver = 'lbfgs', activation = 'relu').fit(X_train, y_train)\n",
    "y_pred = nn.predict(X_test)\n",
    "\n",
    "estimator = nn\n",
    "param_grid = [{'activation':('identity', 'logistic', 'tanh', 'relu'), 'solver':('lbfgs', 'sgd', 'adam')}]\n",
    "\n",
    "rdm = model_selection.RandomizedSearchCV(estimator, param_grid)\n",
    "\n",
    "rdm_result = rdm.fit(X_train, y_train)\n",
    "\n",
    "print(\"Best: %f using %s\" % (rdm_result.best_score_, rdm_result.best_params_))"
   ]
  },
  {
   "cell_type": "code",
   "execution_count": null,
   "metadata": {},
   "outputs": [],
   "source": []
  }
 ],
 "metadata": {
  "kernelspec": {
   "display_name": "Python 3",
   "language": "python",
   "name": "python3"
  },
  "language_info": {
   "codemirror_mode": {
    "name": "ipython",
    "version": 3
   },
   "file_extension": ".py",
   "mimetype": "text/x-python",
   "name": "python",
   "nbconvert_exporter": "python",
   "pygments_lexer": "ipython3",
   "version": "3.7.4"
  }
 },
 "nbformat": 4,
 "nbformat_minor": 2
}
