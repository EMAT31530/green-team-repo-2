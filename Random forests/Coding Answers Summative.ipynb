{
 "cells": [
  {
   "cell_type": "code",
   "execution_count": 1,
   "metadata": {},
   "outputs": [],
   "source": [
    "import numpy as np \n",
    "import pandas as pd"
   ]
  },
  {
   "cell_type": "code",
   "execution_count": 2,
   "metadata": {},
   "outputs": [],
   "source": [
    "u1x = 0\n",
    "u1y = 0\n",
    "u2x = 0\n",
    "u2y = 0\n",
    "u3x = 0\n",
    "u3y = 0"
   ]
  },
  {
   "cell_type": "code",
   "execution_count": 3,
   "metadata": {},
   "outputs": [
    {
     "data": {
      "text/plain": [
       "array([[0],\n",
       "       [0],\n",
       "       [0],\n",
       "       [0],\n",
       "       [0],\n",
       "       [0]])"
      ]
     },
     "execution_count": 3,
     "metadata": {},
     "output_type": "execute_result"
    }
   ],
   "source": [
    "U = np.array([u1x, u1y, u2x, u2y, u3x, u3y])\n",
    "U = U.reshape((-1,1))\n",
    "U"
   ]
  },
  {
   "cell_type": "code",
   "execution_count": 5,
   "metadata": {},
   "outputs": [
    {
     "data": {
      "text/html": [
       "<div>\n",
       "<style scoped>\n",
       "    .dataframe tbody tr th:only-of-type {\n",
       "        vertical-align: middle;\n",
       "    }\n",
       "\n",
       "    .dataframe tbody tr th {\n",
       "        vertical-align: top;\n",
       "    }\n",
       "\n",
       "    .dataframe thead th {\n",
       "        text-align: right;\n",
       "    }\n",
       "</style>\n",
       "<table border=\"1\" class=\"dataframe\">\n",
       "  <thead>\n",
       "    <tr style=\"text-align: right;\">\n",
       "      <th></th>\n",
       "      <th>0</th>\n",
       "      <th>1</th>\n",
       "      <th>2</th>\n",
       "      <th>3</th>\n",
       "      <th>4</th>\n",
       "      <th>5</th>\n",
       "    </tr>\n",
       "  </thead>\n",
       "  <tbody>\n",
       "    <tr>\n",
       "      <th>0</th>\n",
       "      <td>-0.021839</td>\n",
       "      <td>0.000000</td>\n",
       "      <td>-0.769819</td>\n",
       "      <td>0.000000</td>\n",
       "      <td>0.791658</td>\n",
       "      <td>0.000000</td>\n",
       "    </tr>\n",
       "    <tr>\n",
       "      <th>1</th>\n",
       "      <td>0.000000</td>\n",
       "      <td>0.698843</td>\n",
       "      <td>0.000000</td>\n",
       "      <td>-0.365800</td>\n",
       "      <td>0.000000</td>\n",
       "      <td>-0.333042</td>\n",
       "    </tr>\n",
       "    <tr>\n",
       "      <th>2</th>\n",
       "      <td>0.698843</td>\n",
       "      <td>-0.021839</td>\n",
       "      <td>-0.365800</td>\n",
       "      <td>-0.769819</td>\n",
       "      <td>-0.333042</td>\n",
       "      <td>0.791658</td>\n",
       "    </tr>\n",
       "    <tr>\n",
       "      <th>3</th>\n",
       "      <td>-0.084163</td>\n",
       "      <td>0.000000</td>\n",
       "      <td>0.629391</td>\n",
       "      <td>0.000000</td>\n",
       "      <td>-0.545228</td>\n",
       "      <td>0.000000</td>\n",
       "    </tr>\n",
       "    <tr>\n",
       "      <th>4</th>\n",
       "      <td>0.000000</td>\n",
       "      <td>-0.644028</td>\n",
       "      <td>0.000000</td>\n",
       "      <td>0.468384</td>\n",
       "      <td>0.000000</td>\n",
       "      <td>0.175644</td>\n",
       "    </tr>\n",
       "    <tr>\n",
       "      <th>5</th>\n",
       "      <td>-0.644028</td>\n",
       "      <td>-0.084163</td>\n",
       "      <td>0.468384</td>\n",
       "      <td>0.629391</td>\n",
       "      <td>0.175644</td>\n",
       "      <td>-0.545228</td>\n",
       "    </tr>\n",
       "  </tbody>\n",
       "</table>\n",
       "</div>"
      ],
      "text/plain": [
       "          0         1         2         3         4         5\n",
       "0 -0.021839  0.000000 -0.769819  0.000000  0.791658  0.000000\n",
       "1  0.000000  0.698843  0.000000 -0.365800  0.000000 -0.333042\n",
       "2  0.698843 -0.021839 -0.365800 -0.769819 -0.333042  0.791658\n",
       "3 -0.084163  0.000000  0.629391  0.000000 -0.545228  0.000000\n",
       "4  0.000000 -0.644028  0.000000  0.468384  0.000000  0.175644\n",
       "5 -0.644028 -0.084163  0.468384  0.629391  0.175644 -0.545228"
      ]
     },
     "execution_count": 5,
     "metadata": {},
     "output_type": "execute_result"
    }
   ],
   "source": [
    "B = pd.read_csv(r'/Users/oscarbond/Documents/Bristol Year 4/FEA/Summative/Coding Answers Summative/B.csv', header= None)\n",
    "B"
   ]
  },
  {
   "cell_type": "code",
   "execution_count": 6,
   "metadata": {},
   "outputs": [
    {
     "data": {
      "text/html": [
       "<div>\n",
       "<style scoped>\n",
       "    .dataframe tbody tr th:only-of-type {\n",
       "        vertical-align: middle;\n",
       "    }\n",
       "\n",
       "    .dataframe tbody tr th {\n",
       "        vertical-align: top;\n",
       "    }\n",
       "\n",
       "    .dataframe thead th {\n",
       "        text-align: right;\n",
       "    }\n",
       "</style>\n",
       "<table border=\"1\" class=\"dataframe\">\n",
       "  <thead>\n",
       "    <tr style=\"text-align: right;\">\n",
       "      <th></th>\n",
       "      <th>0</th>\n",
       "      <th>1</th>\n",
       "      <th>2</th>\n",
       "    </tr>\n",
       "  </thead>\n",
       "  <tbody>\n",
       "    <tr>\n",
       "      <th>0</th>\n",
       "      <td>223.673400</td>\n",
       "      <td>82.728518</td>\n",
       "      <td>0.000000</td>\n",
       "    </tr>\n",
       "    <tr>\n",
       "      <th>1</th>\n",
       "      <td>82.728518</td>\n",
       "      <td>223.673400</td>\n",
       "      <td>0.000000</td>\n",
       "    </tr>\n",
       "    <tr>\n",
       "      <th>2</th>\n",
       "      <td>0.000000</td>\n",
       "      <td>0.000000</td>\n",
       "      <td>70.472441</td>\n",
       "    </tr>\n",
       "    <tr>\n",
       "      <th>3</th>\n",
       "      <td>313.383838</td>\n",
       "      <td>147.474748</td>\n",
       "      <td>0.000000</td>\n",
       "    </tr>\n",
       "    <tr>\n",
       "      <th>4</th>\n",
       "      <td>147.474748</td>\n",
       "      <td>313.383838</td>\n",
       "      <td>0.000000</td>\n",
       "    </tr>\n",
       "    <tr>\n",
       "      <th>5</th>\n",
       "      <td>0.000000</td>\n",
       "      <td>0.000000</td>\n",
       "      <td>82.954545</td>\n",
       "    </tr>\n",
       "  </tbody>\n",
       "</table>\n",
       "</div>"
      ],
      "text/plain": [
       "            0           1          2\n",
       "0  223.673400   82.728518   0.000000\n",
       "1   82.728518  223.673400   0.000000\n",
       "2    0.000000    0.000000  70.472441\n",
       "3  313.383838  147.474748   0.000000\n",
       "4  147.474748  313.383838   0.000000\n",
       "5    0.000000    0.000000  82.954545"
      ]
     },
     "execution_count": 6,
     "metadata": {},
     "output_type": "execute_result"
    }
   ],
   "source": [
    "D = pd.read_csv(r'/Users/oscarbond/Documents/Bristol Year 4/FEA/Summative/Coding Answers Summative/D.csv', header= None)\n",
    "D"
   ]
  },
  {
   "cell_type": "code",
   "execution_count": 7,
   "metadata": {},
   "outputs": [
    {
     "data": {
      "text/plain": [
       "array([[313.3838384 , 147.4747475 ,   0.        ],\n",
       "       [147.4747475 , 313.3838384 ,   0.        ],\n",
       "       [  0.        ,   0.        ,  82.95454545]])"
      ]
     },
     "execution_count": 7,
     "metadata": {},
     "output_type": "execute_result"
    }
   ],
   "source": [
    "D = D.iloc[3:6, :]\n",
    "D = D.to_numpy()\n",
    "D"
   ]
  },
  {
   "cell_type": "code",
   "execution_count": 8,
   "metadata": {},
   "outputs": [],
   "source": [
    "#delta = 0.9158\n",
    "\n",
    "delta = -1.3664"
   ]
  },
  {
   "cell_type": "code",
   "execution_count": 9,
   "metadata": {},
   "outputs": [],
   "source": [
    "B = B.iloc[3:6, :]\n",
    "B = B.to_numpy()\n",
    "\n",
    "#U = U.reshape((-1,1))"
   ]
  },
  {
   "cell_type": "code",
   "execution_count": 10,
   "metadata": {},
   "outputs": [
    {
     "data": {
      "text/plain": [
       "array([[-0.08416276,  0.        ,  0.6293911 ],\n",
       "       [ 0.        , -0.54522834,  0.        ],\n",
       "       [ 0.        , -0.6440281 ,  0.        ],\n",
       "       [ 0.46838408,  0.        ,  0.17564403],\n",
       "       [-0.6440281 , -0.08416276,  0.46838408],\n",
       "       [ 0.6293911 ,  0.17564403, -0.54522834]])"
      ]
     },
     "execution_count": 10,
     "metadata": {},
     "output_type": "execute_result"
    }
   ],
   "source": [
    "Bt = B.reshape((-1,3))\n",
    "Bt"
   ]
  },
  {
   "cell_type": "code",
   "execution_count": 11,
   "metadata": {},
   "outputs": [
    {
     "data": {
      "text/plain": [
       "array([[ -26.37524972,  -12.41188222,   52.21085269],\n",
       "       [ -80.40741133, -170.86574905,    0.        ],\n",
       "       [ -94.97788187, -201.82799896,    0.        ],\n",
       "       [ 146.78399927,   69.07482319,   14.5704705 ],\n",
       "       [-214.23988118, -121.35313159,   38.85458804],\n",
       "       [ 223.14405777,  147.86329339,  -45.22916886]])"
      ]
     },
     "execution_count": 11,
     "metadata": {},
     "output_type": "execute_result"
    }
   ],
   "source": [
    "BtD = np.matmul(Bt, D)\n",
    "BtD"
   ]
  },
  {
   "cell_type": "code",
   "execution_count": 12,
   "metadata": {},
   "outputs": [
    {
     "data": {
      "text/plain": [
       "array([[ -31.40544253,    3.59939134,    7.85438448,   27.04751809,\n",
       "          23.55105801,  -30.64690938],\n",
       "       [   6.7673099 ,  110.04234423,  -50.60770914,  -80.03079582,\n",
       "          43.84039916,  -30.01154841],\n",
       "       [   7.99360096,  129.9829033 ,  -59.77823364,  -94.5330206 ,\n",
       "          51.78463259,  -35.4498827 ],\n",
       "       [ -21.73753942,  -45.7124184 ,   99.20911926,   41.52407164,\n",
       "         -77.47157969,    4.18834678],\n",
       "       [  -6.99242628,   74.88471765, -116.64180442,  -32.38514235,\n",
       "         123.63423048,  -42.49957526],\n",
       "       [  10.34843537,  -91.42150452,  119.26026178,   40.78997551,\n",
       "        -129.60869693,   50.63152897]])"
      ]
     },
     "execution_count": 12,
     "metadata": {},
     "output_type": "execute_result"
    }
   ],
   "source": [
    "BtDB = np.matmul(BtD, B)\n",
    "BtDB"
   ]
  },
  {
   "cell_type": "code",
   "execution_count": 13,
   "metadata": {},
   "outputs": [
    {
     "data": {
      "text/plain": [
       "array([[  42.91239667,   -4.91820833,  -10.73223096,  -36.95772871,\n",
       "         -32.18016567,   41.87593697],\n",
       "       [  -9.24685225, -150.36185916,   69.15037378,  109.35407941,\n",
       "         -59.90352141,   41.00777975],\n",
       "       [ -10.92245635, -177.60863907,   81.68097845,  129.16991935,\n",
       "         -70.75852196,   48.43871972],\n",
       "       [  29.70217386,   62.4614485 , -135.55934055,  -56.73849149,\n",
       "         105.85716649,   -5.72295704],\n",
       "       [   9.55445127, -102.32247819,  159.37936155,   44.2510585 ,\n",
       "        -168.93381253,   58.07141964],\n",
       "       [ -14.1401021 ,  124.91834378, -162.95722169,  -55.73542254,\n",
       "         177.09732348,  -69.18292118]])"
      ]
     },
     "execution_count": 13,
     "metadata": {},
     "output_type": "execute_result"
    }
   ],
   "source": [
    "k = delta * BtDB\n",
    "k"
   ]
  },
  {
   "cell_type": "code",
   "execution_count": 14,
   "metadata": {},
   "outputs": [
    {
     "data": {
      "text/plain": [
       "(6, 6)"
      ]
     },
     "execution_count": 14,
     "metadata": {},
     "output_type": "execute_result"
    }
   ],
   "source": [
    "k.shape"
   ]
  },
  {
   "cell_type": "code",
   "execution_count": 106,
   "metadata": {},
   "outputs": [],
   "source": [
    "pd.DataFrame(k).to_csv(\"osc_stiffness_matrix.csv\")"
   ]
  },
  {
   "cell_type": "code",
   "execution_count": 18,
   "metadata": {},
   "outputs": [
    {
     "data": {
      "text/plain": [
       "array([-0.002775,  0.001096,  0.      ,  0.      ,  0.      ,  0.      ])"
      ]
     },
     "execution_count": 18,
     "metadata": {},
     "output_type": "execute_result"
    }
   ],
   "source": [
    "u1x = -0.002775\n",
    "u1y = 0.001096\n",
    "u = np.array([u1x, u1y, 0, 0, 0, 0])\n",
    "\n",
    "u"
   ]
  },
  {
   "cell_type": "code",
   "execution_count": 19,
   "metadata": {},
   "outputs": [
    {
     "data": {
      "text/plain": [
       "array([-0.12447226, -0.13913658, -0.16434925, -0.01396578, -0.13865904,\n",
       "        0.17614929])"
      ]
     },
     "execution_count": 19,
     "metadata": {},
     "output_type": "execute_result"
    }
   ],
   "source": [
    "F = np.matmul(k, u)\n",
    "F"
   ]
  },
  {
   "cell_type": "code",
   "execution_count": 20,
   "metadata": {},
   "outputs": [
    {
     "data": {
      "text/plain": [
       "array([118.4, 141.4,   0. ,   0. ,   0. ,   0. ])"
      ]
     },
     "execution_count": 20,
     "metadata": {},
     "output_type": "execute_result"
    }
   ],
   "source": [
    "F = np.array([118.4, 141.4, 0, 0, 0, 0])\n",
    "F"
   ]
  },
  {
   "cell_type": "code",
   "execution_count": 21,
   "metadata": {},
   "outputs": [
    {
     "data": {
      "text/plain": [
       "array([[-7.22962230e+13,  1.25718852e+14, -1.17926111e+14,\n",
       "         7.60174561e+13,  4.42853450e+13, -2.09234115e+13],\n",
       "       [ 1.99066214e+13,  1.85940789e+14, -1.55372627e+14,\n",
       "        -2.24056656e+13, -2.17691377e+13, -2.93948108e+12],\n",
       "       [ 4.71751540e+13,  7.11630990e+13, -4.81336294e+13,\n",
       "        -4.35400057e+13,  1.04798545e+13,  4.94337422e+13],\n",
       "       [-1.85808020e+13,  2.03515796e+14, -1.77856111e+14,\n",
       "         1.61094899e+13, -1.08787783e+13, -2.56048729e+13],\n",
       "       [ 6.56170444e+13,  6.27417414e+13, -3.73602935e+13,\n",
       "        -6.19951844e+13,  5.26155736e+12,  6.02942425e+13],\n",
       "       [ 1.22539751e+14,  1.39074102e+14, -9.54166701e+13,\n",
       "        -1.25112747e+14, -5.08100960e+13,  5.75015638e+13]])"
      ]
     },
     "execution_count": 21,
     "metadata": {},
     "output_type": "execute_result"
    }
   ],
   "source": [
    "k_inv = np.linalg.inv(k)\n",
    "k_inv"
   ]
  },
  {
   "cell_type": "code",
   "execution_count": 22,
   "metadata": {},
   "outputs": [
    {
     "data": {
      "text/plain": [
       "array([9.21677280e+15, 2.86489715e+16, 1.56480004e+16, 2.65771666e+16,\n",
       "       1.66407403e+16, 3.41737845e+16])"
      ]
     },
     "execution_count": 22,
     "metadata": {},
     "output_type": "execute_result"
    }
   ],
   "source": [
    "u = np.matmul(k_inv, F)\n",
    "u"
   ]
  },
  {
   "cell_type": "code",
   "execution_count": null,
   "metadata": {},
   "outputs": [],
   "source": []
  }
 ],
 "metadata": {
  "kernelspec": {
   "display_name": "Python 3",
   "language": "python",
   "name": "python3"
  },
  "language_info": {
   "codemirror_mode": {
    "name": "ipython",
    "version": 3
   },
   "file_extension": ".py",
   "mimetype": "text/x-python",
   "name": "python",
   "nbconvert_exporter": "python",
   "pygments_lexer": "ipython3",
   "version": "3.8.5"
  }
 },
 "nbformat": 4,
 "nbformat_minor": 4
}
